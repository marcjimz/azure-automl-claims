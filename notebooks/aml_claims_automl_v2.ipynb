{
  "cells": [
    {
      "cell_type": "markdown",
      "source": [
        "# AutoML: Train a classifier for your Claims dataset\n",
        "\n",
        "**Requirements**\n",
        "- A basic understanding of Machine Learning\n",
        "- An Azure account with an active subscription. [Create one for free](https://azure.microsoft.com/free/)\n",
        "- An Azure ML Workspace (see [this starter notebook](../../../resources/workspace/workspace.ipynb))\n",
        "- Python environment with Azure ML SDK v2:  \n",
        "  ```bash\n",
        "  pip install azure-ai-ml azure-identity mltable mlflow azureml-mlflow\n",
        "  ```\n",
        "\n",
        "**Learning Objectives**\n",
        "- Connect to your Azure ML workspace via the Python SDK\n",
        "- Create and run an AutoML **classification** job targeting `long_term_3y`\n",
        "- Use **serverless compute** (preview) for your job\n",
        "- Retrieve the best model via MLFlow and score new data\n"
      ],
      "metadata": {
        "nteract": {
          "transient": {
            "deleting": false
          }
        }
      }
    },
    {
      "cell_type": "markdown",
      "source": [
        "# 1. Connect to Azure Machine Learning Workspace\n",
        "\n",
        "We first authenticate and instantiate an `MLClient` to your workspace."
      ],
      "metadata": {
        "nteract": {
          "transient": {
            "deleting": false
          }
        }
      }
    },
    {
      "cell_type": "code",
      "source": [
        "# Import required libraries\n",
        "import os\n",
        "from azure.identity import DefaultAzureCredential\n",
        "from azure.ai.ml import MLClient, automl, Input\n",
        "from azure.ai.ml.constants import AssetTypes\n",
        "from azure.ai.ml.entities import ResourceConfiguration\n",
        "from azure.ai.ml.automl import ClassificationModels\n",
        "\n",
        "# For MLTable creation\n",
        "import mltable\n",
        "from mltable import DataType\n",
        "\n",
        "# For retrieving model via MLFlow\n",
        "import mlflow\n",
        "from mlflow.tracking.client import MlflowClient"
      ],
      "outputs": [],
      "execution_count": 12,
      "metadata": {
        "gather": {
          "logged": 1747285130496
        }
      }
    },
    {
      "cell_type": "code",
      "source": [
        "# Authenticate and connect to your workspace\n",
        "credential = DefaultAzureCredential()\n",
        "try:\n",
        "    ml_client = MLClient.from_config(credential)\n",
        "except Exception as ex:\n",
        "    print(\"Could not load from config:\\n\", ex)\n",
        "    # Fallback: manually specify\n",
        "    SUBSCRIPTION_ID = \"<your-subscription>\"\n",
        "    RESOURCE_GROUP  = \"<your-resource-group>\"\n",
        "    WORKSPACE_NAME  = \"<your-workspace-name>\"\n",
        "    ml_client = MLClient(\n",
        "        credential,\n",
        "        subscription_id=SUBSCRIPTION_ID,\n",
        "        resource_group_name=RESOURCE_GROUP,\n",
        "        workspace_name=WORKSPACE_NAME,\n",
        "    )\n",
        "\n",
        "# Display workspace info\n",
        "ws = ml_client.workspaces.get(ml_client.workspace_name)\n",
        "print(f\"Connected to {ws.name} in {ws.location} (RG: {ws.resource_group})\")"
      ],
      "outputs": [
        {
          "output_type": "stream",
          "name": "stderr",
          "text": "Found the config file in: /config.json\n"
        },
        {
          "output_type": "stream",
          "name": "stdout",
          "text": "Connected to uhg-rx-aml in westus (RG: uhg-rx-owca)\n"
        }
      ],
      "execution_count": 13,
      "metadata": {
        "gather": {
          "logged": 1747285143046
        }
      }
    },
    {
      "cell_type": "markdown",
      "source": [
        "# 2. Prepare your Claims data as an MLTable\n",
        "\n",
        "We’ll turn `claims.csv` into a local MLTable so AutoML can consume it.\n"
      ],
      "metadata": {
        "nteract": {
          "transient": {
            "deleting": false
          }
        }
      }
    },
    {
      "cell_type": "code",
      "source": [
        "# # 2.1 ── Create the MLTable from your CSV\n",
        "# os.makedirs(\"data/claims-mltable\", exist_ok=True)\n",
        "\n",
        "# # Write CSV into the MLTable folder\n",
        "# import shutil\n",
        "# shutil.copy(\"claims.csv\", \"data/claims-mltable/claims.csv\")\n",
        "\n",
        "# # Use mltable API to scaffold the MLTable file\n",
        "# paths = [{\"file\": \"./data/claims-mltable/claims.csv\"}]\n",
        "# tbl = mltable.from_delimited_files(paths=paths)\n",
        "# # Ensure target is treated as integer/category\n",
        "# tbl = tbl.convert_column_types({\n",
        "#     \"long_term_3y\": DataType.to_int64()\n",
        "# })\n",
        "# # Save MLTable.yaml\n",
        "# tbl.save(\"data/claims-mltable\")\n",
        "# print(\"MLTable created at ./data/claims-mltable\")"
      ],
      "outputs": [],
      "execution_count": 14,
      "metadata": {
        "gather": {
          "logged": 1747285173537
        }
      }
    },
    {
      "cell_type": "code",
      "source": [
        "# 2.2 ── Register the MLTable as an Input\n",
        "claims_data = Input(\n",
        "    type=AssetTypes.MLTABLE,\n",
        "    path=\"./claims\"\n",
        ")"
      ],
      "outputs": [],
      "execution_count": 15,
      "metadata": {
        "gather": {
          "logged": 1747285193216
        }
      }
    },
    {
      "cell_type": "markdown",
      "source": [
        "# 3. Configure and run the AutoML Classification job\n",
        "\n",
        "We now set up `automl.classification()`, target `long_term_3y`, use **serverless compute**, and submit."
      ],
      "metadata": {
        "nteract": {
          "transient": {
            "deleting": false
          }
        }
      }
    },
    {
      "cell_type": "code",
      "source": [
        "# 3.1 ── Job parameters\n",
        "experiment_name = \"claims-long-term-3y-classifier\"\n",
        "max_trials       = 20\n",
        "\n",
        "# Create the AutoML classification job\n",
        "classification_job = automl.classification(\n",
        "    experiment_name=experiment_name,\n",
        "    training_data=claims_data,\n",
        "    target_column_name=\"long_term_3y\",\n",
        "    primary_metric=\"accuracy\",\n",
        "    n_cross_validations=5,\n",
        "    enable_model_explainability=True,\n",
        "    tags={\"dataset\": \"claims\", \"task\": \"long_term_3y\"},\n",
        ")\n",
        "\n",
        "# Set limits for the AutoML run\n",
        "classification_job.set_limits(\n",
        "    timeout_minutes=60,\n",
        "    trial_timeout_minutes=10,\n",
        "    max_trials=max_trials,\n",
        "    enable_early_termination=True,\n",
        ")\n",
        "\n",
        "# Serverless compute resources used to run the job\n",
        "classification_job.resources = ResourceConfiguration(instance_type=\"Standard_E4s_v3\", instance_count=6)"
      ],
      "outputs": [],
      "execution_count": 18,
      "metadata": {
        "gather": {
          "logged": 1747285286894
        }
      }
    },
    {
      "cell_type": "code",
      "source": [
        "# 3.2 ── Submit the job\n",
        "returned_job = ml_client.jobs.create_or_update(classification_job)\n",
        "print(f\"Submitted AutoML job: {returned_job.name}\")\n",
        "\n",
        "# Stream logs\n",
        "ml_client.jobs.stream(returned_job.name)"
      ],
      "outputs": [
        {
          "output_type": "stream",
          "name": "stdout",
          "text": "Submitted AutoML job: serene_honey_4dw3g1xqhn\nRunId: serene_honey_4dw3g1xqhn\nWeb View: https://ml.azure.com/runs/serene_honey_4dw3g1xqhn?wsid=/subscriptions/28d2df62-e322-4b25-b581-c43b94bd2607/resourcegroups/uhg-rx-owca/workspaces/uhg-rx-aml\n"
        }
      ],
      "execution_count": 19,
      "metadata": {
        "gather": {
          "logged": 1747285227445
        }
      }
    },
    {
      "cell_type": "markdown",
      "source": [
        "# 4. Retrieve the Best Model via MLFlow\n",
        "\n",
        "AutoML logs each trial in MLFlow—grab the parent run’s URI, then fetch the best child.\n"
      ],
      "metadata": {
        "nteract": {
          "transient": {
            "deleting": false
          }
        }
      }
    },
    {
      "cell_type": "code",
      "source": [
        "# 4.1 ── Configure MLFlow\n",
        "tracking_uri = ml_client.workspaces.get(ml_client.workspace_name).mlflow_tracking_uri\n",
        "mlflow.set_tracking_uri(tracking_uri)\n",
        "print(\"MLFlow tracking @\", mlflow.get_tracking_uri())\n",
        "\n",
        "mlflow_client = MlflowClient()\n",
        "parent_run = mlflow_client.get_run(returned_job.name)\n",
        "print(\"Parent run status:\", parent_run.info.status)"
      ],
      "outputs": [],
      "execution_count": null,
      "metadata": {}
    },
    {
      "cell_type": "code",
      "source": [
        "# 4.2 ── List child runs and pick best by primary metric\n",
        "children = mlflow_client.search_runs([\n",
        "    mlflow.registered_model.SearchFilter(\n",
        "        attribute=\"tags.mlflow.parentRunId\",\n",
        "        operator=\"=\",\n",
        "        value=returned_job.name\n",
        "    )\n",
        "])\n",
        "best = sorted(children, key=lambda r: r.data.metrics.get('accuracy'), reverse=True)[0]\n",
        "print(f\"Best child run ID: {best.info.run_id}, accuracy: {best.data.metrics['accuracy']:.4f}\")"
      ],
      "outputs": [],
      "execution_count": null,
      "metadata": {}
    },
    {
      "cell_type": "markdown",
      "source": [
        "# 5. Score New Data\n",
        "\n",
        "Use the best model to score a hold-out or new CSV of claims. Here’s a simple example on the training set."
      ],
      "metadata": {
        "nteract": {
          "transient": {
            "deleting": false
          }
        }
      }
    },
    {
      "cell_type": "code",
      "source": [
        "from mlflow.pyfunc import load_model\n",
        "import pandas as pd\n",
        "\n",
        "# Load best model as an MLFlow pyfunc\n",
        "model_uri = f\"runs:/{best.info.run_id}/model\"\n",
        "clf = load_model(model_uri)\n",
        "\n",
        "# Read raw CSV\n",
        "df = pd.read_csv(\"claims.csv\")\n",
        "preds = clf.predict(df.drop(columns=['long_term_3y']))\n",
        "df['predicted_long_term_3y'] = preds\n",
        "df.head()"
      ],
      "outputs": [],
      "execution_count": null,
      "metadata": {}
    },
    {
      "cell_type": "markdown",
      "source": [
        "You’ve now trained, retrieved, and scored your claims classifier—all using serverless AutoML! From here you can register the model, deploy it to an endpoint, or integrate into your pipelines."
      ],
      "metadata": {
        "nteract": {
          "transient": {
            "deleting": false
          }
        }
      }
    }
  ],
  "metadata": {
    "kernelspec": {
      "name": "python310-sdkv2",
      "language": "python",
      "display_name": "Python 3.10 - SDK v2"
    },
    "language_info": {
      "name": "python",
      "version": "3.10.16",
      "mimetype": "text/x-python",
      "codemirror_mode": {
        "name": "ipython",
        "version": 3
      },
      "pygments_lexer": "ipython3",
      "nbconvert_exporter": "python",
      "file_extension": ".py"
    },
    "microsoft": {
      "ms_spell_check": {
        "ms_spell_check_language": "en"
      }
    },
    "kernel_info": {
      "name": "python310-sdkv2"
    },
    "nteract": {
      "version": "nteract-front-end@1.0.0"
    }
  },
  "nbformat": 4,
  "nbformat_minor": 2
}