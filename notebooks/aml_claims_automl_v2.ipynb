{
  "cells": [
    {
      "cell_type": "markdown",
      "source": [
        "# Azure Machine Learning - AutoML Experiment using v2 SDK\n",
        "\n",
        "Sample here can be run from an Azure ML Compute Instance using the Python 3.10 - SDK v2 Kernel"
      ],
      "metadata": {
        "nteract": {
          "transient": {
            "deleting": false
          }
        }
      }
    },
    {
      "cell_type": "markdown",
      "source": [
        "### Import required packages"
      ],
      "metadata": {
        "nteract": {
          "transient": {
            "deleting": false
          }
        }
      }
    },
    {
      "cell_type": "code",
      "source": [
        "# Import necessary packages and modules  \n",
        "from azure.ai.ml import MLClient, Input, automl\n",
        "from azure.ai.ml.entities import Data, AmlCompute, Model, ModelPackage, CodeConfiguration, AzureMLOnlineInferencingServer, ManagedOnlineEndpoint, ManagedOnlineDeployment, Environment\n",
        "from azure.ai.ml.constants import AssetTypes  \n",
        "from azure.ai.ml import automl\n",
        "from azure.identity import DefaultAzureCredential  \n",
        "import mltable  \n",
        "import pandas as pd    \n",
        "import numpy as np    \n",
        "import random"
      ],
      "outputs": [],
      "execution_count": 1,
      "metadata": {
        "gather": {
          "logged": 1748632861952
        }
      }
    },
    {
      "cell_type": "markdown",
      "source": [
        "### Instantiate ml_client"
      ],
      "metadata": {
        "nteract": {
          "transient": {
            "deleting": false
          }
        }
      }
    },
    {
      "cell_type": "code",
      "source": [
        "# Create MLClient object from configuration file and DefaultAzureCredential  \n",
        "ml_client = MLClient.from_config(credential=DefaultAzureCredential())  \n",
        "\n",
        "# Print the MLClient object  \n",
        "print(ml_client)  "
      ],
      "outputs": [
        {
          "output_type": "stream",
          "name": "stderr",
          "text": "Found the config file in: /config.json\n"
        },
        {
          "output_type": "stream",
          "name": "stdout",
          "text": "MLClient(credential=<azure.identity._credentials.default.DefaultAzureCredential object at 0x769c47ffd270>,\n         subscription_id=28d2df62-e322-4b25-b581-c43b94bd2607,\n         resource_group_name=uhg-rx-owca,\n         workspace_name=uhg-rx-aml)\n"
        }
      ],
      "execution_count": 2,
      "metadata": {
        "gather": {
          "logged": 1748632864248
        }
      }
    },
    {
      "cell_type": "markdown",
      "source": [
        "### Create compute cluster for AutoML training"
      ],
      "metadata": {
        "nteract": {
          "transient": {
            "deleting": false
          }
        }
      }
    },
    {
      "cell_type": "code",
      "source": [
        "# Define the name of the CPU compute target to be used or created  \n",
        "cpu_compute_target = \"cpu-cluster\"  \n",
        "  \n",
        "try:  \n",
        "    # Try to get the details of the specified compute target if it already exists  \n",
        "    ml_client.compute.get(cpu_compute_target)  \n",
        "except Exception:  \n",
        "    # If the compute target does not exist, catch the exception and create a new one  \n",
        "    print(\"Creating a new cpu compute target...\")  \n",
        "    # Define the compute target specifications such as name, VM size, and instance limits  \n",
        "    compute = AmlCompute(  \n",
        "        name=cpu_compute_target, size=\"STANDARD_D2_V2\", min_instances=0, max_instances=4  \n",
        "    )  \n",
        "    # Initiate the creation or update of the compute target and wait for the operation to complete  \n",
        "    ml_client.compute.begin_create_or_update(compute).result() "
      ],
      "outputs": [],
      "execution_count": 3,
      "metadata": {
        "gather": {
          "logged": 1748632864513
        }
      }
    },
    {
      "cell_type": "markdown",
      "source": [
        "### Split data into train/validation/test subsets\n",
        "\n",
        "Split by 60/20/20 or you can change. Be sure to use stratification to keep representative samples of your population."
      ],
      "metadata": {
        "nteract": {
          "transient": {
            "deleting": false
          }
        }
      }
    },
    {
      "cell_type": "code",
      "source": [
        "import pandas as pd\n",
        "from sklearn.model_selection import train_test_split\n",
        "import os\n",
        "\n",
        "# ─── Configuration ──────────────────────────────────────────────────────────\n",
        "input_path   = 'claims/claims_short.csv'\n",
        "output_dir   = 'claims/claims_short'\n",
        "target_col   = 'long_term_3y'\n",
        "\n",
        "# ratios must sum to 1.0\n",
        "train_ratio  = 0.6\n",
        "test_ratio   = 0.2\n",
        "validate_ratio = 0.2\n",
        "\n",
        "random_state = 42  # for reproducibility\n",
        "# ─── End configuration ──────────────────────────────────────────────────────"
      ],
      "outputs": [],
      "execution_count": 4,
      "metadata": {
        "gather": {
          "logged": 1748632867944
        }
      }
    },
    {
      "cell_type": "code",
      "source": [
        "# 0) Create directory\n",
        "def ensure_dir(directory: str):\n",
        "    \"\"\"\n",
        "    Create `directory` (and any parents) if it doesn't already exist.\n",
        "    \"\"\"\n",
        "    os.makedirs(directory+'/train', exist_ok=True)\n",
        "    os.makedirs(directory+'/test', exist_ok=True)\n",
        "    os.makedirs(directory+'/validate', exist_ok=True)\n",
        "ensure_dir(output_dir)\n",
        "\n",
        "# 1) Load the full dataset\n",
        "df = pd.read_csv(input_path)\n",
        "\n",
        "# 2) First split off training set\n",
        "temp_ratio = test_ratio + validate_ratio\n",
        "df_train, df_temp = train_test_split(\n",
        "    df,\n",
        "    test_size=temp_ratio,\n",
        "    random_state=random_state,\n",
        "    shuffle=True,\n",
        "    stratify=df[target_col]  # uncomment to preserve class balance\n",
        ")\n",
        "\n",
        "# 3) Split the remainder into test + validate\n",
        "#    Compute test size as a fraction of the \"temp\" set\n",
        "test_frac_of_temp = test_ratio / temp_ratio\n",
        "\n",
        "df_test, df_validate = train_test_split(\n",
        "    df_temp,\n",
        "    test_size=test_frac_of_temp,\n",
        "    random_state=random_state,\n",
        "    shuffle=True,\n",
        "    # stratify=df_temp[target_col]\n",
        ")\n",
        "\n",
        "# 4) Save to CSV (headers preserved, no extra index column)\n",
        "df_train.to_csv(f'{output_dir}/train/train.csv',     index=False)\n",
        "df_test.to_csv( f'{output_dir}/test/test.csv',      index=False)\n",
        "df_validate.to_csv(f'{output_dir}/validate/validate.csv', index=False)\n",
        "\n",
        "print(f'Train: {len(df_train)} rows')\n",
        "print(f'Test:  {len(df_test)} rows')\n",
        "print(f'Validate: {len(df_validate)} rows')"
      ],
      "outputs": [
        {
          "output_type": "stream",
          "name": "stdout",
          "text": "Train: 316 rows\nTest:  105 rows\nValidate: 106 rows\n"
        }
      ],
      "execution_count": 5,
      "metadata": {
        "gather": {
          "logged": 1748632868262
        }
      }
    },
    {
      "cell_type": "code",
      "source": [
        "def register_mltable_dataset(\n",
        "    ml_client: MLClient,\n",
        "    *,\n",
        "    name: str,\n",
        "    description: str,\n",
        "    local_dir: str,\n",
        "    csv_paths: list[str]\n",
        "):\n",
        "    \"\"\"\n",
        "    Reads one or more CSVs into an MLTable, saves locally, then\n",
        "    registers (or updates) it in your Azure ML workspace.\n",
        "\n",
        "    Returns the full Data asset (with version etc).\n",
        "    \"\"\"\n",
        "\n",
        "    # 1) build and save the MLTable definition\n",
        "    paths_spec = [{\"file\": p} for p in csv_paths]\n",
        "    tbl = mltable.from_delimited_files(paths=paths_spec)\n",
        "    tbl.save(local_dir)\n",
        "\n",
        "    # 2) create or update the Data asset\n",
        "    data_asset = Data(\n",
        "        path=local_dir,\n",
        "        type=AssetTypes.MLTABLE,\n",
        "        description=description,\n",
        "        name=name,\n",
        "    )\n",
        "    registered = ml_client.data.create_or_update(data_asset)\n",
        "\n",
        "    # 3) fetch full metadata (including version)\n",
        "    return ml_client.data.get(name=name, version=registered.version)"
      ],
      "outputs": [],
      "execution_count": 6,
      "metadata": {
        "gather": {
          "logged": 1748632868317
        }
      }
    },
    {
      "cell_type": "markdown",
      "source": [
        "### Register datasets into the Azure ML workspace for use in model training"
      ],
      "metadata": {
        "nteract": {
          "transient": {
            "deleting": false
          }
        }
      }
    },
    {
      "cell_type": "code",
      "source": [
        "# ─── Define your split metadata ────────────────────────────────────────────────\n",
        "train_name        = \"TRAIN_ClaimsOWCA\"\n",
        "train_description = \"Training split for claims\"\n",
        "train_dir         = \"./claims/claims_short/train\"\n",
        "\n",
        "test_name         = \"TEST_ClaimsOWCA\"\n",
        "test_description  = \"Test split for claims\"\n",
        "test_dir         = \"./claims/claims_short/test\"\n",
        "\n",
        "validate_name        = \"VALIDATE_ClaimsOWCA\"\n",
        "validate_description = \"Validation split for claims\"\n",
        "validate_dir         = \"./claims/claims_short/validate\"\n",
        "# ─── End metadata ───────────────────────────────────────────────────────────────\n",
        "\n",
        "# Now use those when you register each MLTable\n",
        "train_asset = register_mltable_dataset(\n",
        "    ml_client,\n",
        "    name=train_name,\n",
        "    description=train_description,\n",
        "    local_dir=f\"{train_dir}\",\n",
        "    csv_paths=[f\"{train_dir}/train.csv\"],\n",
        ")\n",
        "\n",
        "test_asset = register_mltable_dataset(\n",
        "    ml_client,\n",
        "    name=test_name,\n",
        "    description=test_description,\n",
        "    local_dir=f\"{test_dir}\",\n",
        "    csv_paths=[f\"{test_dir}/test.csv\"],\n",
        ")\n",
        "\n",
        "validation_asset = register_mltable_dataset(\n",
        "    ml_client,\n",
        "    name=validate_name,\n",
        "    description=validate_description,\n",
        "    local_dir=f\"{validate_dir}/validate\",\n",
        "    csv_paths=[f\"{validate_dir}/validate.csv\"],\n",
        ")"
      ],
      "outputs": [],
      "execution_count": 7,
      "metadata": {
        "gather": {
          "logged": 1748633484233
        }
      }
    },
    {
      "cell_type": "code",
      "source": [
        "validation_asset"
      ],
      "outputs": [
        {
          "output_type": "execute_result",
          "execution_count": 8,
          "data": {
            "text/plain": "Data({'path': 'azureml://subscriptions/28d2df62-e322-4b25-b581-c43b94bd2607/resourcegroups/uhg-rx-owca/workspaces/uhg-rx-aml/datastores/workspaceblobstore/paths/LocalUpload/81be9d122e795c49322379f2fc200604/validate/', 'skip_validation': False, 'mltable_schema_url': None, 'referenced_uris': ['../validate.csv'], 'type': 'mltable', 'is_anonymous': False, 'auto_increment_version': False, 'auto_delete_setting': None, 'name': 'VALIDATE_ClaimsOWCA', 'description': 'Validation split for claims', 'tags': {}, 'properties': {}, 'print_as_yaml': False, 'id': '/subscriptions/28d2df62-e322-4b25-b581-c43b94bd2607/resourceGroups/uhg-rx-owca/providers/Microsoft.MachineLearningServices/workspaces/uhg-rx-aml/data/VALIDATE_ClaimsOWCA/versions/8', 'Resource__source_path': '', 'base_path': '/mnt/batch/tasks/shared/LS_root/mounts/clusters/marcjimenez-ci/code/Users/marcjimenez', 'creation_context': <azure.ai.ml.entities._system_data.SystemData object at 0x769c014aea40>, 'serialize': <msrest.serialization.Serializer object at 0x769c014f3430>, 'version': '8', 'latest_version': None, 'datastore': None})"
          },
          "metadata": {}
        }
      ],
      "execution_count": 8,
      "metadata": {
        "gather": {
          "logged": 1748633484327
        }
      }
    },
    {
      "cell_type": "code",
      "source": [
        "# Define the input data for the training job using the Azure ML dataset identifier for the training dataset  \n",
        "training_input = Input(path=f'azureml:{train_name}:{train_asset.version}')  \n",
        "  \n",
        "# Define the input data for the validation during training using the Azure ML dataset identifier for the validation dataset  \n",
        "test_input = Input(path=f'azureml:{test_name}:{test_asset.version}')  \n",
        "\n",
        "# Define the input data for the validation during training using the Azure ML dataset identifier for the validation dataset  \n",
        "validation_input = Input(path=f'azureml:{validate_name}:{validation_asset.version}')  \n"
      ],
      "outputs": [],
      "execution_count": 9,
      "metadata": {
        "gather": {
          "logged": 1748633484379
        }
      }
    },
    {
      "cell_type": "markdown",
      "source": [
        "### Set up and run an AutoML job\n",
        "\n",
        "Update the AutoML task as you see fit, add more models, add more CVs, etc."
      ],
      "metadata": {
        "nteract": {
          "transient": {
            "deleting": false
          }
        }
      }
    },
    {
      "cell_type": "code",
      "source": [
        "experiment_name = \"claims-long-term-3y-classifier\"\n",
        "max_trials       = 4 #increase this to harden the number of trials per models\n",
        "\n",
        "# Create the AutoML classification job\n",
        "# AutoML metrics: https://learn.microsoft.com/en-us/azure/machine-learning/how-to-understand-automated-ml?view=azureml-api-2#classification-metrics\n",
        "classification_job = automl.classification(\n",
        "    experiment_name=experiment_name,\n",
        "    compute=cpu_compute_target,\n",
        "    training_data=training_input,  \n",
        "    test_data=test_input,\n",
        "    target_column_name=\"long_term_3y\",\n",
        "    primary_metric=\"AUC_weighted\", #https://learn.microsoft.com/en-us/azure/machine-learning/how-to-configure-auto-train?view=azureml-api-2&tabs=python#metrics-for-classification-multi-class-scenarios\n",
        "    positive_label=\"1\",\n",
        "    n_cross_validations=5,\n",
        "    enable_model_explainability=True,\n",
        "    tags={\"dataset\": \"claims\", \"task\": \"long_term_3y\"},\n",
        ")\n",
        "\n",
        "# Set limits for the AutoML run\n",
        "classification_job.set_limits(\n",
        "    timeout_minutes=60,\n",
        "    trial_timeout_minutes=10,\n",
        "    max_trials=max_trials,\n",
        "    enable_early_termination=True,\n",
        ")\n",
        "\n",
        "classification_job.set_training(\n",
        "    allowed_training_algorithms=[\"XGBoostClassifier\"],\n",
        ")\n",
        "\n",
        "classification_job.set_featurization(  \n",
        "    mode='auto'  \n",
        ") "
      ],
      "outputs": [],
      "execution_count": 10,
      "metadata": {
        "gather": {
          "logged": 1748633484432
        }
      }
    },
    {
      "cell_type": "code",
      "source": [
        "# Submit the configured AutoML job to the Azure ML workspace and print the job details  \n",
        "returned_job = ml_client.jobs.create_or_update(  \n",
        "    classification_job  \n",
        ")  \n",
        "  \n",
        "print(f\"Created job: {returned_job}\")  \n",
        "  \n",
        "# Retrieve and print the URL for monitoring the status of the submitted job in Azure Machine Learning Studio  \n",
        "returned_job.services[\"Studio\"].endpoint  "
      ],
      "outputs": [
        {
          "output_type": "stream",
          "name": "stdout",
          "text": "Created job: compute: azureml:cpu-cluster\ncreation_context:\n  created_at: '2025-05-30T19:31:25.562132+00:00'\n  created_by: Marcin Jimenez\n  created_by_type: User\ndisplay_name: funny_crowd_95fdnzy6jj\nexperiment_name: claims-long-term-3y-classifier\nfeaturization:\n  enable_dnn_featurization: false\n  mode: auto\nid: azureml:/subscriptions/28d2df62-e322-4b25-b581-c43b94bd2607/resourceGroups/uhg-rx-owca/providers/Microsoft.MachineLearningServices/workspaces/uhg-rx-aml/jobs/funny_crowd_95fdnzy6jj\nlimits:\n  enable_early_termination: true\n  max_concurrent_trials: 1\n  max_cores_per_trial: -1\n  max_nodes: 1\n  max_trials: 4\n  timeout_minutes: 60\n  trial_timeout_minutes: 10\nlog_verbosity: info\nn_cross_validations: 5\nname: funny_crowd_95fdnzy6jj\noutputs: {}\npositive_label: '1'\nprimary_metric: auc_weighted\nproperties: {}\nqueue_settings:\n  job_tier: 'null'\nresources:\n  instance_count: 1\n  shm_size: 2g\nservices:\n  Studio:\n    endpoint: https://ml.azure.com/runs/funny_crowd_95fdnzy6jj?wsid=/subscriptions/28d2df62-e322-4b25-b581-c43b94bd2607/resourcegroups/uhg-rx-owca/workspaces/uhg-rx-aml&tid=7621c2b4-468f-45a0-a5ae-270c4fad8d75\n  Tracking:\n    endpoint: azureml://westus.api.azureml.ms/mlflow/v1.0/subscriptions/28d2df62-e322-4b25-b581-c43b94bd2607/resourceGroups/uhg-rx-owca/providers/Microsoft.MachineLearningServices/workspaces/uhg-rx-aml?\nstatus: NotStarted\ntags:\n  dataset: claims\n  task: long_term_3y\ntarget_column_name: long_term_3y\ntask: classification\ntest_data:\n  path: azureml:/subscriptions/28d2df62-e322-4b25-b581-c43b94bd2607/resourceGroups/uhg-rx-owca/providers/Microsoft.MachineLearningServices/workspaces/uhg-rx-aml/data/TEST_ClaimsOWCA/versions/8\n  type: mltable\ntraining:\n  allowed_training_algorithms:\n  - xg_boost_classifier\n  enable_dnn_training: false\n  enable_model_explainability: true\n  enable_onnx_compatible_models: false\n  enable_stack_ensemble: true\n  enable_vote_ensemble: true\n  ensemble_model_download_timeout_minutes: 5\n  training_mode: auto\ntraining_data:\n  path: azureml:/subscriptions/28d2df62-e322-4b25-b581-c43b94bd2607/resourceGroups/uhg-rx-owca/providers/Microsoft.MachineLearningServices/workspaces/uhg-rx-aml/data/TRAIN_ClaimsOWCA/versions/10\n  type: mltable\ntype: automl\nvalidation_data:\n  type: mltable\n\n"
        },
        {
          "output_type": "execute_result",
          "execution_count": 11,
          "data": {
            "text/plain": "'https://ml.azure.com/runs/funny_crowd_95fdnzy6jj?wsid=/subscriptions/28d2df62-e322-4b25-b581-c43b94bd2607/resourcegroups/uhg-rx-owca/workspaces/uhg-rx-aml&tid=7621c2b4-468f-45a0-a5ae-270c4fad8d75'"
          },
          "metadata": {}
        }
      ],
      "execution_count": 11,
      "metadata": {
        "gather": {
          "logged": 1748633486273
        }
      }
    },
    {
      "cell_type": "markdown",
      "source": [
        "### Monitor AutoML job progress"
      ],
      "metadata": {
        "nteract": {
          "transient": {
            "deleting": false
          }
        }
      }
    },
    {
      "cell_type": "code",
      "source": [
        "import time  # Import the time module to use the sleep function  \n",
        "  \n",
        "status = ''  # Initialize the status variable as an empty string  \n",
        "  \n",
        "# Start a while loop that will run as long as status is not 'Completed' or 'Failed'  \n",
        "while status != 'Completed' and status != 'Failed':  \n",
        "    # Call the get method on ml_client.jobs using the display_name of the job to get the current status  \n",
        "    status = ml_client.jobs.get(returned_job.display_name).status  \n",
        "    print(status)  # Print the current status  \n",
        "    time.sleep(30)  # Pause the loop for 30 seconds before checking the status again "
      ],
      "outputs": [
        {
          "output_type": "stream",
          "name": "stdout",
          "text": "NotStarted\nRunning\nRunning\nRunning\nRunning\nRunning\nRunning\nRunning\nRunning\nRunning\nRunning\nRunning\nRunning\nRunning\nRunning\nRunning\nRunning\nRunning\nRunning\nRunning\nRunning\nRunning\nRunning\nRunning\nRunning\nRunning\nRunning\nRunning\nRunning\nRunning\nRunning\nRunning\nRunning\nRunning\nCompleted\n"
        }
      ],
      "execution_count": 12,
      "metadata": {
        "gather": {
          "logged": 1748634560961
        }
      }
    },
    {
      "cell_type": "markdown",
      "source": [
        "### Retrieve and register best performing model"
      ],
      "metadata": {
        "nteract": {
          "transient": {
            "deleting": false
          }
        }
      }
    },
    {
      "cell_type": "code",
      "source": [
        "import mlflow  \n",
        "from mlflow.tracking.client import MlflowClient  # Import MlflowClient for tracking ML experiments  \n",
        "from mlflow.artifacts import download_artifacts  # Import download_artifacts for managing artifacts  \n",
        "  \n",
        "# Obtain the tracking URL from MLClient  \n",
        "# This retrieves the MLflow tracking URL for the current workspace from MLClient  \n",
        "mlflow_tracking_uri = ml_client.workspaces.get(  \n",
        "    name=ml_client.workspace_name  \n",
        ").mlflow_tracking_uri  \n",
        "  \n",
        "# Print out the obtained MLflow tracking URI  \n",
        "print(mlflow_tracking_uri)  \n",
        "  \n",
        "# Set the tracking URI for MLflow,   \n",
        "# This ensures that MLflow logs to the correct tracking server  \n",
        "mlflow.set_tracking_uri(mlflow_tracking_uri)  \n",
        "  \n",
        "# Print the current tracking URI to verify it's been set correctly  \n",
        "print(\"\\nCurrent tracking uri: {}\".format(mlflow.get_tracking_uri()))  \n",
        "  \n",
        "# Initialize the MLFlow client  \n",
        "# This creates an instance of MlflowClient which will be used to interact with the MLflow tracking server  \n",
        "mlflow_client = MlflowClient() "
      ],
      "outputs": [
        {
          "output_type": "stream",
          "name": "stdout",
          "text": "azureml://westus.api.azureml.ms/mlflow/v2.0/subscriptions/28d2df62-e322-4b25-b581-c43b94bd2607/resourceGroups/uhg-rx-owca/providers/Microsoft.MachineLearningServices/workspaces/uhg-rx-aml\n\nCurrent tracking uri: azureml://westus.api.azureml.ms/mlflow/v2.0/subscriptions/28d2df62-e322-4b25-b581-c43b94bd2607/resourceGroups/uhg-rx-owca/providers/Microsoft.MachineLearningServices/workspaces/uhg-rx-aml\n"
        }
      ],
      "execution_count": 13,
      "metadata": {
        "gather": {
          "logged": 1748634677455
        }
      }
    },
    {
      "cell_type": "code",
      "source": [
        "# Get the parent run  \n",
        "# This retrieves the details of the parent run from MLflow using the display name of the job  \n",
        "mlflow_parent_run = mlflow_client.get_run(returned_job.display_name)  \n",
        "  \n",
        "# Print information about the parent run for verification  \n",
        "print(\"Parent Run: \")  \n",
        "print(mlflow_parent_run)  # Print the entire parent run object  \n",
        "print(mlflow_parent_run.data.tags)  # Specifically print the tags associated with the parent run  \n",
        "  \n",
        "# Get the best model's child run  \n",
        "# Extract the ID of the best child run from the tags of the parent run  \n",
        "best_child_run_id = mlflow_parent_run.data.tags[\"automl_best_child_run_id\"]  \n",
        "# Print the retrieved best child run ID  \n",
        "print(\"Found best child run id: \", best_child_run_id)  \n",
        "  \n",
        "# Retrieve the best child run's details using its ID  \n",
        "best_run = mlflow_client.get_run(best_child_run_id)  \n",
        "  \n",
        "# Print information about the best child run for verification  \n",
        "print(\"Best child run: \")  \n",
        "print(best_run)  # Print the entire best child run object"
      ],
      "outputs": [
        {
          "output_type": "stream",
          "name": "stdout",
          "text": "Parent Run: \n<Run: data=<RunData: metrics={'AUC_macro': 1.0,\n 'AUC_micro': 0.9997542969734191,\n 'AUC_weighted': 1.0,\n 'accuracy': 0.9905753968253969,\n 'average_precision_score_macro': 1.0,\n 'average_precision_score_micro': 0.9997595460095459,\n 'average_precision_score_weighted': 1.0,\n 'balanced_accuracy': 0.9904007455731595,\n 'f1_score_macro': 0.9903941381842648,\n 'f1_score_micro': 0.9905753968253969,\n 'f1_score_weighted': 0.9905588004672878,\n 'log_loss': 0.022294246035013177,\n 'matthews_correlation': 0.9812831253265701,\n 'norm_macro_recall': 0.9808014911463188,\n 'precision_score_macro': 0.9908908908908909,\n 'precision_score_micro': 0.9905753968253969,\n 'precision_score_weighted': 0.9910308125585903,\n 'recall_score_macro': 0.9904007455731595,\n 'recall_score_micro': 0.9905753968253969,\n 'recall_score_weighted': 0.9905753968253969,\n 'weighted_accuracy': 0.9907667036689018}, params={}, tags={'automl_best_child_run_id': 'funny_crowd_95fdnzy6jj_0',\n 'dataset': 'claims',\n 'fit_time_000': '0.4049835999999999;0.07688799999999998;2;5',\n 'iteration_000': '0;1;2;3',\n 'mlflow.rootRunId': 'funny_crowd_95fdnzy6jj',\n 'mlflow.runName': 'funny_crowd_95fdnzy6jj',\n 'mlflow.user': 'Marcin Jimenez',\n 'model_explain_best_run_child_id': 'funny_crowd_95fdnzy6jj_0',\n 'model_explain_run': 'best_run',\n 'pipeline_id_000': 'c7af0367625be6ac5c2fecbfc72ed444cb7a2111;a3dadd95854bf6116ab454844302b51d417d78b7;__AutoML_Ensemble__;__AutoML_Stack_Ensemble__',\n 'predicted_cost_000': '0;0.5;0;0',\n 'run_algorithm_000': 'XGBoostClassifier;XGBoostClassifier;VotingEnsemble;StackEnsemble',\n 'run_preprocessor_000': 'MaxAbsScaler;SparseNormalizer;;',\n 'score_000': '1;0.9797396724979712;1;0.9994088669950738',\n 'task': 'long_term_3y',\n 'training_percent_000': '100;100;100;100'}>, info=<RunInfo: artifact_uri='azureml://westus.api.azureml.ms/mlflow/v2.0/subscriptions/28d2df62-e322-4b25-b581-c43b94bd2607/resourceGroups/uhg-rx-owca/providers/Microsoft.MachineLearningServices/workspaces/uhg-rx-aml/experiments/65329dda-53a4-4cd2-9e80-1b8da3d03c6b/runs/funny_crowd_95fdnzy6jj/artifacts', end_time=1748634527975, experiment_id='65329dda-53a4-4cd2-9e80-1b8da3d03c6b', lifecycle_stage='active', run_id='funny_crowd_95fdnzy6jj', run_name='funny_crowd_95fdnzy6jj', run_uuid='funny_crowd_95fdnzy6jj', start_time=1748633499686, status='FINISHED', user_id='2bf166bf-a7fe-4eab-ab9e-fe6c4a71fd01'>, inputs=<RunInputs: dataset_inputs=[]>>\n{'dataset': 'claims', 'task': 'long_term_3y', 'model_explain_run': 'best_run', 'pipeline_id_000': 'c7af0367625be6ac5c2fecbfc72ed444cb7a2111;a3dadd95854bf6116ab454844302b51d417d78b7;__AutoML_Ensemble__;__AutoML_Stack_Ensemble__', 'score_000': '1;0.9797396724979712;1;0.9994088669950738', 'predicted_cost_000': '0;0.5;0;0', 'fit_time_000': '0.4049835999999999;0.07688799999999998;2;5', 'training_percent_000': '100;100;100;100', 'iteration_000': '0;1;2;3', 'run_preprocessor_000': 'MaxAbsScaler;SparseNormalizer;;', 'run_algorithm_000': 'XGBoostClassifier;XGBoostClassifier;VotingEnsemble;StackEnsemble', 'automl_best_child_run_id': 'funny_crowd_95fdnzy6jj_0', 'model_explain_best_run_child_id': 'funny_crowd_95fdnzy6jj_0', 'mlflow.rootRunId': 'funny_crowd_95fdnzy6jj', 'mlflow.runName': 'funny_crowd_95fdnzy6jj', 'mlflow.user': 'Marcin Jimenez'}\nFound best child run id:  funny_crowd_95fdnzy6jj_0\nBest child run: \n<Run: data=<RunData: metrics={'AUC_macro': 1.0,\n 'AUC_micro': 0.9997542969734191,\n 'AUC_weighted': 1.0,\n 'accuracy': 0.9905753968253969,\n 'average_precision_score_macro': 1.0,\n 'average_precision_score_micro': 0.9997595460095459,\n 'average_precision_score_weighted': 1.0,\n 'balanced_accuracy': 0.9904007455731595,\n 'f1_score_macro': 0.9903941381842648,\n 'f1_score_micro': 0.9905753968253969,\n 'f1_score_weighted': 0.9905588004672878,\n 'log_loss': 0.022294246035013177,\n 'matthews_correlation': 0.9812831253265701,\n 'norm_macro_recall': 0.9808014911463188,\n 'precision_score_macro': 0.9908908908908909,\n 'precision_score_micro': 0.9905753968253969,\n 'precision_score_weighted': 0.9910308125585903,\n 'recall_score_macro': 0.9904007455731595,\n 'recall_score_micro': 0.9905753968253969,\n 'recall_score_weighted': 0.9905753968253969,\n 'weighted_accuracy': 0.9907667036689018}, params={}, tags={'mlflow.parentRunId': 'funny_crowd_95fdnzy6jj',\n 'mlflow.rootRunId': 'funny_crowd_95fdnzy6jj',\n 'mlflow.runName': 'epic_prune_nzd9g1rf',\n 'mlflow.user': 'Marcin Jimenez',\n 'model_explain_run_id': 'funny_crowd_95fdnzy6jj_ModelExplain',\n 'model_explanation': 'True'}>, info=<RunInfo: artifact_uri='azureml://westus.api.azureml.ms/mlflow/v2.0/subscriptions/28d2df62-e322-4b25-b581-c43b94bd2607/resourceGroups/uhg-rx-owca/providers/Microsoft.MachineLearningServices/workspaces/uhg-rx-aml/experiments/65329dda-53a4-4cd2-9e80-1b8da3d03c6b/runs/funny_crowd_95fdnzy6jj_0/artifacts', end_time=1748634321060, experiment_id='65329dda-53a4-4cd2-9e80-1b8da3d03c6b', lifecycle_stage='active', run_id='funny_crowd_95fdnzy6jj_0', run_name='epic_prune_nzd9g1rf', run_uuid='funny_crowd_95fdnzy6jj_0', start_time=1748634279040, status='FINISHED', user_id='2bf166bf-a7fe-4eab-ab9e-fe6c4a71fd01'>, inputs=<RunInputs: dataset_inputs=[]>>\n"
        }
      ],
      "execution_count": 14,
      "metadata": {
        "gather": {
          "logged": 1748634680938
        }
      }
    },
    {
      "cell_type": "code",
      "source": [
        "# Define the model name to be used for the registered model  \n",
        "model_name = \"claims-3y-classification\"  \n",
        "  \n",
        "# Create a Model object with the path to the MLflow model artifacts from the best run,  \n",
        "# the name for the model, a description, and the type specifying it's an MLflow model  \n",
        "model = Model(  \n",
        "    path=f\"azureml://jobs/{best_run.info.run_id}/outputs/artifacts/outputs/mlflow-model/\", # Path to the model artifacts  \n",
        "    name=model_name,  # Name for the model  \n",
        "    description=\"classification model\", # Description of the model purpose  \n",
        "    type=AssetTypes.MLFLOW_MODEL,  # Type of the model, indicating it's an MLflow model  \n",
        ")  \n",
        "  \n",
        "# Register the model in Azure Machine Learning workspace or update if it already exists  \n",
        "# This step makes the model available for deployment and further tracking  \n",
        "registered_model = ml_client.models.create_or_update(model)  "
      ],
      "outputs": [],
      "execution_count": 15,
      "metadata": {
        "gather": {
          "logged": 1748634696934
        }
      }
    },
    {
      "cell_type": "markdown",
      "source": [
        "### Retrieve a copy of the best performing model and download locally"
      ],
      "metadata": {
        "nteract": {
          "transient": {
            "deleting": false
          }
        }
      }
    },
    {
      "cell_type": "code",
      "source": [
        "\n",
        "# Define the local directory path where artifacts will be downloaded  \n",
        "local_dir = \"./artifact_downloads\"  \n",
        "# Check if the local directory exists, and if not, create it  \n",
        "if not os.path.exists(local_dir):  \n",
        "    os.mkdir(local_dir)  \n",
        "      \n",
        "# Download run's artifacts/outputs  \n",
        "# Download the artifacts associated with the specified run ID and save them to the local directory  \n",
        "local_path = download_artifacts(  \n",
        "    run_id=best_run.info.run_id,  # The run ID of the best child run  \n",
        "    artifact_path=\"outputs\",  # The artifact path within the run to download  \n",
        "    dst_path=local_dir  # The destination path where artifacts will be saved locally  \n",
        ")  \n",
        "# Print the local path where artifacts were downloaded to confirm the action  \n",
        "print(\"Artifacts downloaded in: {}\".format(local_path))  \n",
        "# List the contents of the downloaded artifacts directory and print them out  \n",
        "print(\"Artifacts: {}\".format(os.listdir(local_path)))  "
      ],
      "outputs": [
        {
          "output_type": "display_data",
          "data": {
            "text/plain": "Downloading artifacts:   0%|          | 0/18 [00:00<?, ?it/s]",
            "application/vnd.jupyter.widget-view+json": {
              "version_major": 2,
              "version_minor": 0,
              "model_id": "a2bbf6d8eff64e55a03c0ff801933ae3"
            }
          },
          "metadata": {}
        },
        {
          "output_type": "stream",
          "name": "stdout",
          "text": "Artifacts downloaded in: /mnt/batch/tasks/shared/LS_root/mounts/clusters/marcjimenez-ci/code/Users/marcjimenez/artifact_downloads/outputs\nArtifacts: ['.amlignore', '.amlignore.amltmp', 'conda_env_v_1_0_0.yml', 'engineered_feature_names.json', 'env_dependencies.json', 'featurization_summary.json', 'generated_code', 'internal_cross_validated_models.pkl', 'mlflow-model', 'model.pkl', 'pipeline_graph.json', 'run_id.txt', 'scoring_file_pbi_v_1_0_0.py', 'scoring_file_v_1_0_0.py', 'scoring_file_v_2_0_0.py', '__pycache__']\n"
        }
      ],
      "execution_count": 16,
      "metadata": {
        "gather": {
          "logged": 1748634698449
        }
      }
    },
    {
      "cell_type": "markdown",
      "source": [
        "### Create a reusable environment based on the conda YAML definition created by AutoML"
      ],
      "metadata": {
        "nteract": {
          "transient": {
            "deleting": false
          }
        }
      }
    },
    {
      "cell_type": "code",
      "source": [
        "# Create or update the environment for deployment  \n",
        "# This sets up an environment with the necessary dependencies for the model to run  \n",
        "  \n",
        "base_environment = ml_client.environments.create_or_update(  \n",
        "    Environment(  \n",
        "        name=f\"{model_name}-env\",  # Define a name for the environment, typically related to the model name  \n",
        "        image=\"mcr.microsoft.com/azureml/openmpi4.1.0-ubuntu22.04\",  # Specify the Docker image to use as a base for the environment  \n",
        "        conda_file=\"./artifact_downloads/outputs/conda_env_v_1_0_0.yml\",  # Point to the conda environment file that lists all dependencies  \n",
        "    )  \n",
        ")  "
      ],
      "outputs": [],
      "execution_count": 17,
      "metadata": {
        "gather": {
          "logged": 1748634700421
        }
      }
    },
    {
      "cell_type": "markdown",
      "source": [
        "### Create a local deployment of the model (running inside docker) for inferencing\n",
        "\n",
        "Here we can use our model in a managed online endpoint (running locally on our compute instance). If the model performs as expected, we can optionally update our deployment to target cloud resources."
      ],
      "metadata": {
        "nteract": {
          "transient": {
            "deleting": false
          }
        }
      }
    },
    {
      "cell_type": "code",
      "source": [
        "# Define the name for the online endpoint  \n",
        "endpoint_name = f'{model_name}-endpoint'  \n",
        "  \n",
        "# Create an instance of ManagedOnlineEndpoint with the specified name  \n",
        "endpoint = ManagedOnlineEndpoint(name=endpoint_name)  \n",
        "  \n",
        "# Begin the process of creating or updating the online endpoint  \n",
        "# This is an asynchronous operation that will run locally  \n",
        "endpoint = ml_client.online_endpoints.begin_create_or_update(endpoint, local=True)  \n",
        "  \n",
        "# Define a name for the deployment that is for local model testing  \n",
        "deployment_name = \"local-model-testing\"  \n",
        "  \n",
        "# Create a deployment package with the model, environment, and code configuration  \n",
        "deployment_package = ManagedOnlineDeployment(  \n",
        "    name=deployment_name,  # Set the name of the deployment  \n",
        "    endpoint_name=endpoint_name,  # Associate the deployment with the endpoint created earlier  \n",
        "    model=f'azureml:{registered_model.name}:{registered_model.version}',  # Define the model to deploy using the registered model name and version  \n",
        "    environment=base_environment,  # Set the environment for the deployment with all necessary dependencies  \n",
        "    code_configuration=CodeConfiguration(  \n",
        "        code=\"./artifact_downloads/outputs\",  # Specify the directory where the code is located  \n",
        "        scoring_script=\"scoring_file_v_1_0_0.py\"  # Identify the scoring script that will be used for inference  \n",
        "    ),  \n",
        ")  \n",
        "  \n",
        "# Begin the process of creating or updating the deployment package  \n",
        "# This is also an asynchronous operation that will run locally  \n",
        "ml_client.online_deployments.begin_create_or_update(deployment_package, local=True)  \n",
        "  \n",
        "# Retrieve the updated endpoint details  \n",
        "endpoint = ml_client.online_endpoints.get(endpoint_name, local=True)  \n",
        "  \n",
        "# Get the scoring URI from the endpoint which can be used to send scoring requests  \n",
        "scoring_uri = endpoint.scoring_uri  \n",
        "  \n",
        "# Print out the scoring URI  \n",
        "print(scoring_uri)  "
      ],
      "outputs": [
        {
          "output_type": "stream",
          "name": "stderr",
          "text": "Updating local endpoint (claims-3y-classification-endpoint) .Done (0m 5s)\nUpdating local deployment (claims-3y-classification-endpoint / local-model-testing) .\nBuilding Docker image from Dockerfile\nStep 1/6 : FROM mcr.microsoft.com/azureml/openmpi4.1.0-ubuntu22.04\n ---> 34c2a6bcc052\nStep 2/6 : RUN mkdir -p /var/azureml-app/\n ---> Using cache\n ---> e9d67e49f94b\nStep 3/6 : WORKDIR /var/azureml-app/\n ---> Running in 8b0cb2c19faf\n. ---> 2dda402a57f4\nStep 4/6 : COPY conda.yml /var/azureml-app/\n ---> b4b71816a337\nStep 5/6 : RUN conda env create -n inf-conda-env --file conda.yml\n ---> Running in e537be10c61f\n.Retrieving notices: - \b\b\\ \b\bdone\nWarning: you have pip-installed dependencies in your environment file, but you do not list pip itself as one of your conda dependencies.  Conda may not use the correct pip to install your packages, and they may end up in the wrong place.  Please add an explicit pip dependency.  I'm adding one for you, but still nagging you.\nWarning: you have pip-installed dependencies in your environment file, but you do not list pip itself as one of your conda dependencies.  Conda may not use the correct pip to install your packages, and they may end up in the wrong place.  Please add an explicit pip dependency.  I'm adding one for you, but still nagging you.\nChannels:\n - anaconda\n - conda-forge\n - defaults\nPlatform: linux-64\nCollecting package metadata (repodata.json): / \b\b- \b\b\\ \b\b| \b\b/ \b\b- \b\b\\ \b\b| \b\b/ \b\b- \b\b\\ \b\b| \b\b/ \b\b- \b\b\\ \b\b| \b\b/ \b\b- \b\b\\ \b\b| \b\b/ \b\b- \b\b\\ \b\b| \b\b/ \b\b- .\b\b\\ \b\b| \b\b/ .\b\b- .\b\b\\ \b\b| .\b\b/ \b\b- \b\b\\ \b\b| \b\b/ \b\b- \b\bdone\nSolving environment: | \b\b/ \b\bdone\n\nmkl-2023.2.0         | 156.8 MB  |            |   0% \nscipy-1.13.1         | 24.5 MB   |            |   0% \u001b[A\n\npython-3.9.22        | 22.5 MB   |            |   0% \u001b[A\u001b[A\n\n\npandas-1.5.3         | 13.1 MB   |            |   0% \u001b[A\u001b[A\u001b[A\n\n\n\nscikit-learn-1.5.1   | 11.5 MB   |            |   0% \u001b[A\u001b[A\u001b[A\u001b[A\n\n\n\n\nnumpy-base-1.23.5    | 7.1 MB    |            |   0% \u001b[A\u001b[A\u001b[A\u001b[A\u001b[A\n\n\n\n\n\nlibstdcxx-ng-11.2.0  | 6.1 MB    |            |   0% \u001b[A\u001b[A\u001b[A\u001b[A\u001b[A\u001b[A\n\n\n\n\n\n\nlibgfortran5-11.2.0  | 5.0 MB    |            |   0% \u001b[A\u001b[A\u001b[A\u001b[A\u001b[A\u001b[A\u001b[A\n\n\n\n\n\n\n\ntk-8.6.13            | 3.1 MB    |            |   0% \u001b[A\u001b[A\u001b[A\u001b[A\u001b[A\u001b[A\u001b[A\u001b[A\n\n\n\n\n\n\n\n\nllvm-openmp-20.1.6   | 3.1 MB    |            |   0% \u001b[A\u001b[A\u001b[A\u001b[A\u001b[A\u001b[A\u001b[A\u001b[A\u001b[A\n\n\n\n\n\n\n\n\n\nopenssl-3.5.0        | 3.0 MB    |            |   0% \u001b[A\u001b[A\u001b[A\u001b[A\u001b[A\u001b[A\u001b[A\u001b[A\u001b[A\u001b[A\n\n\n\n\n\n\n\n\n\n\ntbb-2021.8.0         | 1.8 MB    |            |   0% \u001b[A\u001b[A\u001b[A\u001b[A\u001b[A\u001b[A\u001b[A\u001b[A\u001b[A\u001b[A\u001b[A\n\n\n\n\n\n\n\n\n\n\n\nsetuptools-78.1.1    | 1.7 MB    |            |   0% \u001b[A\u001b[A\u001b[A\u001b[A\u001b[A\u001b[A\u001b[A\u001b[A\u001b[A\u001b[A\u001b[A\u001b[A\n\n\n\n\n\n\n\n\n\n\n\n\npip-25.1             | 1.4 MB    |            |   0% \u001b[A\u001b[A\u001b[A\u001b[A\u001b[A\u001b[A\u001b[A\u001b[A\u001b[A\u001b[A\u001b[A\u001b[A\u001b[A\n\n\n\n\n\n\n\n\n\n\n\n\n\nlibsqlite-3.50.0     | 897 KB    |            |   0% \u001b[A\u001b[A\u001b[A\u001b[A\u001b[A\u001b[A\u001b[A\u001b[A\u001b[A\u001b[A\u001b[A\u001b[A\u001b[A\u001b[A\n\n\n\n\n\n\n\n\n\n\n\n\n\n\nncurses-6.5          | 871 KB    |            |   0% \u001b[A\u001b[A\u001b[A\u001b[A\u001b[A\u001b[A\u001b[A\u001b[A\u001b[A\u001b[A\u001b[A\u001b[A\u001b[A\u001b[A\u001b[A\n\n\n\n\n\n\n\n\n\n\n\n\n\n\n\nlibgcc-15.1.0        | 810 KB    |            |   0% \u001b[A\u001b[A\u001b[A\u001b[A\u001b[A\u001b[A\u001b[A\u001b[A\u001b[A\u001b[A\u001b[A\u001b[A\u001b[A\u001b[A\u001b[A\u001b[A\n\n\n\n\n\n\n\n\n\n\n\n\n\n\n\n\nld_impl_linux-64-2.4 | 706 KB    |            |   0% \u001b[A\u001b[A\u001b[A\u001b[A\u001b[A\u001b[A\u001b[A\u001b[A\u001b[A\u001b[A\u001b[A\u001b[A\u001b[A\u001b[A\u001b[A\u001b[A\u001b[A\n\n\n\n\n\n\n\n\n\n\n\n\n\n\n\n\n\nreadline-8.2         | 457 KB    |            |   0% \u001b[A\u001b[A\u001b[A\u001b[A\u001b[A\u001b[A\u001b[A\u001b[A\u001b[A\u001b[A\u001b[A\u001b[A\u001b[A\u001b[A\u001b[A\u001b[A\u001b[A\u001b[A\n\n\n\n\n\n\n\n\n\n\n\n\n\n\n\n\n\n\nmkl-2023.2.0         | 156.8 MB  |            |   0% [A\u001b[A\u001b[A\u001b[A\u001b[A\u001b[A\u001b[A\u001b[A\u001b[A\n\npython-3.9.22        | 22.5 MB   | 8          |   8% \u001b[A\u001b[A\nscipy-1.13.1         | 24.5 MB   |            |   0% \u001b[A\n\n\npandas-1.5.3         | 13.1 MB   | 6          |   6% \u001b[A\u001b[A\u001b[A\n\n\n\nscikit-learn-1.5.1   | 11.5 MB   | 1          |   1% \u001b[A\u001b[A\u001b[A\u001b[A\nmkl-2023.2.0         | 156.8 MB  | 1          |   2% \u001b[A\n\n\n\nscikit-learn-1.5.1   | 11.5 MB   | #9         |  20% \u001b[A\u001b[A\u001b[A\u001b[A\n\n\npandas-1.5.3         | 13.1 MB   | ##3        |  23% \u001b[A\u001b[A\u001b[A\n\npython-3.9.22        | 22.5 MB   | #8         |  18% \u001b[A\u001b[A.\nscipy-1.13.1         | 24.5 MB   | ##         |  20% \u001b[A\n\npython-3.9.22        | 22.5 MB   | ##7        |  28% \u001b[A\u001b[A\n\n\n\nmkl-2023.2.0         | 156.8 MB  | 3          |   3% \u001b[A\u001b[A\u001b[A\u001b[A\n\n\npandas-1.5.3         | 13.1 MB   | ###6       |  36% \u001b[A\u001b[A\u001b[A\nscipy-1.13.1         | 24.5 MB   | ##9        |  29% \u001b[A\n\nmkl-2023.2.0         | 156.8 MB  | 4          |   4% \u001b[A\u001b[A\n\n\npandas-1.5.3         | 13.1 MB   | #####6     |  57% \u001b[A\u001b[A\u001b[A\n\n\n\nscikit-learn-1.5.1   | 11.5 MB   | #####8     |  58% \u001b[A\u001b[A\u001b[A\u001b[A\nscipy-1.13.1         | 24.5 MB   | ###9       |  40% \u001b[A\n\n\npandas-1.5.3         | 13.1 MB   | #######3   |  74% \u001b[A\u001b[A\u001b[A\n\n\n\nmkl-2023.2.0         | 156.8 MB  | 5          |   6% \u001b[A\u001b[A\u001b[A\u001b[A\n\npython-3.9.22        | 22.5 MB   | #####1     |  51% \u001b[A\u001b[A\nscipy-1.13.1         | 24.5 MB   | #####      |  51% \u001b[A\n\n\nmkl-2023.2.0         | 156.8 MB  | 7          |   8% \u001b[A\u001b[A\u001b[A\n\npython-3.9.22        | 22.5 MB   | ######2    |  62% \u001b[A\u001b[A\nmkl-2023.2.0         | 156.8 MB  | 9          |   9% \u001b[A\n\npython-3.9.22        | 22.5 MB   | #######3   |  73% \u001b[A\u001b[A\n\n\n\nscikit-learn-1.5.1   | 11.5 MB   | ########## | 100% \u001b[A\u001b[A\u001b[A\u001b[A\n\n\n\nscikit-learn-1.5.1   | 11.5 MB   | ########## | 100% \u001b[A\u001b[A\u001b[A\u001b[A\nmkl-2023.2.0         | 156.8 MB  | #          |  11% \u001b[A\n\npython-3.9.22        | 22.5 MB   | ########8  |  88% \u001b[A\u001b[A\n\n\npandas-1.5.3         | 13.1 MB   | ########## | 100% \u001b[A\u001b[A\u001b[A\n\n\n\n\nnumpy-base-1.23.5    | 7.1 MB    |            |   0% \u001b[A\u001b[A\u001b[A\u001b[A\u001b[A\n\n\n\n\n\nlibstdcxx-ng-11.2.0  | 6.1 MB    |            |   0% \u001b[A\u001b[A\u001b[A\u001b[A\u001b[A\u001b[A\nmkl-2023.2.0         | 156.8 MB  | #2         |  12% \u001b[A\n\n\n\n\nnumpy-base-1.23.5    | 7.1 MB    | ###4       |  34% \u001b[A\u001b[A\u001b[A\u001b[A\u001b[A\n\n\n\n\n\nlibstdcxx-ng-11.2.0  | 6.1 MB    | #9         |  20% \u001b[A\u001b[A\u001b[A\u001b[A\u001b[A\u001b[A\n\n\n\n\nmkl-2023.2.0         | 156.8 MB  | #3         |  14% \u001b[A\u001b[A\u001b[A\u001b[A\u001b[A\n\n\n\n\n\nlibstdcxx-ng-11.2.0  | 6.1 MB    | #####1     |  52% \u001b[A\u001b[A\u001b[A\u001b[A\u001b[A\u001b[A\n\n\n\n\nnumpy-base-1.23.5    | 7.1 MB    | #########2 |  92% \u001b[A\u001b[A\u001b[A\u001b[A\u001b[A\n\n\n\n\n\nmkl-2023.2.0         | 156.8 MB  | #6         |  17% \u001b[A\u001b[A\u001b[A\u001b[A\u001b[A\u001b[A\n\n\n\n\n\nlibstdcxx-ng-11.2.0  | 6.1 MB    | ########## | 100% \u001b[A\u001b[A\u001b[A\u001b[A\u001b[A\u001b[A\n\n\n\n\nnumpy-base-1.23.5    | 7.1 MB    | ########## | 100% \u001b[A\u001b[A\u001b[A\u001b[A\u001b[A\n\n\n\n\n\n\nlibgfortran5-11.2.0  | 5.0 MB    |            |   0% \u001b[A\u001b[A\u001b[A\u001b[A\u001b[A\u001b[A\u001b[A\n\nmkl-2023.2.0         | 156.8 MB  | #8         |  18% \u001b[A\u001b[A\n\n\n\n\n\n\n\ntk-8.6.13            | 3.1 MB    |            |   0% \u001b[A\u001b[A\u001b[A\u001b[A\u001b[A\u001b[A\u001b[A\u001b[A\n\n\n\n\n\n\n\n\nllvm-openmp-20.1.6   | 3.1 MB    |            |   1% \u001b[A\u001b[A\u001b[A\u001b[A\u001b[A\u001b[A\u001b[A\u001b[A\u001b[A\n\n\n\n\n\n\nlibgfortran5-11.2.0  | 5.0 MB    | ###1       |  31% \u001b[A\u001b[A\u001b[A\u001b[A\u001b[A\u001b[A\u001b[A\n\n\n\n\n\n\n\nmkl-2023.2.0         | 156.8 MB  | #9         |  19% \u001b[A\u001b[A\u001b[A\u001b[A\u001b[A\u001b[A\u001b[A\u001b[A\n\n\n\n\n\n\n\n\nllvm-openmp-20.1.6   | 3.1 MB    | ####9      |  49% \u001b[A\u001b[A\u001b[A\u001b[A\u001b[A\u001b[A\u001b[A\u001b[A\u001b[A\n\n\n\n\n\n\nlibgfortran5-11.2.0  | 5.0 MB    | #######6   |  77% \u001b[A\u001b[A\u001b[A\u001b[A\u001b[A\u001b[A\u001b[A\n\n\n\n\n\n\n\nmkl-2023.2.0         | 156.8 MB  | ##         |  21% \u001b[A\u001b[A\u001b[A\u001b[A\u001b[A\u001b[A\u001b[A\u001b[A\n\n\n\n\n\n\n\n\nllvm-openmp-20.1.6   | 3.1 MB    | #########8 |  98% \u001b[A\u001b[A\u001b[A\u001b[A\u001b[A\u001b[A\u001b[A\u001b[A\u001b[A\nscipy-1.13.1         | 24.5 MB   | ########## | 100% \u001b[A\n\n\n\n\n\n\nlibgfortran5-11.2.0  | 5.0 MB    | ########## | 100% \u001b[A\u001b[A\u001b[A\u001b[A\u001b[A\u001b[A\u001b[A\n\n\n\n\n\n\n\n\nllvm-openmp-20.1.6   | 3.1 MB    | ########## | 100% \u001b[A\u001b[A\u001b[A\u001b[A\u001b[A\u001b[A\u001b[A\u001b[A\u001b[A\n\n\n\n\n\n\n\ntk-8.6.13            | 3.1 MB    | ########## | 100% \u001b[A\u001b[A\u001b[A\u001b[A\u001b[A\u001b[A\u001b[A\u001b[A\n\n\n\n\n\n\n\n\n\nmkl-2023.2.0         | 156.8 MB  | ##2        |  22% \u001b[A\u001b[A\u001b[A\u001b[A\u001b[A\u001b[A\u001b[A\u001b[A\u001b[A\u001b[A\n\n\n\n\n\n\n\n\n\n\ntbb-2021.8.0         | 1.8 MB    |            |   1% \u001b[A\u001b[A\u001b[A\u001b[A\u001b[A\u001b[A\u001b[A\u001b[A\u001b[A\u001b[A\u001b[A\n\n\n\n\n\n\n\n\n\n\n\n\npip-25.1             | 1.4 MB    | 1          |   1% \u001b[A\u001b[A\u001b[A\u001b[A\u001b[A\u001b[A\u001b[A\u001b[A\u001b[A\u001b[A\u001b[A\u001b[A\u001b[A\n\n\n\n\n\n\n\n\n\nmkl-2023.2.0         | 156.8 MB  | ##3        |  24% \u001b[A\u001b[A\u001b[A\u001b[A\u001b[A\u001b[A\u001b[A\u001b[A\u001b[A\u001b[A\n\n\n\n\n\n\n\n\n\n\n\n\npip-25.1             | 1.4 MB    | #########8 |  99% \u001b[A\u001b[A\u001b[A\u001b[A\u001b[A\u001b[A\u001b[A\u001b[A\u001b[A\u001b[A\u001b[A\u001b[A\u001b[A\n\n\n\n\n\n\n\n\n\n\ntbb-2021.8.0         | 1.8 MB    | ########## | 100% \u001b[A\u001b[A\u001b[A\u001b[A\u001b[A\u001b[A\u001b[A\u001b[A\u001b[A\u001b[A\u001b[A\n\n\n\n\n\n\n\n\n\n\ntbb-2021.8.0         | 1.8 MB    | ########## | 100% \u001b[A\u001b[A\u001b[A\u001b[A\u001b[A\u001b[A\u001b[A\u001b[A\u001b[A\u001b[A\u001b[A\n\n\n\n\n\n\n\n\n\n\n\nsetuptools-78.1.1    | 1.7 MB    |            |   1% \u001b[A\u001b[A\u001b[A\u001b[A\u001b[A\u001b[A\u001b[A\u001b[A\u001b[A\u001b[A\u001b[A\u001b[A\n\n\n\n\n\n\n\n\n\n\n\n\npip-25.1             | 1.4 MB    | ########## | 100% \u001b[A\u001b[A\u001b[A\u001b[A\u001b[A\u001b[A\u001b[A\u001b[A\u001b[A\u001b[A\u001b[A\u001b[A\u001b[A\n\n\n\n\n\n\n\n\n\n\n\n\n\nmkl-2023.2.0         | 156.8 MB  | ##5        |  25% \u001b[A\u001b[A\u001b[A\u001b[A\u001b[A\u001b[A\u001b[A\u001b[A\u001b[A\u001b[A\u001b[A\u001b[A\u001b[A\u001b[A\n\n\n\n\n\n\n\n\n\n\n\n\n\n\nncurses-6.5          | 871 KB    | 1          |   2% \u001b[A\u001b[A\u001b[A\u001b[A\u001b[A\u001b[A\u001b[A\u001b[A\u001b[A\u001b[A\u001b[A\u001b[A\u001b[A\u001b[A\u001b[A\n\n\n\n\n\n\n\n\n\nopenssl-3.5.0        | 3.0 MB    | ########## | 100% \u001b[A\u001b[A\u001b[A\u001b[A\u001b[A\u001b[A\u001b[A\u001b[A\u001b[A\u001b[A\n\n\n\n\n\n\n\n\n\n\n\nsetuptools-78.1.1    | 1.7 MB    | ##2        |  22% \u001b[A\u001b[A\u001b[A\u001b[A\u001b[A\u001b[A\u001b[A\u001b[A\u001b[A\u001b[A\u001b[A\u001b[A\n\n\n\n\n\n\n\n\n\n\n\n\n\n\nncurses-6.5          | 871 KB    | ########## | 100% \u001b[A\u001b[A\u001b[A\u001b[A\u001b[A\u001b[A\u001b[A\u001b[A\u001b[A\u001b[A\u001b[A\u001b[A\u001b[A\u001b[A\u001b[A\n\n\n\n\n\n\n\n\n\n\n\n\n\n\n\nlibgcc-15.1.0        | 810 KB    | 1          |   2% \u001b[A\u001b[A\u001b[A\u001b[A\u001b[A\u001b[A\u001b[A\u001b[A\u001b[A\u001b[A\u001b[A\u001b[A\u001b[A\u001b[A\u001b[A\u001b[A\n\n\n\n\n\n\n\n\n\n\n\n\n\nlibsqlite-3.50.0     | 897 KB    | ########## | 100% \u001b[A\u001b[A\u001b[A\u001b[A\u001b[A\u001b[A\u001b[A\u001b[A\u001b[A\u001b[A\u001b[A\u001b[A\u001b[A\u001b[A\n\n\n\n\n\n\n\n\n\n\n\n\n\nmkl-2023.2.0         | 156.8 MB  | ##6        |  27% \u001b[A\u001b[A\u001b[A\u001b[A\u001b[A\u001b[A\u001b[A\u001b[A\u001b[A\u001b[A\u001b[A\u001b[A\u001b[A\u001b[A\n\n\n\n\n\n\n\n\n\n\n\n\n\n\n\n\nld_impl_linux-64-2.4 | 706 KB    | 2          |   2% \u001b[A\u001b[A\u001b[A\u001b[A\u001b[A\u001b[A\u001b[A\u001b[A\u001b[A\u001b[A\u001b[A\u001b[A\u001b[A\u001b[A\u001b[A\u001b[A\u001b[A\n\n\n\n\n\n\n\n\n\n\n\n\n\n\n\n\n\nreadline-8.2         | 457 KB    | 3          |   4% \u001b[A\u001b[A\u001b[A\u001b[A\u001b[A\u001b[A\u001b[A\u001b[A\u001b[A\u001b[A\u001b[A\u001b[A\u001b[A\u001b[A\u001b[A\u001b[A\u001b[A\u001b[A\n\n\n\n\n\n\n\n\n\n\n\n\n\n\n\nlibgcc-15.1.0        | 810 KB    | ########## | 100% \u001b[A\u001b[A\u001b[A\u001b[A\u001b[A\u001b[A\u001b[A\u001b[A\u001b[A\u001b[A\u001b[A\u001b[A\u001b[A\u001b[A\u001b[A\u001b[A\n\n\n\n\n\n\n\n\n\n\n\nsetuptools-78.1.1    | 1.7 MB    | #######8   |  78% \u001b[A\u001b[A\u001b[A\u001b[A\u001b[A\u001b[A\u001b[A\u001b[A\u001b[A\u001b[A\u001b[A\u001b[A\n\n\n\n\n\n\n\n\n\n\n\n\n\n\n\n\nld_impl_linux-64-2.4 | 706 KB    | ########## | 100% \u001b[A\u001b[A\u001b[A\u001b[A\u001b[A\u001b[A\u001b[A\u001b[A\u001b[A\u001b[A\u001b[A\u001b[A\u001b[A\u001b[A\u001b[A\u001b[A\u001b[A\n\n\n\n\n\n\n\n\n\n\n\n\n\n\n\n\n\nreadline-8.2         | 457 KB    | ########## | 100% \u001b[A\u001b[A\u001b[A\u001b[A\u001b[A\u001b[A\u001b[A\u001b[A\u001b[A\u001b[A\u001b[A\u001b[A\u001b[A\u001b[A\u001b[A\u001b[A\u001b[A\u001b[A\n\n\n\n\n\n\n\n\n\n\n\n\n\n\n\n\n\n\nmkl-2023.2.0         | 156.8 MB  | ##8        |  28% [A\u001b[A\u001b[A\u001b[A\u001b[A\u001b[A\u001b[A\u001b[A\u001b[A\n\n\n\n\n\n\n\n\n\n\n\nsetuptools-78.1.1    | 1.7 MB    | ########## | 100% \u001b[A\u001b[A\u001b[A\u001b[A\u001b[A\u001b[A\u001b[A\u001b[A\u001b[A\u001b[A\u001b[A\u001b[A\n\n\n\n\n\n\n\n\n\n\n\n\n\n\n\n\n\n\nmkl-2023.2.0         | 156.8 MB  | ########## | 100% .A\u001b[A\u001b[A\u001b[A\u001b[A\u001b[A\u001b[A\u001b[A\u001b[A\n\n\n\nscikit-learn-1.5.1   | 11.5 MB   | ########## | 100% \u001b[A\u001b[A\u001b[A\u001b[A\n\n\n\n\n\nlibstdcxx-ng-11.2.0  | 6.1 MB    | ########## | 100% \u001b[A\u001b[A\u001b[A\u001b[A\u001b[A\u001b[A\n\n\npandas-1.5.3         | 13.1 MB   | ########## | 100% \u001b[A\u001b[A\u001b[A.\n\npython-3.9.22        | 22.5 MB   | ########## | 100% \u001b[A\u001b[A\n\n\n\n\nnumpy-base-1.23.5    | 7.1 MB    | ########## | 100% \u001b[A\u001b[A\u001b[A\u001b[A\u001b[A\n\n\n\n\n\n\nlibgfortran5-11.2.0  | 5.0 MB    | ########## | 100% \u001b[A\u001b[A\u001b[A\u001b[A\u001b[A\u001b[A\u001b[A\n\n\n\n\n\n\n\n\nllvm-openmp-20.1.6   | 3.1 MB    | ########## | 100% \u001b[A\u001b[A\u001b[A\u001b[A\u001b[A\u001b[A\u001b[A\u001b[A\u001b[A\n\n\n\n\n\n\n\ntk-8.6.13            | 3.1 MB    | ########## | 100% \u001b[A\u001b[A\u001b[A\u001b[A\u001b[A\u001b[A\u001b[A\u001b[A\n\n\n\n\n\n\n\n\n\n\ntbb-2021.8.0         | 1.8 MB    | ########## | 100% \u001b[A\u001b[A\u001b[A\u001b[A\u001b[A\u001b[A\u001b[A\u001b[A\u001b[A\u001b[A\u001b[A\n\n\n\n\n\n\n\n\n\n\n\n\npip-25.1             | 1.4 MB    | ########## | 100% \u001b[A\u001b[A\u001b[A\u001b[A\u001b[A\u001b[A\u001b[A\u001b[A\u001b[A\u001b[A\u001b[A\u001b[A\u001b[A\n\n\n\n\n\n\n\n\n\nopenssl-3.5.0        | 3.0 MB    | ########## | 100% \u001b[A\u001b[A\u001b[A\u001b[A\u001b[A\u001b[A\u001b[A\u001b[A\u001b[A\u001b[A.\n\n\n\n\n\n\n\n\n\n\n\n\n\n\nncurses-6.5          | 871 KB    | ########## | 100% \u001b[A\u001b[A\u001b[A\u001b[A\u001b[A\u001b[A\u001b[A\u001b[A\u001b[A\u001b[A\u001b[A\u001b[A\u001b[A\u001b[A\u001b[A\n\n\n\n\n\n\n\n\n\n\n\n\n\n\nncurses-6.5          | 871 KB    | ########## | 100% \u001b[A\u001b[A\u001b[A\u001b[A\u001b[A\u001b[A\u001b[A\u001b[A\u001b[A\u001b[A\u001b[A\u001b[A\u001b[A\u001b[A\u001b[A\n\n\n\n\n\n\n\n\n\n\n\n\n\nlibsqlite-3.50.0     | 897 KB    | ########## | 100% \u001b[A\u001b[A\u001b[A\u001b[A\u001b[A\u001b[A\u001b[A\u001b[A\u001b[A\u001b[A\u001b[A\u001b[A\u001b[A\u001b[A\n\n\n\n\n\n\n\n\n\n\n\n\n\n\n\nlibgcc-15.1.0        | 810 KB    | ########## | 100% \u001b[A\u001b[A\u001b[A\u001b[A\u001b[A\u001b[A\u001b[A\u001b[A\u001b[A\u001b[A\u001b[A\u001b[A\u001b[A\u001b[A\u001b[A\u001b[A\n\n\n\n\n\n\n\n\n\n\n\n\n\n\n\nlibgcc-15.1.0        | 810 KB    | ########## | 100% \u001b[A\u001b[A\u001b[A\u001b[A\u001b[A\u001b[A\u001b[A\u001b[A\u001b[A\u001b[A\u001b[A\u001b[A\u001b[A\u001b[A\u001b[A\u001b[A\n\n\n\n\n\n\n\n\n\n\n\n\n\n\n\n\nld_impl_linux-64-2.4 | 706 KB    | ########## | 100% \u001b[A\u001b[A\u001b[A\u001b[A\u001b[A\u001b[A\u001b[A\u001b[A\u001b[A\u001b[A\u001b[A\u001b[A\u001b[A\u001b[A\u001b[A\u001b[A\u001b[A\n\n\n\n\n\n\n\n\n\n\n\n\n\n\n\n\nld_impl_linux-64-2.4 | 706 KB    | ########## | 100% \u001b[A\u001b[A\u001b[A\u001b[A\u001b[A\u001b[A\u001b[A\u001b[A\u001b[A\u001b[A\u001b[A\u001b[A\u001b[A\u001b[A\u001b[A\u001b[A\u001b[A\n\n\n\n\n\n\n\n\n\n\n\n\n\n\n\n\n\nreadline-8.2         | 457 KB    | ########## | 100% \u001b[A\u001b[A\u001b[A\u001b[A\u001b[A\u001b[A\u001b[A\u001b[A\u001b[A\u001b[A\u001b[A\u001b[A\u001b[A\u001b[A\u001b[A\u001b[A\u001b[A\u001b[A\n\n\n\n\n\n\n\n\n\n\n\n\n\n\n\n\n\nreadline-8.2         | 457 KB    | ########## | 100% \u001b[A\u001b[A\u001b[A\u001b[A\u001b[A\u001b[A\u001b[A\u001b[A\u001b[A\u001b[A\u001b[A\u001b[A\u001b[A\u001b[A\u001b[A\u001b[A\u001b[A\u001b[A\n\n\n\n\n\n\n\n\n\n\n\nsetuptools-78.1.1    | 1.7 MB    | ########## | 100% \u001b[A\u001b[A\u001b[A\u001b[A\u001b[A\u001b[A\u001b[A\u001b[A\u001b[A\u001b[A\u001b[A\u001b[A\n\n\n\n\n\n\n\n\n\n\n\n\n\n\n\n\n\n\n ... (more hidden) ...\u001b[A\u001b[A\u001b[A\u001b[A\u001b[A\u001b[A\u001b[A\u001b[A\u001b[A\u001b[A\u001b[A\u001b[A\u001b[A\u001b[A\u001b[A\u001b[A\u001b[A\u001b[A\u001b[A\n\n\n\n\n\n\n\n\n\n\n\n\n\n\n\n\n\n\n ... (more hidden) ...\u001b[A\u001b[A\u001b[A\u001b[A\u001b[A\u001b[A\u001b[A\u001b[A\u001b[A\u001b[A\u001b[A\u001b[A\u001b[A\u001b[A\u001b[A\u001b[A\u001b[A\u001b[A\u001b[A\nmkl-2023.2.0         | 156.8 MB  | ########## | 100% \u001b[A.\n\n\n\n\n\n\n\n\n\n\n\n\n\n\n\n\n\n\n                                                     A\u001b[A\n                                                     \u001b[A\n\n                                                     \u001b[A\u001b[A\n\n\n                                                     \u001b[A\u001b[A\u001b[A\n\n\n\n                                                     \u001b[A\u001b[A\u001b[A\u001b[A\n\n\n\n\n                                                     \u001b[A\u001b[A\u001b[A\u001b[A\u001b[A\n\n\n\n\n\n                                                     \u001b[A\u001b[A\u001b[A\u001b[A\u001b[A\u001b[A\n\n\n\n\n\n\n                                                     \u001b[A\u001b[A\u001b[A\u001b[A\u001b[A\u001b[A\u001b[A\n\n\n\n\n\n\n\n                                                     \u001b[A\u001b[A\u001b[A\u001b[A\u001b[A\u001b[A\u001b[A\u001b[A\n\n\n\n\n\n\n\n\n                                                     \u001b[A\u001b[A\u001b[A\u001b[A\u001b[A\u001b[A\u001b[A\u001b[A\u001b[A\n\n\n\n\n\n\n\n\n\n                                                     \u001b[A\u001b[A\u001b[A\u001b[A\u001b[A\u001b[A\u001b[A\u001b[A\u001b[A\u001b[A\n\n\n\n\n\n\n\n\n\n\n                                                     \u001b[A\u001b[A\u001b[A\u001b[A\u001b[A\u001b[A\u001b[A\u001b[A\u001b[A\u001b[A\u001b[A\n\n\n\n\n\n\n\n\n\n\n\n                                                     \u001b[A\u001b[A\u001b[A\u001b[A\u001b[A\u001b[A\u001b[A\u001b[A\u001b[A\u001b[A\u001b[A\u001b[A\n\n\n\n\n\n\n\n\n\n\n\n\n                                                     \u001b[A\u001b[A\u001b[A\u001b[A\u001b[A\u001b[A\u001b[A\u001b[A\u001b[A\u001b[A\u001b[A\u001b[A\u001b[A\n\n\n\n\n\n\n\n\n\n\n\n\n\n                                                     \u001b[A\u001b[A\u001b[A\u001b[A\u001b[A\u001b[A\u001b[A\u001b[A\u001b[A\u001b[A\u001b[A\u001b[A\u001b[A\u001b[A\n\n\n\n\n\n\n\n\n\n\n\n\n\n\n                                                     \u001b[A\u001b[A\u001b[A\u001b[A\u001b[A\u001b[A\u001b[A\u001b[A\u001b[A\u001b[A\u001b[A\u001b[A\u001b[A\u001b[A\u001b[A\n\n\n\n\n\n\n\n\n\n\n\n\n\n\n\n                                                     \u001b[A\u001b[A\u001b[A\u001b[A\u001b[A\u001b[A\u001b[A\u001b[A\u001b[A\u001b[A\u001b[A\u001b[A\u001b[A\u001b[A\u001b[A\u001b[A\n\n\n\n\n\n\n\n\n\n\n\n\n\n\n\n\n                                                     \u001b[A\u001b[A\u001b[A\u001b[A\u001b[A\u001b[A\u001b[A\u001b[A\u001b[A\u001b[A\u001b[A\u001b[A\u001b[A\u001b[A\u001b[A\u001b[A\u001b[A\n\n\n\n\n\n\n\n\n\n\n\n\n\n\n\n\n\n                                                     \u001b[A\u001b[A\u001b[A\u001b[A\u001b[A\u001b[A\u001b[A\u001b[A\u001b[A\u001b[A\u001b[A\u001b[A\u001b[A\u001b[A\u001b[A\u001b[A\u001b[A\u001b[A\n\u001b[A\n\n\u001b[A\u001b[A\n\n\n\u001b[A\u001b[A\u001b[A\n\n\n\n\u001b[A\u001b[A\u001b[A\u001b[A\n\n\n\n\n\u001b[A\u001b[A\u001b[A\u001b[A\u001b[A\n\n\n\n\n\n\u001b[A\u001b[A\u001b[A\u001b[A\u001b[A\u001b[A\n\n\n\n\n\n\n\u001b[A\u001b[A\u001b[A\u001b[A\u001b[A\u001b[A\u001b[A\n\n\n\n\n\n\n\n\u001b[A\u001b[A\u001b[A\u001b[A\u001b[A\u001b[A\u001b[A\u001b[A\n\n\n\n\n\n\n\n\n\u001b[A\u001b[A\u001b[A\u001b[A\u001b[A\u001b[A\u001b[A\u001b[A\u001b[A\n\n\n\n\n\n\n\n\n\n\u001b[A\u001b[A\u001b[A\u001b[A\u001b[A\u001b[A\u001b[A\u001b[A\u001b[A\u001b[A\n\n\n\n\n\n\n\n\n\n\n\u001b[A\u001b[A\u001b[A\u001b[A\u001b[A\u001b[A\u001b[A\u001b[A\u001b[A\u001b[A\u001b[A\n\n\n\n\n\n\n\n\n\n\n\n\u001b[A\u001b[A\u001b[A\u001b[A\u001b[A\u001b[A\u001b[A\u001b[A\u001b[A\u001b[A\u001b[A\u001b[A\n\n\n\n\n\n\n\n\n\n\n\n\n\u001b[A\u001b[A\u001b[A\u001b[A\u001b[A\u001b[A\u001b[A\u001b[A\u001b[A\u001b[A\u001b[A\u001b[A\u001b[A\n\n\n\n\n\n\n\n\n\n\n\n\n\n\u001b[A\u001b[A\u001b[A\u001b[A\u001b[A\u001b[A\u001b[A\u001b[A\u001b[A\u001b[A\u001b[A\u001b[A\u001b[A\u001b[A\n\n\n\n\n\n\n\n\n\n\n\n\n\n\n\u001b[A\u001b[A\u001b[A\u001b[A\u001b[A\u001b[A\u001b[A\u001b[A\u001b[A\u001b[A\u001b[A\u001b[A\u001b[A\u001b[A\u001b[A\n\n\n\n\n\n\n\n\n\n\n\n\n\n\n\n\u001b[A\u001b[A\u001b[A\u001b[A\u001b[A\u001b[A\u001b[A\u001b[A\u001b[A\u001b[A\u001b[A\u001b[A\u001b[A\u001b[A\u001b[A\u001b[A\n\n\n\n\n\n\n\n\n\n\n\n\n\n\n\n\n\u001b[A\u001b[A\u001b[A\u001b[A\u001b[A\u001b[A\u001b[A\u001b[A\u001b[A\u001b[A\u001b[A\u001b[A\u001b[A\u001b[A\u001b[A\u001b[A\u001b[A\n\n\n\n\n\n\n\n\n\n\n\n\n\n\n\n\n\n\u001b[A\u001b[A\u001b[A\u001b[A\u001b[A\u001b[A\u001b[A\u001b[A\u001b[A\u001b[A\u001b[A\u001b[A\u001b[A\u001b[A\u001b[A\u001b[A\u001b[A\u001b[A\n\u001b[A\n\n\u001b[A\u001b[A\n\n\n\u001b[A\u001b[A\u001b[A\n\n\n\n\u001b[A\u001b[A\u001b[A\u001b[A\n\n\n\n\n\u001b[A\u001b[A\u001b[A\u001b[A\u001b[A\n\n\n\n\n\n\u001b[A\u001b[A\u001b[A\u001b[A\u001b[A\u001b[A\n\n\n\n\n\n\n\u001b[A\u001b[A\u001b[A\u001b[A\u001b[A\u001b[A\u001b[A\n\n\n\n\n\n\n\n\u001b[A\u001b[A\u001b[A\u001b[A\u001b[A\u001b[A\u001b[A\u001b[A\n\n\n\n\n\n\n\n\n\u001b[A\u001b[A\u001b[A\u001b[A\u001b[A\u001b[A\u001b[A\u001b[A\u001b[A\n\n\n\n\n\n\n\n\n\n\u001b[A\u001b[A\u001b[A\u001b[A\u001b[A\u001b[A\u001b[A\u001b[A\u001b[A\u001b[A done\nPreparing transaction: \\ \b\b| \b\b/ \b\b- \b\b\\ \b\b| \b\bdone\nVerifying transaction: - \b\b\\ \b\b| \b\b/ \b\b- \b\b\\ \b\b| \b\b/ \b\b- \b\b\\ \b\b| \b\b/ \b\b- \b\b\\ \b\b| \b\b/ .\b\b- \b\b\\ \b\b| \b\b/ \b\b- \b\b\\ \b\b| \b\b/ \b\b- \b\b\\ \b\b| \b\b/ \b\b- \b\bdone\nExecuting transaction: | \b\b/ \b\b- \b\b\\ \b\b| \b\b/ \b\b- \b\b\\ \b\b| \b\b/ \b\b- \b\b\\ \b\b| \b\b/ \b\b- \b\b\\ \b\b| \b\b/ \b\b- \b\b\\ \b\b| \b\b/ \b\b- \b\b\\ \b\b| \b\b/ \b\b- \b\b\\ \b\b| \b\b/ \b\b- \b\b\\ \b\b| \b\b/ \b\b- \b\b\\ .\b\b| \b\b/ \b\b- \b\b\\ \b\b| \b\b/ \b\b- \b\b\\ \b\b| \b\b/ \b\b- \b\b\\ \b\b| \b\b/ \b\b- \b\b\\ \b\b| \b\b/ \b\bdone\nInstalling pip dependencies: \\ \b\b| \b\b/ \b\b- \b\b\\ \b\b| \b\b/ \b\b- \b\b\\ \b\b| \b\b/ \b\b- \b\b\\ \b\b| \b\b/ \b\b- \b\b\\ \b\b| \b\b/ .\b\b- \b\b\\ \b\b| \b\b/ \b\b- \b\b\\ \b\b| \b\b/ \b\b- \b\b\\ \b\b| \b\b/ \b\b- \b\b\\ \b\b| \b\b/ \b\b- \b\b\\ \b\b| \b\b/ \b\b- \b\b\\ \b\b| \b\b/ \b\b- \b\b\\ \b\b| \b\b/ \b\b- \b\b\\ \b\b| \b\b/ \b\b- \b\b\\ \b\b| \b\b/ \b\b- \b\b\\ \b\b| \b\b/ \b\b- \b\b\\ \b\b| \b\b/ \b\b- \b\b\\ \b\b| \b\b/ \b\b- \b\b\\ .\b\b| \b\b/ \b\b- \b\b\\ \b\b| \b\b/ \b\b- \b\b\\ \b\b| \b\b/ \b\b- \b\b\\ \b\b| \b\b/ \b\b- \b\b\\ \b\b| \b\b/ \b\b- \b\b\\ \b\b| \b\b/ \b\b- \b\b\\ \b\b| \b\b/ \b\b- \b\b\\ \b\b| \b\b/ \b\b- \b\b\\ \b\b| \b\b/ \b\b- \b\b\\ \b\b| \b\b/ \b\b- \b\b\\ \b\b| \b\b/ \b\b- \b\b\\ \b\b| \b\b/ \b\b- \b\b\\ \b\b| \b\b/ .\b\b- \b\b\\ \b\b| \b\b/ \b\b- \b\b\\ \b\b| \b\b/ \b\b- \b\b\\ \b\b| \b\b/ \b\b- \b\b\\ \b\b| \b\b/ \b\b- \b\b\\ \b\b| \b\b/ \b\b- \b\b\\ \b\b| \b\b/ \b\b- \b\b\\ \b\b| \b\b/ \b\b- \b\b\\ \b\b| \b\b/ \b\b- \b\b\\ \b\b| \b\b/ \b\b- \b\b\\ \b\b| \b\b/ \b\b- \b\b\\ \b\b| \b\b/ \b\b- \b\b\\ \b\b| \b\b/ \b\b- \b\b\\ .\b\b| \b\b/ \b\b- \b\b\\ \b\b| \b\b/ \b\b- \b\b\\ \b\b| \b\b/ \b\b- \b\b\\ \b\b| \b\b/ \b\b- \b\b\\ \b\b| \b\b/ \b\b- \b\b\\ \b\b| \b\b/ \b\b- \b\b\\ \b\b| \b\b/ \b\b- \b\b\\ \b\b| \b\b/ \b\b- \b\b\\ \b\b| \b\b/ \b\b- \b\b\\ \b\b| \b\b/ \b\b- \b\b\\ \b\b| \b\b/ \b\b- \b\b\\ \b\b| \b\b/ \b\b- \b\b\\ \b\b| .\b\b/ \b\b- \b\b\\ \b\b| \b\b/ \b\b- \b\b\\ \b\b| \b\b/ \b\b- \b\b\\ \b\b| \b\b/ \b\b- \b\b\\ \b\b| \b\b/ \b\b- \b\b\\ \b\b| \b\b/ \b\b- \b\b\\ \b\b| \b\b/ \b\b- \b\b\\ \b\b| \b\b/ \b\b- \b\b\\ \b\b| \b\b/ \b\b- \b\b\\ \b\b| \b\b/ \b\b- \b\b\\ \b\b| \b\b/ \b\b- \b\b\\ \b\b| \b\b/ \b\b- \b\b\\ \b\b| \b\b/ \b\b- .\b\b\\ \b\b| \b\b/ \b\b- \b\b\\ \b\b| \b\b/ \b\b- \b\b\\ \b\b| \b\b/ \b\b- \b\b\\ \b\b| \b\b/ \b\b- \b\b\\ \b\b| \b\b/ \b\b- \b\b\\ \b\b| \b\b/ \b\b- \b\b\\ \b\b| \b\b/ \b\b- \b\b\\ \b\b| \b\b/ \b\b- \b\b\\ \b\b| \b\b/ \b\b- \b\b\\ \b\b| \b\b/ \b\b- \b\b\\ \b\b| \b\b/ \b\b- \b\b\\ \b\b| \b\b/ \b\b- \b\b\\ \b\b| .\b\b/ \b\b- \b\b\\ \b\b| \b\b/ \b\b- \b\b\\ \b\b| \b\b/ \b\b- \b\b\\ \b\b| \b\b/ \b\b- \b\b\\ \b\b| \b\b/ \b\b- \b\b\\ \b\b| \b\b/ \b\b- \b\b\\ \b\b| \b\b/ \b\b- \b\b\\ \b\b| \b\b/ \b\b- \b\b\\ \b\b| \b\b/ \b\b- \b\b\\ \b\b| \b\b/ \b\b- \b\b\\ \b\b| \b\b/ \b\b- \b\b\\ \b\b| \b\b/ \b\b- \b\b\\ \b\b| \b\b/ \b\b- .\b\b\\ \b\b| \b\b/ \b\b- \b\b\\ \b\b| \b\b/ \b\b- \b\b\\ \b\b| \b\b/ \b\b- \b\b\\ \b\b| \b\b/ \b\b- \b\b\\ \b\b| \b\b/ \b\b- \b\b\\ \b\b| \b\b/ \b\b- \b\b\\ \b\b| \b\b/ \b\b- \b\b\\ \b\b| \b\b/ \b\b- \b\b\\ \b\b| \b\b/ \b\b- \b\b\\ \b\b| \b\b/ \b\b- \b\b\\ \b\b| \b\b/ \b\b- \b\b\\ \b\b| \b\b/ \b\b- \b\b\\ \b\b| .\b\b/ \b\b- \b\b\\ \b\b| \b\b/ \b\b- \b\b\\ \b\b| \b\b/ \b\b- \b\b\\ \b\b| \b\b/ \b\b- \b\b\\ \b\b| \b\b/ \b\b- \b\b\\ \b\b| \b\b/ \b\b- \b\b\\ \b\b| \b\b/ \b\b- \b\b\\ \b\b| \b\b/ \b\b- \b\b\\ \b\b| \b\b/ \b\b- \b\b\\ \b\b| \b\b/ \b\b- \b\b\\ \b\b| \b\b/ \b\b- \b\b\\ \b\b| \b\b/ \b\b- \b\b\\ \b\b| \b\b/ .\b\b- \b\b\\ \b\b| \b\b/ \b\b- \b\b\\ \b\b| \b\b/ \b\b- \b\b\\ \b\b| \b\b/ \b\b- \b\b\\ \b\b| \b\b/ \b\b- \b\b\\ \b\b| \b\b/ \b\b- \b\b\\ \b\b| \b\b/ \b\b- \b\b\\ \b\b| \b\b/ \b\b- \b\b\\ \b\b| \b\b/ \b\b- \b\b\\ \b\b| \b\b/ \b\b- \b\b\\ \b\b| \b\b/ \b\b- \b\b\\ \b\b| \b\b/ \b\b- \b\b\\ \b\b| \b\b/ \b\b- \b\b\\ .\b\b| \b\b/ \b\b- \b\b\\ \b\b| \b\b/ \b\b- \b\b\\ \b\b| \b\b/ \b\b- \b\b\\ \b\b| \b\b/ \b\b- \b\b\\ \b\b| \b\b/ \b\b- \b\b\\ \b\b| \b\b/ \b\b- \b\b\\ \b\b| \b\b/ \b\b- \b\b\\ \b\b| \b\b/ \b\b- \b\b\\ \b\b| \b\b/ \b\b- \b\b\\ \b\b| \b\b/ \b\b- \b\b\\ \b\b| \b\b/ \b\b- \b\b\\ \b\b| \b\b/ \b\b- \b\b\\ \b\b| \b\b/ .\b\b- \b\b\\ \b\b| \b\b/ \b\b- \b\b\\ \b\b| \b\b/ \b\b- \b\b\\ \b\b| \b\b/ \b\b- \b\b\\ \b\b| \b\b/ \b\b- \b\b\\ \b\b| \b\b/ \b\b- \b\b\\ \b\b| \b\b/ \b\b- \b\b\\ \b\b| \b\b/ \b\b- \b\b\\ \b\b| \b\b/ \b\b- \b\b\\ \b\b| \b\b/ \b\b- \b\b\\ \b\b| \b\b/ \b\b- \b\b\\ \b\b| \b\b/ \b\b- \b\b\\ \b\b| \b\b/ \b\b- .\b\b\\ \b\b| \b\b/ \b\b- \b\b\\ \b\b| \b\b/ \b\b- \b\b\\ \b\b| \b\b/ \b\b- \b\b\\ \b\b| \b\b/ \b\b- \b\b\\ \b\b| \b\b/ \b\b- \b\b\\ \b\b| \b\b/ \b\b- \b\b\\ \b\b| \b\b/ \b\b- \b\b\\ \b\b| \b\b/ \b\b- \b\b\\ \b\b| \b\b/ \b\b- \b\b\\ \b\b| \b\b/ \b\b- \b\b\\ \b\b| \b\b/ \b\b- \b\b\\ \b\b| \b\b/ \b\b- \b\b\\ \b\b| .\b\b/ \b\b- \b\b\\ \b\b| \b\b/ \b\b- \b\b\\ \b\b| \b\b/ \b\b- \b\b\\ \b\b| \b\b/ \b\b- \b\b\\ \b\b| \b\b/ \b\b- \b\b\\ \b\b| \b\b/ \b\b- \b\b\\ \b\b| \b\b/ \b\b- \b\b\\ \b\b| \b\b/ \b\b- \b\b\\ \b\b| \b\b/ \b\b- \b\b\\ \b\b| \b\b/ \b\b- \b\b\\ \b\b| \b\b/ \b\b- \b\b\\ \b\b| \b\b/ \b\b- \b\b\\ \b\b| \b\b/ \b\b- .\b\b\\ \b\b| \b\b/ \b\b- \b\b\\ \b\b| \b\b/ \b\b- \b\b\\ \b\b| \b\b/ \b\b- \b\b\\ \b\b| \b\b/ \b\b- \b\b\\ \b\b| \b\b/ \b\b- \b\b\\ \b\b| \b\b/ \b\b- \b\b\\ \b\b| \b\b/ \b\b- \b\b\\ \b\b| \b\b/ \b\b- \b\b\\ \b\b| \b\b/ \b\b- \b\b\\ \b\b| \b\b/ \b\b- \b\b\\ \b\b| \b\b/ \b\b- \b\b\\ \b\b| \b\b/ \b\b- \b\b\\ .\b\b| \b\b/ \b\b- \b\b\\ \b\b| \b\b/ \b\b- \b\b\\ \b\b| \b\b/ \b\b- \b\b\\ \b\b| \b\b/ \b\b- \b\b\\ \b\b| \b\b/ \b\b- \b\b\\ \b\b| \b\b/ \b\b- \b\b\\ \b\b| \b\b/ \b\b- \b\b\\ \b\b| \b\b/ \b\b- \b\b\\ \b\b| \b\b/ \b\b- \b\b\\ \b\b| \b\b/ \b\b- \b\b\\ \b\b| \b\b/ \b\b- \b\b\\ \b\b| \b\b/ \b\b- \b\b\\ \b\b| \b\b/ .\b\b- \b\b\\ \b\b| \b\b/ \b\b- \b\b\\ \b\b| \b\b/ \b\b- \b\b\\ \b\b| \b\b/ \b\b- \b\b\\ \b\b| \b\b/ \b\b- \b\b\\ \b\b| \b\b/ \b\b- \b\b\\ \b\b| \b\b/ \b\b- \b\b\\ \b\b| \b\b/ \b\b- \b\b\\ \b\b| \b\b/ \b\b- \b\b\\ \b\b| \b\b/ \b\b- \b\b\\ \b\b| \b\b/ \b\b- \b\b\\ \b\b| \b\b/ \b\b- \b\b\\ \b\b| \b\b/ \b\b- \b\b\\ .\b\b| \b\b/ \b\b- \b\b\\ \b\b| \b\b/ \b\b- \b\b\\ \b\b| \b\b/ \b\b- \b\b\\ \b\b| \b\b/ \b\b- \b\b\\ \b\b| \b\b/ \b\b- \b\b\\ \b\b| \b\b/ \b\b- \b\b\\ \b\b| \b\b/ \b\b- \b\b\\ \b\b| \b\b/ \b\b- \b\b\\ \b\b| \b\b/ \b\b- \b\b\\ \b\b| \b\b/ \b\b- \b\b\\ \b\b| \b\b/ \b\b- \b\b\\ \b\b| \b\b/ \b\b- \b\b\\ \b\b| \b\b/ .\b\b- \b\b\\ \b\b| \b\b/ \b\b- \b\b\\ \b\b| \b\b/ \b\b- \b\b\\ \b\b| \b\b/ \b\b- \b\b\\ \b\b| \b\b/ \b\b- \b\b\\ \b\b| \b\b/ \b\b- \b\b\\ \b\b| \b\b/ \b\b- \b\b\\ \b\b| \b\b/ \b\b- \b\b\\ \b\b| \b\b/ \b\b- \b\b\\ \b\b| \b\b/ \b\b- \b\b\\ \b\b| \b\b/ \b\b- \b\b\\ \b\b| \b\b/ \b\b- \b\b\\ \b\b| \b\b/ \b\b- .\b\b\\ \b\b| \b\b/ \b\b- \b\b\\ \b\b| \b\b/ \b\b- \b\b\\ \b\b| \b\b/ \b\b- \b\b\\ \b\b| \b\b/ \b\b- \b\b\\ \b\b| \b\b/ \b\b- \b\b\\ \b\b| \b\b/ \b\b- \b\b\\ \b\b| \b\b/ \b\b- \b\b\\ \b\b| \b\b/ \b\b- \b\b\\ \b\b| \b\b/ \b\b- \b\b\\ \b\b| \b\b/ \b\b- \b\b\\ \b\b| \b\b/ \b\b- \b\b\\ \b\b| \b\b/ \b\b- \b\b\\ \b\b| .\b\b/ \b\b- \b\b\\ \b\b| \b\b/ \b\b- \b\b\\ \b\b| \b\b/ \b\b- \b\b\\ \b\b| \b\b/ \b\b- \b\b\\ \b\b| \b\b/ \b\b- \b\b\\ \b\b| \b\b/ \b\b- \b\b\\ \b\b| \b\b/ \b\b- \b\b\\ \b\b| \b\b/ \b\b- \b\b\\ \b\b| \b\b/ \b\b- \b\b\\ \b\b| \b\b/ \b\b- \b\b\\ \b\b| \b\b/ \b\b- \b\b\\ \b\b| \b\b/ \b\b- \b\b\\ \b\b| \b\b/ .\b\b- \b\b\\ \b\b| \b\b/ \b\b- \b\b\\ \b\b| \b\b/ \b\b- \b\b\\ \b\b| \b\b/ \b\b- \b\b\\ \b\b| \b\b/ \b\b- \b\b\\ \b\b| \b\b/ \b\b- \b\b\\ \b\b| \b\b/ \b\b- \b\b\\ \b\b| \b\b/ \b\b- \b\b\\ \b\b| \b\b/ \b\b- \b\b\\ \b\b| \b\b/ \b\b- \b\b\\ \b\b| \b\b/ \b\b- \b\b\\ \b\b| \b\b/ \b\b- \b\b\\ \b\b| \b\b/ \b\b- \b\b\\ .\b\b| \b\b/ \b\b- \b\b\\ \b\b| \b\b/ \b\b- \b\b\\ \b\b| \b\b/ \b\b- \b\b\\ \b\b| \b\b/ \b\b- \b\b\\ \b\b| \b\b/ \b\b- \b\b\\ \b\b| \b\b/ \b\b- \b\b\\ \b\b| \b\b/ \b\b- \b\b\\ \b\b| \b\b/ \b\b- \b\b\\ \b\b| \b\b/ \b\b- \b\b\\ \b\b| \b\b/ \b\b- \b\b\\ \b\b| \b\b/ \b\b- \b\b\\ \b\b| \b\b/ \b\b- \b\b\\ \b\b| \b\b/ .\b\b- \b\b\\ \b\b| \b\b/ \b\b- \b\b\\ \b\b| \b\b/ \b\b- \b\b\\ \b\b| \b\b/ \b\b- \b\b\\ \b\b| \b\b/ \b\b- \b\b\\ \b\b| \b\b/ \b\b- \b\b\\ \b\b| \b\b/ \b\b- \b\b\\ \b\b| \b\b/ \b\b- \b\b\\ \b\b| \b\b/ \b\b- \b\b\\ \b\b| \b\b/ \b\b- \b\b\\ \b\b| \b\b/ \b\b- \b\b\\ \b\b| \b\b/ \b\b- \b\b\\ \b\b| \b\b/ \b\b- \b\b\\ .\b\b| \b\b/ \b\b- \b\b\\ \b\b| \b\b/ \b\b- \b\b\\ \b\b| \b\b/ \b\b- \b\b\\ \b\b| \b\b/ \b\b- \b\b\\ \b\b| \b\b/ \b\b- \b\b\\ \b\b| \b\b/ \b\b- \b\b\\ \b\b| \b\b/ \b\b- \b\b\\ \b\b| \b\b/ \b\b- \b\b\\ \b\b| \b\b/ \b\b- \b\b\\ \b\b| \b\b/ \b\b- \b\b\\ \b\b| \b\b/ \b\b- Ran pip subprocess with arguments:\n['/opt/miniconda/envs/inf-conda-env/bin/python', '-m', 'pip', 'install', '-U', '-r', '/var/azureml-app/condaenv.w_a65ko5.requirements.txt', '--exists-action=b']\nPip subprocess output:\nCollecting azureml-train-automl-runtime==1.60.0 (from -r /var/azureml-app/condaenv.w_a65ko5.requirements.txt (line 1))\n  Downloading azureml_train_automl_runtime-1.60.0-py3-none-any.whl.metadata (3.4 kB)\nCollecting inference-schema (from -r /var/azureml-app/condaenv.w_a65ko5.requirements.txt (line 2))\n  Downloading inference_schema-1.8-py3-none-any.whl.metadata (2.5 kB)\nCollecting xgboost<=1.5.2 (from -r /var/azureml-app/condaenv.w_a65ko5.requirements.txt (line 3))\n  Downloading xgboost-1.5.2-py3-none-manylinux2014_x86_64.whl.metadata (1.8 kB)\nCollecting prophet==1.1.4 (from -r /var/azureml-app/condaenv.w_a65ko5.requirements.txt (line 4))\n  Downloading prophet-1.1.4-py3-none-manylinux_2_17_x86_64.manylinux2014_x86_64.whl.metadata (3.6 kB)\nCollecting azureml-interpret==1.60.0 (from -r /var/azureml-app/condaenv.w_a65ko5.requirements.txt (line 5))\n  Downloading azureml_interpret-1.60.0-py3-none-any.whl.metadata (3.6 kB)\nCollecting azureml-defaults==1.60.0 (from -r /var/azureml-app/condaenv.w_a65ko5.requirements.txt (line 6))\n  Downloading azureml_defaults-1.60.0-py3-none-any.whl.metadata (914 bytes)\nCollecting azure-storage-queue~=12.1 (from azureml-train-automl-runtime==1.60.0->-r /var/azureml-app/condaenv.w_a65ko5.requirements.txt (line 1))\n  Downloading azure_storage_queue-12.12.0-py3-none-any.whl.metadata (35 kB)\nCollecting gensim==4.3.2 (from azureml-train-automl-runtime==1.60.0->-r /var/azureml-app/condaenv.w_a65ko5.requirements.txt (line 1))\n  Downloading gensim-4.3.2-cp39-cp39-manylinux_2_17_x86_64.manylinux2014_x86_64.whl.metadata (8.5 kB)\nCollecting smart-open==6.4.0 (from azureml-train-automl-runtime==1.60.0->-r /var/azureml-app/condaenv.w_a65ko5.requirements.txt (line 1))\n  Downloading smart_open-6.4.0-py3-none-any.whl.metadata (21 kB)\nCollecting lightgbm<4.7.0,>=4.6.0 (from azureml-train-automl-runtime==1.60.0->-r /var/azureml-app/condaenv.w_a65ko5.requirements.txt (line 1))\n  Downloading lightgbm-4.6.0-py3-none-manylinux_2_28_x86_64.whl.metadata (17 kB)\nRequirement already satisfied: numpy<=1.23.5,>=1.16.0 in /opt/miniconda/envs/inf-conda-env/lib/python3.9/site-packages (from azureml-train-automl-runtime==1.60.0->-r /var/azureml-app/condaenv.w_a65ko5.requirements.txt (line 1)) (1.23.5)\nRequirement already satisfied: pandas==1.5.3 in /opt/miniconda/envs/inf-conda-env/lib/python3.9/site-packages (from azureml-train-automl-runtime==1.60.0->-r /var/azureml-app/condaenv.w_a65ko5.requirements.txt (line 1)) (1.5.3)\nCollecting scipy<=1.11.0,>=1.0.0 (from azureml-train-automl-runtime==1.60.0->-r /var/azureml-app/condaenv.w_a65ko5.requirements.txt (line 1))\n  Downloading scipy-1.10.1-cp39-cp39-manylinux_2_17_x86_64.manylinux2014_x86_64.whl.metadata (58 kB)\nRequirement already satisfied: scikit-learn~=1.5.1 in /opt/miniconda/envs/inf-conda-env/lib/python3.9/site-packages (from azureml-train-automl-runtime==1.60.0->-r /var/azureml-app/condaenv.w_a65ko5.requirements.txt (line 1)) (1.5.1)\nCollecting sklearn_pandas<=1.7.0,>=1.4.0 (from azureml-train-automl-runtime==1.60.0->-r /var/azureml-app/condaenv.w_a65ko5.requirements.txt (line 1))\n  Downloading sklearn_pandas-1.7.0-py2.py3-none-any.whl.metadata (430 bytes)\nCollecting statsmodels<0.14,>=0.13.0 (from azureml-train-automl-runtime==1.60.0->-r /var/azureml-app/condaenv.w_a65ko5.requirements.txt (line 1))\n  Downloading statsmodels-0.13.5-cp39-cp39-manylinux_2_17_x86_64.manylinux2014_x86_64.whl.metadata (9.5 kB)\nCollecting skl2onnx==1.15.0 (from azureml-train-automl-runtime==1.60.0->-r /var/azureml-app/condaenv.w_a65ko5.requirements.txt (line 1))\n  Downloading skl2onnx-1.15.0-py2.py3-none-any.whl.metadata (2.3 kB)\nCollecting onnxmltools==1.12.0 (from azureml-train-automl-runtime==1.60.0->-r /var/azureml-app/condaenv.w_a65ko5.requirements.txt (line 1))\n  Downloading onnxmltools-1.12.0-py2.py3-none-any.whl.metadata (9.4 kB)\nCollecting keras2onnx<=1.6.0,>=1.4.0 (from azureml-train-automl-runtime==1.60.0->-r /var/azureml-app/condaenv.w_a65ko5.requirements.txt (line 1))\n  Downloading keras2onnx-1.6.0-py3-none-any.whl.metadata (9.3 kB)\nCollecting onnxconverter-common==1.13.0 (from azureml-train-automl-runtime==1.60.0->-r /var/azureml-app/condaenv.w_a65ko5.requirements.txt (line 1))\n  Downloading onnxconverter_common-1.13.0-py2.py3-none-any.whl.metadata (2.6 kB)\nCollecting onnx<=1.17.0,>=1.16.1 (from azureml-train-automl-runtime==1.60.0->-r /var/azureml-app/condaenv.w_a65ko5.requirements.txt (line 1))\n  Downloading onnx-1.17.0-cp39-cp39-manylinux_2_17_x86_64.manylinux2014_x86_64.whl.metadata (16 kB)\nCollecting onnxruntime~=1.17.3 (from azureml-train-automl-runtime==1.60.0->-r /var/azureml-app/condaenv.w_a65ko5.requirements.txt (line 1))\n  Downloading onnxruntime-1.17.3-cp39-cp39-manylinux_2_27_x86_64.manylinux_2_28_x86_64.whl.metadata (4.4 kB)\nCollecting jinja2<4 (from azureml-train-automl-runtime==1.60.0->-r /var/azureml-app/condaenv.w_a65ko5.requirements.txt (line 1))\n  Downloading jinja2-3.1.6-py3-none-any.whl.metadata (2.9 kB)\nCollecting boto3<=1.20.19 (from azureml-train-automl-runtime==1.60.0->-r /var/azureml-app/condaenv.w_a65ko5.requirements.txt (line 1))\n  Downloading boto3-1.20.19-py3-none-any.whl.metadata (6.5 kB)\nCollecting botocore<=1.23.19 (from azureml-train-automl-runtime==1.60.0->-r /var/azureml-app/condaenv.w_a65ko5.requirements.txt (line 1))\n  Downloading botocore-1.23.19-py3-none-any.whl.metadata (5.2 kB)\nCollecting urllib3<2.0.0 (from azureml-train-automl-runtime==1.60.0->-r /var/azureml-app/condaenv.w_a65ko5.requirements.txt (line 1))\n  Downloading urllib3-1.26.20-py2.py3-none-any.whl.metadata (50 kB)\nCollecting dask<=2023.2.0 (from dask[complete]<=2023.2.0->azureml-train-automl-runtime==1.60.0->-r /var/azureml-app/condaenv.w_a65ko5.requirements.txt (line 1))\n  Downloading dask-2023.2.0-py3-none-any.whl.metadata (3.6 kB)\nCollecting bokeh<3.0.0 (from azureml-train-automl-runtime==1.60.0->-r /var/azureml-app/condaenv.w_a65ko5.requirements.txt (line 1))\n  Downloading bokeh-2.4.3-py3-none-any.whl.metadata (14 kB)\nCollecting pyyaml<7.0.0 (from azureml-train-automl-runtime==1.60.0->-r /var/azureml-app/condaenv.w_a65ko5.requirements.txt (line 1))\n  Downloading PyYAML-6.0.2-cp39-cp39-manylinux_2_17_x86_64.manylinux2014_x86_64.whl.metadata (2.1 kB)\nCollecting pyarrow==14.0.2 (from azureml-train-automl-runtime==1.60.0->-r /var/azureml-app/condaenv.w_a65ko5.requirements.txt (line 1))\n  Downloading pyarrow-14.0.2-cp39-cp39-manylinux_2_28_x86_64.whl.metadata (3.0 kB)\nCollecting azureml-automl-core~=1.60.0 (from azureml-train-automl-runtime==1.60.0->-r /var/azureml-app/condaenv.w_a65ko5.requirements.txt (line 1))\n  Downloading azureml_automl_core-1.60.0-py3-none-any.whl.metadata (2.1 kB)\nCollecting azureml-automl-runtime~=1.60.0 (from azureml-train-automl-runtime==1.60.0->-r /var/azureml-app/condaenv.w_a65ko5.requirements.txt (line 1))\n  Downloading azureml_automl_runtime-1.60.0-py3-none-any.whl.metadata (3.1 kB)\nCollecting azureml-train-automl-client~=1.60.0 (from azureml-train-automl-runtime==1.60.0->-r /var/azureml-app/condaenv.w_a65ko5.requirements.txt (line 1))\n  Downloading azureml_train_automl_client-1.60.0-py3-none-any.whl.metadata (1.7 kB)\nCollecting azureml-core~=1.60.0 (from azureml-train-automl-runtime==1.60.0->-r /var/azureml-app/condaenv.w_a65ko5.requirements.txt (line 1))\n  Downloading azureml_core-1.60.0.post1-py3-none-any.whl.metadata (3.4 kB)\nCollecting azureml-telemetry~=1.60.0 (from azureml-train-automl-runtime==1.60.0->-r /var/azureml-app/condaenv.w_a65ko5.requirements.txt (line 1))\n  Downloading azureml_telemetry-1.60.0-py3-none-any.whl.metadata (1.3 kB)\nCollecting azureml-dataset-runtime~=1.60.0 (from azureml-dataset-runtime[fuse,pandas]~=1.60.0->azureml-train-automl-runtime==1.60.0->-r /var/azureml-app/condaenv.w_a65ko5.requirements.txt (line 1))\n  Downloading azureml_dataset_runtime-1.60.0-py3-none-any.whl.metadata (1.4 kB)\nCollecting azureml-mlflow~=1.60.0 (from azureml-train-automl-runtime==1.60.0->-r /var/azureml-app/condaenv.w_a65ko5.requirements.txt (line 1))\n  Downloading azureml_mlflow-1.60.0.post1-py3-none-any.whl.metadata (2.8 kB)\nCollecting interpret-community==0.31.* (from azureml-interpret==1.60.0->-r /var/azureml-app/condaenv.w_a65ko5.requirements.txt (line 5))\n  Downloading interpret_community-0.31.0-py3-none-any.whl.metadata (4.4 kB)\nCollecting numba<=0.56.4 (from azureml-interpret==1.60.0->-r /var/azureml-app/condaenv.w_a65ko5.requirements.txt (line 5))\n  Downloading numba-0.56.4-cp39-cp39-manylinux2014_x86_64.manylinux_2_17_x86_64.whl.metadata (2.8 kB)\nCollecting cmdstanpy>=1.0.4 (from prophet==1.1.4->-r /var/azureml-app/condaenv.w_a65ko5.requirements.txt (line 4))\n  Downloading cmdstanpy-1.2.5-py3-none-any.whl.metadata (4.0 kB)\nCollecting matplotlib>=2.0.0 (from prophet==1.1.4->-r /var/azureml-app/condaenv.w_a65ko5.requirements.txt (line 4))\n  Downloading matplotlib-3.9.4-cp39-cp39-manylinux_2_17_x86_64.manylinux2014_x86_64.whl.metadata (11 kB)\nCollecting LunarCalendar>=0.0.9 (from prophet==1.1.4->-r /var/azureml-app/condaenv.w_a65ko5.requirements.txt (line 4))\n  Downloading LunarCalendar-0.0.9-py2.py3-none-any.whl.metadata (6.3 kB)\nCollecting convertdate>=2.1.2 (from prophet==1.1.4->-r /var/azureml-app/condaenv.w_a65ko5.requirements.txt (line 4))\n  Downloading convertdate-2.4.0-py3-none-any.whl.metadata (8.3 kB)\nRequirement already satisfied: holidays>=0.25 in /opt/miniconda/envs/inf-conda-env/lib/python3.9/site-packages (from prophet==1.1.4->-r /var/azureml-app/condaenv.w_a65ko5.requirements.txt (line 4)) (0.70)\nRequirement already satisfied: python-dateutil>=2.8.0 in /opt/miniconda/envs/inf-conda-env/lib/python3.9/site-packages (from prophet==1.1.4->-r /var/azureml-app/condaenv.w_a65ko5.requirements.txt (line 4)) (2.9.0.post0)\nCollecting tqdm>=4.36.1 (from prophet==1.1.4->-r /var/azureml-app/condaenv.w_a65ko5.requirements.txt (line 4))\n  Downloading tqdm-4.67.1-py3-none-any.whl.metadata (57 kB)\nCollecting importlib-resources (from prophet==1.1.4->-r /var/azureml-app/condaenv.w_a65ko5.requirements.txt (line 4))\n  Downloading importlib_resources-6.5.2-py3-none-any.whl.metadata (3.9 kB)\nCollecting azureml-inference-server-http~=1.3 (from azureml-defaults==1.60.0->-r /var/azureml-app/condaenv.w_a65ko5.requirements.txt (line 6))\n  Downloading azureml_inference_server_http-1.4.0-py3-none-any.whl.metadata (11 kB)\nCollecting packaging (from onnxconverter-common==1.13.0->azureml-train-automl-runtime==1.60.0->-r /var/azureml-app/condaenv.w_a65ko5.requirements.txt (line 1))\n  Downloading packaging-25.0-py3-none-any.whl.metadata (3.3 kB)\nCollecting protobuf (from onnxconverter-common==1.13.0->azureml-train-automl-runtime==1.60.0->-r /var/azureml-app/condaenv.w_a65ko5.requirements.txt (line 1))\n  Downloading protobuf-6.31.1-cp39-abi3-manylinux2014_x86_64.whl.metadata (593 bytes)\nRequirement already satisfied: pytz>=2020.1 in /opt/miniconda/envs/inf-conda-env/lib/python3.9/site-packages (from pandas==1.5.3->azureml-train-automl-runtime==1.60.0->-r /var/azureml-app/condaenv.w_a65ko5.requirements.txt (line 1)) (2024.1)\nCollecting azure-core>=1.30.0 (from azure-storage-queue~=12.1->azureml-train-automl-runtime==1.60.0->-r /var/azureml-app/condaenv.w_a65ko5.requirements.txt (line 1))\n  Downloading azure_core-1.34.0-py3-none-any.whl.metadata (42 kB)\nCollecting cryptography>=2.1.4 (from azure-storage-queue~=12.1->azureml-train-automl-runtime==1.60.0->-r /var/azureml-app/condaenv.w_a65ko5.requirements.txt (line 1))\n  Downloading cryptography-45.0.3-cp37-abi3-manylinux_2_34_x86_64.whl.metadata (5.7 kB)\nCollecting typing-extensions>=4.6.0 (from azure-storage-queue~=12.1->azureml-train-automl-runtime==1.60.0->-r /var/azureml-app/condaenv.w_a65ko5.requirements.txt (line 1))\n  Downloading typing_extensions-4.13.2-py3-none-any.whl.metadata (3.0 kB)\nCollecting isodate>=0.6.1 (from azure-storage-queue~=12.1->azureml-train-automl-runtime==1.60.0->-r /var/azureml-app/condaenv.w_a65ko5.requirements.txt (line 1))\n  Downloading isodate-0.7.2-py3-none-any.whl.metadata (11 kB)\nCollecting importlib-metadata<=8.2.0 (from azureml-automl-core~=1.60.0->azureml-train-automl-runtime==1.60.0->-r /var/azureml-app/condaenv.w_a65ko5.requirements.txt (line 1))\n  Downloading importlib_metadata-8.2.0-py3-none-any.whl.metadata (4.7 kB)\nCollecting importlib-resources (from prophet==1.1.4->-r /var/azureml-app/condaenv.w_a65ko5.requirements.txt (line 4))\n  Downloading importlib_resources-6.4.0-py3-none-any.whl.metadata (3.9 kB)\nCollecting azureml-training-tabular~=1.60.0 (from azureml-automl-runtime~=1.60.0->azureml-train-automl-runtime==1.60.0->-r /var/azureml-app/condaenv.w_a65ko5.requirements.txt (line 1))\n  Downloading azureml_training_tabular-1.60.0-py3-none-any.whl.metadata (2.5 kB)\nCollecting dill<0.4.0,>=0.2.8 (from azureml-automl-runtime~=1.60.0->azureml-train-automl-runtime==1.60.0->-r /var/azureml-app/condaenv.w_a65ko5.requirements.txt (line 1))\n  Downloading dill-0.3.9-py3-none-any.whl.metadata (10 kB)\nRequirement already satisfied: psutil<5.9.4,>=5.2.2 in /opt/miniconda/envs/inf-conda-env/lib/python3.9/site-packages (from azureml-automl-runtime~=1.60.0->azureml-train-automl-runtime==1.60.0->-r /var/azureml-app/condaenv.w_a65ko5.requirements.txt (line 1)) (5.9.3)\nCollecting pmdarima==1.8.5 (from azureml-automl-runtime~=1.60.0->azureml-train-automl-runtime==1.60.0->-r /var/azureml-app/condaenv.w_a65ko5.requirements.txt (line 1))\n  Downloading pmdarima-1.8.5-cp39-cp39-manylinux_2_17_x86_64.manylinux2014_x86_64.manylinux_2_24_x86_64.whl.metadata (7.7 kB)\nCollecting joblib==1.2.0 (from azureml-automl-runtime~=1.60.0->azureml-train-automl-runtime==1.60.0->-r /var/azureml-app/condaenv.w_a65ko5.requirements.txt (line 1))\n  Downloading joblib-1.2.0-py3-none-any.whl.metadata (5.3 kB)\nCollecting dataclasses<=0.8,>=0.6 (from azureml-automl-runtime~=1.60.0->azureml-train-automl-runtime==1.60.0->-r /var/azureml-app/condaenv.w_a65ko5.requirements.txt (line 1))\n  Downloading dataclasses-0.6-py3-none-any.whl.metadata (3.0 kB)\nCollecting arch<=5.6.0 (from azureml-automl-runtime~=1.60.0->azureml-train-automl-runtime==1.60.0->-r /var/azureml-app/condaenv.w_a65ko5.requirements.txt (line 1))\n  Downloading arch-5.6.0-cp39-cp39-manylinux_2_17_x86_64.manylinux2014_x86_64.whl.metadata (11 kB)\nCollecting dotnetcore2<4.0.0,>=3.0.0 (from azureml-automl-runtime~=1.60.0->azureml-train-automl-runtime==1.60.0->-r /var/azureml-app/condaenv.w_a65ko5.requirements.txt (line 1))\n  Downloading dotnetcore2-3.1.23-py3-none-manylinux1_x86_64.whl.metadata (1.3 kB)\nCollecting Cython!=0.29.18,>=0.29 (from pmdarima==1.8.5->azureml-automl-runtime~=1.60.0->azureml-train-automl-runtime==1.60.0->-r /var/azureml-app/condaenv.w_a65ko5.requirements.txt (line 1))\n  Downloading cython-3.1.1-cp39-cp39-manylinux_2_17_x86_64.manylinux2014_x86_64.whl.metadata (3.5 kB)\nRequirement already satisfied: setuptools!=50.0.0,>=38.6.0 in /opt/miniconda/envs/inf-conda-env/lib/python3.9/site-packages (from pmdarima==1.8.5->azureml-automl-runtime~=1.60.0->azureml-train-automl-runtime==1.60.0->-r /var/azureml-app/condaenv.w_a65ko5.requirements.txt (line 1)) (78.1.1)\nCollecting property-cached>=1.6.4 (from arch<=5.6.0->azureml-automl-runtime~=1.60.0->azureml-train-automl-runtime==1.60.0->-r /var/azureml-app/condaenv.w_a65ko5.requirements.txt (line 1))\n  Downloading property_cached-1.6.4-py2.py3-none-any.whl.metadata (12 kB)\nCollecting backports.tempfile (from azureml-core~=1.60.0->azureml-train-automl-runtime==1.60.0->-r /var/azureml-app/condaenv.w_a65ko5.requirements.txt (line 1))\n  Downloading backports.tempfile-1.0-py2.py3-none-any.whl.metadata (2.3 kB)\nCollecting pathspec<1.0.0 (from azureml-core~=1.60.0->azureml-train-automl-runtime==1.60.0->-r /var/azureml-app/condaenv.w_a65ko5.requirements.txt (line 1))\n  Downloading pathspec-0.12.1-py3-none-any.whl.metadata (21 kB)\nCollecting requests<3.0.0,>=2.19.1 (from requests[socks]<3.0.0,>=2.19.1->azureml-core~=1.60.0->azureml-train-automl-runtime==1.60.0->-r /var/azureml-app/condaenv.w_a65ko5.requirements.txt (line 1))\n  Downloading requests-2.32.3-py3-none-any.whl.metadata (4.6 kB)\nCollecting msal<2.0.0,>=1.15.0 (from azureml-core~=1.60.0->azureml-train-automl-runtime==1.60.0->-r /var/azureml-app/condaenv.w_a65ko5.requirements.txt (line 1))\n  Downloading msal-1.32.3-py3-none-any.whl.metadata (11 kB)\nCollecting msal-extensions<=2.0.0,>=0.3.0 (from azureml-core~=1.60.0->azureml-train-automl-runtime==1.60.0->-r /var/azureml-app/condaenv.w_a65ko5.requirements.txt (line 1))\n  Downloading msal_extensions-1.3.1-py3-none-any.whl.metadata (7.8 kB)\nCollecting knack<0.13.0 (from azureml-core~=1.60.0->azureml-train-automl-runtime==1.60.0->-r /var/azureml-app/condaenv.w_a65ko5.requirements.txt (line 1))\n  Downloading knack-0.12.0-py3-none-any.whl.metadata (5.2 kB)\nCollecting pkginfo (from azureml-core~=1.60.0->azureml-train-automl-runtime==1.60.0->-r /var/azureml-app/condaenv.w_a65ko5.requirements.txt (line 1))\n  Downloading pkginfo-1.12.1.2-py3-none-any.whl.metadata (13 kB)\nCollecting argcomplete<4 (from azureml-core~=1.60.0->azureml-train-automl-runtime==1.60.0->-r /var/azureml-app/condaenv.w_a65ko5.requirements.txt (line 1))\n  Downloading argcomplete-3.6.2-py3-none-any.whl.metadata (16 kB)\nCollecting humanfriendly<11.0,>=4.7 (from azureml-core~=1.60.0->azureml-train-automl-runtime==1.60.0->-r /var/azureml-app/condaenv.w_a65ko5.requirements.txt (line 1))\n  Downloading humanfriendly-10.0-py2.py3-none-any.whl.metadata (9.2 kB)\nCollecting paramiko<4.0.0,>=2.0.8 (from azureml-core~=1.60.0->azureml-train-automl-runtime==1.60.0->-r /var/azureml-app/condaenv.w_a65ko5.requirements.txt (line 1))\n  Downloading paramiko-3.5.1-py3-none-any.whl.metadata (4.6 kB)\nCollecting azure-mgmt-resource<=24.0.0,>=15.0.0 (from azureml-core~=1.60.0->azureml-train-automl-runtime==1.60.0->-r /var/azureml-app/condaenv.w_a65ko5.requirements.txt (line 1))\n  Downloading azure_mgmt_resource-23.4.0-py3-none-any.whl.metadata (42 kB)\nCollecting azure-mgmt-containerregistry<14,>=8.2.0 (from azureml-core~=1.60.0->azureml-train-automl-runtime==1.60.0->-r /var/azureml-app/condaenv.w_a65ko5.requirements.txt (line 1))\n  Downloading azure_mgmt_containerregistry-13.0.0-py3-none-any.whl.metadata (25 kB)\nCollecting azure-mgmt-storage<=23.0.0,>=16.0.0 (from azureml-core~=1.60.0->azureml-train-automl-runtime==1.60.0->-r /var/azureml-app/condaenv.w_a65ko5.requirements.txt (line 1))\n  Downloading azure_mgmt_storage-23.0.0-py3-none-any.whl.metadata (33 kB)\nCollecting azure-mgmt-keyvault<12.0.0,>=0.40.0 (from azureml-core~=1.60.0->azureml-train-automl-runtime==1.60.0->-r /var/azureml-app/condaenv.w_a65ko5.requirements.txt (line 1))\n  Downloading azure_mgmt_keyvault-11.0.0-py3-none-any.whl.metadata (16 kB)\nCollecting azure-mgmt-authorization<5,>=0.40.0 (from azureml-core~=1.60.0->azureml-train-automl-runtime==1.60.0->-r /var/azureml-app/condaenv.w_a65ko5.requirements.txt (line 1))\n  Downloading azure_mgmt_authorization-4.0.0-py3-none-any.whl.metadata (18 kB)\nCollecting azure-mgmt-network<=29.0.0 (from azureml-core~=1.60.0->azureml-train-automl-runtime==1.60.0->-r /var/azureml-app/condaenv.w_a65ko5.requirements.txt (line 1))\n  Downloading azure_mgmt_network-29.0.0-py3-none-any.whl.metadata (93 kB)\nCollecting azure-graphrbac<1.0.0,>=0.40.0 (from azureml-core~=1.60.0->azureml-train-automl-runtime==1.60.0->-r /var/azureml-app/condaenv.w_a65ko5.requirements.txt (line 1))\n  Downloading azure_graphrbac-0.61.2-py2.py3-none-any.whl.metadata (11 kB)\nCollecting azure-common<2.0.0,>=1.1.12 (from azureml-core~=1.60.0->azureml-train-automl-runtime==1.60.0->-r /var/azureml-app/condaenv.w_a65ko5.requirements.txt (line 1))\n  Downloading azure_common-1.1.28-py2.py3-none-any.whl.metadata (5.0 kB)\nCollecting msrest<=0.7.1,>=0.5.1 (from azureml-core~=1.60.0->azureml-train-automl-runtime==1.60.0->-r /var/azureml-app/condaenv.w_a65ko5.requirements.txt (line 1))\n  Downloading msrest-0.7.1-py3-none-any.whl.metadata (21 kB)\nCollecting msrestazure<=0.7,>=0.4.33 (from azureml-core~=1.60.0->azureml-train-automl-runtime==1.60.0->-r /var/azureml-app/condaenv.w_a65ko5.requirements.txt (line 1))\n  Downloading msrestazure-0.6.4.post1-py2.py3-none-any.whl.metadata (15 kB)\nCollecting ndg-httpsclient<=0.5.1 (from azureml-core~=1.60.0->azureml-train-automl-runtime==1.60.0->-r /var/azureml-app/condaenv.w_a65ko5.requirements.txt (line 1))\n  Downloading ndg_httpsclient-0.5.1-py3-none-any.whl.metadata (6.2 kB)\nCollecting SecretStorage<4.0.0 (from azureml-core~=1.60.0->azureml-train-automl-runtime==1.60.0->-r /var/azureml-app/condaenv.w_a65ko5.requirements.txt (line 1))\n  Downloading SecretStorage-3.3.3-py3-none-any.whl.metadata (4.0 kB)\nCollecting jsonpickle<5.0.0 (from azureml-core~=1.60.0->azureml-train-automl-runtime==1.60.0->-r /var/azureml-app/condaenv.w_a65ko5.requirements.txt (line 1))\n  Downloading jsonpickle-4.1.0-py3-none-any.whl.metadata (8.2 kB)\nCollecting contextlib2<22.0.0 (from azureml-core~=1.60.0->azureml-train-automl-runtime==1.60.0->-r /var/azureml-app/condaenv.w_a65ko5.requirements.txt (line 1))\n  Downloading contextlib2-21.6.0-py2.py3-none-any.whl.metadata (4.1 kB)\nCollecting docker<8.0.0 (from azureml-core~=1.60.0->azureml-train-automl-runtime==1.60.0->-r /var/azureml-app/condaenv.w_a65ko5.requirements.txt (line 1))\n  Downloading docker-7.1.0-py3-none-any.whl.metadata (3.8 kB)\nCollecting PyJWT<3.0.0 (from azureml-core~=1.60.0->azureml-train-automl-runtime==1.60.0->-r /var/azureml-app/condaenv.w_a65ko5.requirements.txt (line 1))\n  Downloading PyJWT-2.10.1-py3-none-any.whl.metadata (4.0 kB)\nCollecting adal<=1.2.7,>=1.2.0 (from azureml-core~=1.60.0->azureml-train-automl-runtime==1.60.0->-r /var/azureml-app/condaenv.w_a65ko5.requirements.txt (line 1))\n  Downloading adal-1.2.7-py2.py3-none-any.whl.metadata (6.9 kB)\nCollecting pyopenssl<26.0.0 (from azureml-core~=1.60.0->azureml-train-automl-runtime==1.60.0->-r /var/azureml-app/condaenv.w_a65ko5.requirements.txt (line 1))\n  Downloading pyopenssl-25.1.0-py3-none-any.whl.metadata (17 kB)\nCollecting jmespath<2.0.0 (from azureml-core~=1.60.0->azureml-train-automl-runtime==1.60.0->-r /var/azureml-app/condaenv.w_a65ko5.requirements.txt (line 1))\n  Downloading jmespath-1.0.1-py3-none-any.whl.metadata (7.6 kB)\nRequirement already satisfied: six>=1.11.0 in /opt/miniconda/envs/inf-conda-env/lib/python3.9/site-packages (from azure-core>=1.30.0->azure-storage-queue~=12.1->azureml-train-automl-runtime==1.60.0->-r /var/azureml-app/condaenv.w_a65ko5.requirements.txt (line 1)) (1.17.0)\nCollecting azure-mgmt-core<2.0.0,>=1.3.2 (from azure-mgmt-authorization<5,>=0.40.0->azureml-core~=1.60.0->azureml-train-automl-runtime==1.60.0->-r /var/azureml-app/condaenv.w_a65ko5.requirements.txt (line 1))\n  Downloading azure_mgmt_core-1.5.0-py3-none-any.whl.metadata (4.3 kB)\nCollecting azureml-dataprep<5.2.0a,>=5.1.0a (from azureml-dataset-runtime~=1.60.0->azureml-dataset-runtime[fuse,pandas]~=1.60.0->azureml-train-automl-runtime==1.60.0->-r /var/azureml-app/condaenv.w_a65ko5.requirements.txt (line 1))\n  Downloading azureml_dataprep-5.1.6-py3-none-any.whl.metadata (2.2 kB)\nCollecting azureml-dataprep-native<42.0.0,>=41.0.0 (from azureml-dataprep<5.2.0a,>=5.1.0a->azureml-dataset-runtime~=1.60.0->azureml-dataset-runtime[fuse,pandas]~=1.60.0->azureml-train-automl-runtime==1.60.0->-r /var/azureml-app/condaenv.w_a65ko5.requirements.txt (line 1))\n  Downloading azureml_dataprep_native-41.0.0-cp39-cp39-manylinux1_x86_64.whl.metadata (1.3 kB)\nCollecting azureml-dataprep-rslex~=2.22.2dev0 (from azureml-dataprep<5.2.0a,>=5.1.0a->azureml-dataset-runtime~=1.60.0->azureml-dataset-runtime[fuse,pandas]~=1.60.0->azureml-train-automl-runtime==1.60.0->-r /var/azureml-app/condaenv.w_a65ko5.requirements.txt (line 1))\n  Downloading azureml_dataprep_rslex-2.22.5-cp39-cp39-manylinux1_x86_64.whl.metadata (1.6 kB)\nCollecting cloudpickle<3.0.0,>=1.1.0 (from azureml-dataprep<5.2.0a,>=5.1.0a->azureml-dataset-runtime~=1.60.0->azureml-dataset-runtime[fuse,pandas]~=1.60.0->azureml-train-automl-runtime==1.60.0->-r /var/azureml-app/condaenv.w_a65ko5.requirements.txt (line 1))\n  Downloading cloudpickle-2.2.1-py3-none-any.whl.metadata (6.9 kB)\nCollecting azure-identity>=1.7.0 (from azureml-dataprep<5.2.0a,>=5.1.0a->azureml-dataset-runtime~=1.60.0->azureml-dataset-runtime[fuse,pandas]~=1.60.0->azureml-train-automl-runtime==1.60.0->-r /var/azureml-app/condaenv.w_a65ko5.requirements.txt (line 1))\n  Downloading azure_identity-1.23.0-py3-none-any.whl.metadata (81 kB)\nCollecting jsonschema (from azureml-dataprep<5.2.0a,>=5.1.0a->azureml-dataset-runtime~=1.60.0->azureml-dataset-runtime[fuse,pandas]~=1.60.0->azureml-train-automl-runtime==1.60.0->-r /var/azureml-app/condaenv.w_a65ko5.requirements.txt (line 1))\n  Downloading jsonschema-4.24.0-py3-none-any.whl.metadata (7.8 kB)\nCollecting fusepy<4.0.0,>=3.0.1 (from azureml-dataset-runtime[fuse,pandas]~=1.60.0->azureml-train-automl-runtime==1.60.0->-r /var/azureml-app/condaenv.w_a65ko5.requirements.txt (line 1))\n  Downloading fusepy-3.0.1.tar.gz (11 kB)\n  Preparing metadata (setup.py): started\n  Preparing metadata (setup.py): finished with status 'done'\nCollecting flask~=3.0.0 (from azureml-inference-server-http~=1.3->azureml-defaults==1.60.0->-r /var/azureml-app/condaenv.w_a65ko5.requirements.txt (line 6))\n  Downloading flask-3.0.3-py3-none-any.whl.metadata (3.2 kB)\nCollecting flask-cors~=5.0.0 (from azureml-inference-server-http~=1.3->azureml-defaults==1.60.0->-r /var/azureml-app/condaenv.w_a65ko5.requirements.txt (line 6))\n  Downloading flask_cors-5.0.1-py3-none-any.whl.metadata (961 bytes)\nCollecting opencensus-ext-azure~=1.1.0 (from azureml-inference-server-http~=1.3->azureml-defaults==1.60.0->-r /var/azureml-app/condaenv.w_a65ko5.requirements.txt (line 6))\n  Downloading opencensus_ext_azure-1.1.14-py2.py3-none-any.whl.metadata (17 kB)\nCollecting pydantic~=2.9.0 (from azureml-inference-server-http~=1.3->azureml-defaults==1.60.0->-r /var/azureml-app/condaenv.w_a65ko5.requirements.txt (line 6))\n  Downloading pydantic-2.9.2-py3-none-any.whl.metadata (149 kB)\nCollecting pydantic-settings (from azureml-inference-server-http~=1.3->azureml-defaults==1.60.0->-r /var/azureml-app/condaenv.w_a65ko5.requirements.txt (line 6))\n  Downloading pydantic_settings-2.9.1-py3-none-any.whl.metadata (3.8 kB)\nCollecting werkzeug>=3.0.3 (from azureml-inference-server-http~=1.3->azureml-defaults==1.60.0->-r /var/azureml-app/condaenv.w_a65ko5.requirements.txt (line 6))\n  Downloading werkzeug-3.1.3-py3-none-any.whl.metadata (3.7 kB)\nCollecting certifi>=2024.7.4 (from azureml-inference-server-http~=1.3->azureml-defaults==1.60.0->-r /var/azureml-app/condaenv.w_a65ko5.requirements.txt (line 6))\n  Downloading certifi-2025.4.26-py3-none-any.whl.metadata (2.5 kB)\nCollecting gunicorn>=23.0.0 (from azureml-inference-server-http~=1.3->azureml-defaults==1.60.0->-r /var/azureml-app/condaenv.w_a65ko5.requirements.txt (line 6))\n  Downloading gunicorn-23.0.0-py3-none-any.whl.metadata (4.4 kB)\nCollecting wrapt<=1.16.0,>=1.14.0 (from inference-schema->-r /var/azureml-app/condaenv.w_a65ko5.requirements.txt (line 2))\n  Downloading wrapt-1.16.0-cp39-cp39-manylinux_2_5_x86_64.manylinux1_x86_64.manylinux_2_17_x86_64.manylinux2014_x86_64.whl.metadata (6.6 kB)\nCollecting mlflow-skinny<3.0.0 (from azureml-mlflow~=1.60.0->azureml-train-automl-runtime==1.60.0->-r /var/azureml-app/condaenv.w_a65ko5.requirements.txt (line 1))\n  Downloading mlflow_skinny-2.22.0-py3-none-any.whl.metadata (31 kB)\nCollecting azure-storage-blob<=12.19.0,>=12.5.0 (from azureml-mlflow~=1.60.0->azureml-train-automl-runtime==1.60.0->-r /var/azureml-app/condaenv.w_a65ko5.requirements.txt (line 1))\n  Downloading azure_storage_blob-12.19.0-py3-none-any.whl.metadata (26 kB)\nCollecting applicationinsights (from azureml-telemetry~=1.60.0->azureml-train-automl-runtime==1.60.0->-r /var/azureml-app/condaenv.w_a65ko5.requirements.txt (line 1))\n  Downloading applicationinsights-0.11.10-py2.py3-none-any.whl.metadata (982 bytes)\nCollecting azureml-train-core~=1.60.0 (from azureml-train-automl-client~=1.60.0->azureml-train-automl-runtime==1.60.0->-r /var/azureml-app/condaenv.w_a65ko5.requirements.txt (line 1))\n  Downloading azureml_train_core-1.60.0-py3-none-any.whl.metadata (2.0 kB)\nCollecting azureml-train-restclients-hyperdrive~=1.60.0 (from azureml-train-core~=1.60.0->azureml-train-automl-client~=1.60.0->azureml-train-automl-runtime==1.60.0->-r /var/azureml-app/condaenv.w_a65ko5.requirements.txt (line 1))\n  Downloading azureml_train_restclients_hyperdrive-1.60.0-py3-none-any.whl.metadata (1.4 kB)\nCollecting pillow>=7.1.0 (from bokeh<3.0.0->azureml-train-automl-runtime==1.60.0->-r /var/azureml-app/condaenv.w_a65ko5.requirements.txt (line 1))\n  Downloading pillow-11.2.1-cp39-cp39-manylinux_2_28_x86_64.whl.metadata (8.9 kB)\nCollecting tornado>=5.1 (from bokeh<3.0.0->azureml-train-automl-runtime==1.60.0->-r /var/azureml-app/condaenv.w_a65ko5.requirements.txt (line 1))\n  Downloading tornado-6.5.1-cp39-abi3-manylinux_2_5_x86_64.manylinux1_x86_64.manylinux_2_17_x86_64.manylinux2014_x86_64.whl.metadata (2.8 kB)\nCollecting jmespath<2.0.0 (from azureml-core~=1.60.0->azureml-train-automl-runtime==1.60.0->-r /var/azureml-app/condaenv.w_a65ko5.requirements.txt (line 1))\n  Downloading jmespath-0.10.0-py2.py3-none-any.whl.metadata (8.0 kB)\nCollecting s3transfer<0.6.0,>=0.5.0 (from boto3<=1.20.19->azureml-train-automl-runtime==1.60.0->-r /var/azureml-app/condaenv.w_a65ko5.requirements.txt (line 1))\n  Downloading s3transfer-0.5.2-py3-none-any.whl.metadata (1.7 kB)\nCollecting click>=7.0 (from dask<=2023.2.0->dask[complete]<=2023.2.0->azureml-train-automl-runtime==1.60.0->-r /var/azureml-app/condaenv.w_a65ko5.requirements.txt (line 1))\n  Downloading click-8.1.8-py3-none-any.whl.metadata (2.3 kB)\nCollecting fsspec>=0.6.0 (from dask<=2023.2.0->dask[complete]<=2023.2.0->azureml-train-automl-runtime==1.60.0->-r /var/azureml-app/condaenv.w_a65ko5.requirements.txt (line 1))\n  Downloading fsspec-2025.5.1-py3-none-any.whl.metadata (11 kB)\nCollecting partd>=0.3.10 (from dask<=2023.2.0->dask[complete]<=2023.2.0->azureml-train-automl-runtime==1.60.0->-r /var/azureml-app/condaenv.w_a65ko5.requirements.txt (line 1))\n  Downloading partd-1.4.2-py3-none-any.whl.metadata (4.6 kB)\nCollecting toolz>=0.8.2 (from dask<=2023.2.0->dask[complete]<=2023.2.0->azureml-train-automl-runtime==1.60.0->-r /var/azureml-app/condaenv.w_a65ko5.requirements.txt (line 1))\n  Downloading toolz-1.0.0-py3-none-any.whl.metadata (5.1 kB)\nCollecting distributed==2023.2.0 (from dask[complete]<=2023.2.0->azureml-train-automl-runtime==1.60.0->-r /var/azureml-app/condaenv.w_a65ko5.requirements.txt (line 1))\n  Downloading distributed-2023.2.0-py3-none-any.whl.metadata (3.3 kB)\nCollecting locket>=1.0.0 (from distributed==2023.2.0->dask[complete]<=2023.2.0->azureml-train-automl-runtime==1.60.0->-r /var/azureml-app/condaenv.w_a65ko5.requirements.txt (line 1))\n  Downloading locket-1.0.0-py2.py3-none-any.whl.metadata (2.8 kB)\nCollecting msgpack>=1.0.0 (from distributed==2023.2.0->dask[complete]<=2023.2.0->azureml-train-automl-runtime==1.60.0->-r /var/azureml-app/condaenv.w_a65ko5.requirements.txt (line 1))\n  Downloading msgpack-1.1.0-cp39-cp39-manylinux_2_17_x86_64.manylinux2014_x86_64.whl.metadata (8.4 kB)\nCollecting sortedcontainers>=2.0.5 (from distributed==2023.2.0->dask[complete]<=2023.2.0->azureml-train-automl-runtime==1.60.0->-r /var/azureml-app/condaenv.w_a65ko5.requirements.txt (line 1))\n  Downloading sortedcontainers-2.4.0-py2.py3-none-any.whl.metadata (10 kB)\nCollecting tblib>=1.6.0 (from distributed==2023.2.0->dask[complete]<=2023.2.0->azureml-train-automl-runtime==1.60.0->-r /var/azureml-app/condaenv.w_a65ko5.requirements.txt (line 1))\n  Downloading tblib-3.1.0-py3-none-any.whl.metadata (25 kB)\nCollecting zict>=2.1.0 (from distributed==2023.2.0->dask[complete]<=2023.2.0->azureml-train-automl-runtime==1.60.0->-r /var/azureml-app/condaenv.w_a65ko5.requirements.txt (line 1))\n  Downloading zict-3.0.0-py2.py3-none-any.whl.metadata (899 bytes)\nCollecting distro>=1.2.0 (from dotnetcore2<4.0.0,>=3.0.0->azureml-automl-runtime~=1.60.0->azureml-train-automl-runtime==1.60.0->-r /var/azureml-app/condaenv.w_a65ko5.requirements.txt (line 1))\n  Downloading distro-1.9.0-py3-none-any.whl.metadata (6.8 kB)\nCollecting itsdangerous>=2.1.2 (from flask~=3.0.0->azureml-inference-server-http~=1.3->azureml-defaults==1.60.0->-r /var/azureml-app/condaenv.w_a65ko5.requirements.txt (line 6))\n  Downloading itsdangerous-2.2.0-py3-none-any.whl.metadata (1.9 kB)\nCollecting blinker>=1.6.2 (from flask~=3.0.0->azureml-inference-server-http~=1.3->azureml-defaults==1.60.0->-r /var/azureml-app/condaenv.w_a65ko5.requirements.txt (line 6))\n  Downloading blinker-1.9.0-py3-none-any.whl.metadata (1.6 kB)\nCollecting zipp>=0.5 (from importlib-metadata<=8.2.0->azureml-automl-core~=1.60.0->azureml-train-automl-runtime==1.60.0->-r /var/azureml-app/condaenv.w_a65ko5.requirements.txt (line 1))\n  Downloading zipp-3.22.0-py3-none-any.whl.metadata (3.6 kB)\nCollecting ml-wrappers~=0.5.4 (from interpret-community==0.31.*->azureml-interpret==1.60.0->-r /var/azureml-app/condaenv.w_a65ko5.requirements.txt (line 5))\n  Downloading ml_wrappers-0.5.6-py3-none-any.whl.metadata (1.7 kB)\nCollecting shap<=0.44.0,>=0.20.0 (from interpret-community==0.31.*->azureml-interpret==1.60.0->-r /var/azureml-app/condaenv.w_a65ko5.requirements.txt (line 5))\n  Downloading shap-0.44.0-cp39-cp39-manylinux_2_12_x86_64.manylinux2010_x86_64.manylinux_2_17_x86_64.manylinux2014_x86_64.whl.metadata (24 kB)\nCollecting raiutils~=0.4.0 (from interpret-community==0.31.*->azureml-interpret==1.60.0->-r /var/azureml-app/condaenv.w_a65ko5.requirements.txt (line 5))\n  Downloading raiutils-0.4.2-py3-none-any.whl.metadata (1.4 kB)\nCollecting interpret-core<=0.5.0,>=0.1.20 (from interpret-community==0.31.*->azureml-interpret==1.60.0->-r /var/azureml-app/condaenv.w_a65ko5.requirements.txt (line 5))\n  Downloading interpret_core-0.5.0-py3-none-any.whl.metadata (2.7 kB)\nCollecting MarkupSafe>=2.0 (from jinja2<4->azureml-train-automl-runtime==1.60.0->-r /var/azureml-app/condaenv.w_a65ko5.requirements.txt (line 1))\n  Downloading MarkupSafe-3.0.2-cp39-cp39-manylinux_2_17_x86_64.manylinux2014_x86_64.whl.metadata (4.0 kB)\nCollecting fire (from keras2onnx<=1.6.0,>=1.4.0->azureml-train-automl-runtime==1.60.0->-r /var/azureml-app/condaenv.w_a65ko5.requirements.txt (line 1))\n  Downloading fire-0.7.0.tar.gz (87 kB)\n  Preparing metadata (setup.py): started\n  Preparing metadata (setup.py): finished with status 'done'\nCollecting pygments (from knack<0.13.0->azureml-core~=1.60.0->azureml-train-automl-runtime==1.60.0->-r /var/azureml-app/condaenv.w_a65ko5.requirements.txt (line 1))\n  Downloading pygments-2.19.1-py3-none-any.whl.metadata (2.5 kB)\nCollecting tabulate (from knack<0.13.0->azureml-core~=1.60.0->azureml-train-automl-runtime==1.60.0->-r /var/azureml-app/condaenv.w_a65ko5.requirements.txt (line 1))\n  Downloading tabulate-0.9.0-py3-none-any.whl.metadata (34 kB)\nCollecting cachetools<6,>=5.0.0 (from mlflow-skinny<3.0.0->azureml-mlflow~=1.60.0->azureml-train-automl-runtime==1.60.0->-r /var/azureml-app/condaenv.w_a65ko5.requirements.txt (line 1))\n  Downloading cachetools-5.5.2-py3-none-any.whl.metadata (5.4 kB)\nCollecting databricks-sdk<1,>=0.20.0 (from mlflow-skinny<3.0.0->azureml-mlflow~=1.60.0->azureml-train-automl-runtime==1.60.0->-r /var/azureml-app/condaenv.w_a65ko5.requirements.txt (line 1))\n  Downloading databricks_sdk-0.55.0-py3-none-any.whl.metadata (39 kB)\nCollecting fastapi<1 (from mlflow-skinny<3.0.0->azureml-mlflow~=1.60.0->azureml-train-automl-runtime==1.60.0->-r /var/azureml-app/condaenv.w_a65ko5.requirements.txt (line 1))\n  Downloading fastapi-0.115.12-py3-none-any.whl.metadata (27 kB)\nCollecting gitpython<4,>=3.1.9 (from mlflow-skinny<3.0.0->azureml-mlflow~=1.60.0->azureml-train-automl-runtime==1.60.0->-r /var/azureml-app/condaenv.w_a65ko5.requirements.txt (line 1))\n  Downloading GitPython-3.1.44-py3-none-any.whl.metadata (13 kB)\nCollecting opentelemetry-api<3,>=1.9.0 (from mlflow-skinny<3.0.0->azureml-mlflow~=1.60.0->azureml-train-automl-runtime==1.60.0->-r /var/azureml-app/condaenv.w_a65ko5.requirements.txt (line 1))\n  Downloading opentelemetry_api-1.33.1-py3-none-any.whl.metadata (1.6 kB)\nCollecting opentelemetry-sdk<3,>=1.9.0 (from mlflow-skinny<3.0.0->azureml-mlflow~=1.60.0->azureml-train-automl-runtime==1.60.0->-r /var/azureml-app/condaenv.w_a65ko5.requirements.txt (line 1))\n  Downloading opentelemetry_sdk-1.33.1-py3-none-any.whl.metadata (1.6 kB)\nCollecting packaging (from onnxconverter-common==1.13.0->azureml-train-automl-runtime==1.60.0->-r /var/azureml-app/condaenv.w_a65ko5.requirements.txt (line 1))\n  Downloading packaging-24.2-py3-none-any.whl.metadata (3.2 kB)\nCollecting sqlparse<1,>=0.4.0 (from mlflow-skinny<3.0.0->azureml-mlflow~=1.60.0->azureml-train-automl-runtime==1.60.0->-r /var/azureml-app/condaenv.w_a65ko5.requirements.txt (line 1))\n  Downloading sqlparse-0.5.3-py3-none-any.whl.metadata (3.9 kB)\nCollecting uvicorn<1 (from mlflow-skinny<3.0.0->azureml-mlflow~=1.60.0->azureml-train-automl-runtime==1.60.0->-r /var/azureml-app/condaenv.w_a65ko5.requirements.txt (line 1))\n  Downloading uvicorn-0.34.2-py3-none-any.whl.metadata (6.5 kB)\nCollecting google-auth~=2.0 (from databricks-sdk<1,>=0.20.0->mlflow-skinny<3.0.0->azureml-mlflow~=1.60.0->azureml-train-automl-runtime==1.60.0->-r /var/azureml-app/condaenv.w_a65ko5.requirements.txt (line 1))\n  Downloading google_auth-2.40.2-py2.py3-none-any.whl.metadata (6.2 kB)\nCollecting starlette<0.47.0,>=0.40.0 (from fastapi<1->mlflow-skinny<3.0.0->azureml-mlflow~=1.60.0->azureml-train-automl-runtime==1.60.0->-r /var/azureml-app/condaenv.w_a65ko5.requirements.txt (line 1))\n  Downloading starlette-0.46.2-py3-none-any.whl.metadata (6.2 kB)\nCollecting gitdb<5,>=4.0.1 (from gitpython<4,>=3.1.9->mlflow-skinny<3.0.0->azureml-mlflow~=1.60.0->azureml-train-automl-runtime==1.60.0->-r /var/azureml-app/condaenv.w_a65ko5.requirements.txt (line 1))\n  Downloading gitdb-4.0.12-py3-none-any.whl.metadata (1.2 kB)\nCollecting smmap<6,>=3.0.1 (from gitdb<5,>=4.0.1->gitpython<4,>=3.1.9->mlflow-skinny<3.0.0->azureml-mlflow~=1.60.0->azureml-train-automl-runtime==1.60.0->-r /var/azureml-app/condaenv.w_a65ko5.requirements.txt (line 1))\n  Downloading smmap-5.0.2-py3-none-any.whl.metadata (4.3 kB)\nCollecting pyasn1-modules>=0.2.1 (from google-auth~=2.0->databricks-sdk<1,>=0.20.0->mlflow-skinny<3.0.0->azureml-mlflow~=1.60.0->azureml-train-automl-runtime==1.60.0->-r /var/azureml-app/condaenv.w_a65ko5.requirements.txt (line 1))\n  Downloading pyasn1_modules-0.4.2-py3-none-any.whl.metadata (3.5 kB)\nCollecting rsa<5,>=3.1.4 (from google-auth~=2.0->databricks-sdk<1,>=0.20.0->mlflow-skinny<3.0.0->azureml-mlflow~=1.60.0->azureml-train-automl-runtime==1.60.0->-r /var/azureml-app/condaenv.w_a65ko5.requirements.txt (line 1))\n  Downloading rsa-4.9.1-py3-none-any.whl.metadata (5.6 kB)\nCollecting cffi>=1.14 (from cryptography>=2.1.4->azure-storage-queue~=12.1->azureml-train-automl-runtime==1.60.0->-r /var/azureml-app/condaenv.w_a65ko5.requirements.txt (line 1))\n  Downloading cffi-1.17.1-cp39-cp39-manylinux_2_17_x86_64.manylinux2014_x86_64.whl.metadata (1.5 kB)\nCollecting requests-oauthlib>=0.5.0 (from msrest<=0.7.1,>=0.5.1->azureml-core~=1.60.0->azureml-train-automl-runtime==1.60.0->-r /var/azureml-app/condaenv.w_a65ko5.requirements.txt (line 1))\n  Downloading requests_oauthlib-2.0.0-py2.py3-none-any.whl.metadata (11 kB)\nCollecting pyasn1>=0.1.1 (from ndg-httpsclient<=0.5.1->azureml-core~=1.60.0->azureml-train-automl-runtime==1.60.0->-r /var/azureml-app/condaenv.w_a65ko5.requirements.txt (line 1))\n  Downloading pyasn1-0.6.1-py3-none-any.whl.metadata (8.4 kB)\nCollecting llvmlite<0.40,>=0.39.0dev0 (from numba<=0.56.4->azureml-interpret==1.60.0->-r /var/azureml-app/condaenv.w_a65ko5.requirements.txt (line 5))\n  Downloading llvmlite-0.39.1-cp39-cp39-manylinux_2_17_x86_64.manylinux2014_x86_64.whl.metadata (4.7 kB)\nCollecting coloredlogs (from onnxruntime~=1.17.3->azureml-train-automl-runtime==1.60.0->-r /var/azureml-app/condaenv.w_a65ko5.requirements.txt (line 1))\n  Downloading coloredlogs-15.0.1-py2.py3-none-any.whl.metadata (12 kB)\nCollecting flatbuffers (from onnxruntime~=1.17.3->azureml-train-automl-runtime==1.60.0->-r /var/azureml-app/condaenv.w_a65ko5.requirements.txt (line 1))\n  Downloading flatbuffers-25.2.10-py2.py3-none-any.whl.metadata (875 bytes)\nCollecting sympy (from onnxruntime~=1.17.3->azureml-train-automl-runtime==1.60.0->-r /var/azureml-app/condaenv.w_a65ko5.requirements.txt (line 1))\n  Downloading sympy-1.14.0-py3-none-any.whl.metadata (12 kB)\nCollecting opencensus<1.0.0,>=0.11.4 (from opencensus-ext-azure~=1.1.0->azureml-inference-server-http~=1.3->azureml-defaults==1.60.0->-r /var/azureml-app/condaenv.w_a65ko5.requirements.txt (line 6))\n  Downloading opencensus-0.11.4-py2.py3-none-any.whl.metadata (12 kB)\nCollecting opencensus-context>=0.1.3 (from opencensus<1.0.0,>=0.11.4->opencensus-ext-azure~=1.1.0->azureml-inference-server-http~=1.3->azureml-defaults==1.60.0->-r /var/azureml-app/condaenv.w_a65ko5.requirements.txt (line 6))\n  Downloading opencensus_context-0.1.3-py2.py3-none-any.whl.metadata (3.3 kB)\nCollecting google-api-core<3.0.0,>=1.0.0 (from opencensus<1.0.0,>=0.11.4->opencensus-ext-azure~=1.1.0->azureml-inference-server-http~=1.3->azureml-defaults==1.60.0->-r /var/azureml-app/condaenv.w_a65ko5.requirements.txt (line 6))\n  Downloading google_api_core-2.24.2-py3-none-any.whl.metadata (3.0 kB)\nCollecting googleapis-common-protos<2.0.0,>=1.56.2 (from google-api-core<3.0.0,>=1.0.0->opencensus<1.0.0,>=0.11.4->opencensus-ext-azure~=1.1.0->azureml-inference-server-http~=1.3->azureml-defaults==1.60.0->-r /var/azureml-app/condaenv.w_a65ko5.requirements.txt (line 6))\n  Downloading googleapis_common_protos-1.70.0-py3-none-any.whl.metadata (9.3 kB)\nCollecting proto-plus<2.0.0,>=1.22.3 (from google-api-core<3.0.0,>=1.0.0->opencensus<1.0.0,>=0.11.4->opencensus-ext-azure~=1.1.0->azureml-inference-server-http~=1.3->azureml-defaults==1.60.0->-r /var/azureml-app/condaenv.w_a65ko5.requirements.txt (line 6))\n  Downloading proto_plus-1.26.1-py3-none-any.whl.metadata (2.2 kB)\nCollecting deprecated>=1.2.6 (from opentelemetry-api<3,>=1.9.0->mlflow-skinny<3.0.0->azureml-mlflow~=1.60.0->azureml-train-automl-runtime==1.60.0->-r /var/azureml-app/condaenv.w_a65ko5.requirements.txt (line 1))\n  Downloading Deprecated-1.2.18-py2.py3-none-any.whl.metadata (5.7 kB)\nCollecting opentelemetry-semantic-conventions==0.54b1 (from opentelemetry-sdk<3,>=1.9.0->mlflow-skinny<3.0.0->azureml-mlflow~=1.60.0->azureml-train-automl-runtime==1.60.0->-r /var/azureml-app/condaenv.w_a65ko5.requirements.txt (line 1))\n  Downloading opentelemetry_semantic_conventions-0.54b1-py3-none-any.whl.metadata (2.5 kB)\nCollecting bcrypt>=3.2 (from paramiko<4.0.0,>=2.0.8->azureml-core~=1.60.0->azureml-train-automl-runtime==1.60.0->-r /var/azureml-app/condaenv.w_a65ko5.requirements.txt (line 1))\n  Downloading bcrypt-4.3.0-cp39-abi3-manylinux_2_34_x86_64.whl.metadata (10 kB)\nCollecting pynacl>=1.5 (from paramiko<4.0.0,>=2.0.8->azureml-core~=1.60.0->azureml-train-automl-runtime==1.60.0->-r /var/azureml-app/condaenv.w_a65ko5.requirements.txt (line 1))\n  Downloading PyNaCl-1.5.0-cp36-abi3-manylinux_2_17_x86_64.manylinux2014_x86_64.manylinux_2_24_x86_64.whl.metadata (8.6 kB)\nCollecting annotated-types>=0.6.0 (from pydantic~=2.9.0->azureml-inference-server-http~=1.3->azureml-defaults==1.60.0->-r /var/azureml-app/condaenv.w_a65ko5.requirements.txt (line 6))\n  Downloading annotated_types-0.7.0-py3-none-any.whl.metadata (15 kB)\nCollecting pydantic-core==2.23.4 (from pydantic~=2.9.0->azureml-inference-server-http~=1.3->azureml-defaults==1.60.0->-r /var/azureml-app/condaenv.w_a65ko5.requirements.txt (line 6))\n  Downloading pydantic_core-2.23.4-cp39-cp39-manylinux_2_17_x86_64.manylinux2014_x86_64.whl.metadata (6.6 kB)\nCollecting charset-normalizer<4,>=2 (from requests<3.0.0,>=2.19.1->requests[socks]<3.0.0,>=2.19.1->azureml-core~=1.60.0->azureml-train-automl-runtime==1.60.0->-r /var/azureml-app/condaenv.w_a65ko5.requirements.txt (line 1))\n  Downloading charset_normalizer-3.4.2-cp39-cp39-manylinux_2_17_x86_64.manylinux2014_x86_64.whl.metadata (35 kB)\nCollecting idna<4,>=2.5 (from requests<3.0.0,>=2.19.1->requests[socks]<3.0.0,>=2.19.1->azureml-core~=1.60.0->azureml-train-automl-runtime==1.60.0->-r /var/azureml-app/condaenv.w_a65ko5.requirements.txt (line 1))\n  Downloading idna-3.10-py3-none-any.whl.metadata (10 kB)\nCollecting PySocks!=1.5.7,>=1.5.6 (from requests[socks]<3.0.0,>=2.19.1->azureml-core~=1.60.0->azureml-train-automl-runtime==1.60.0->-r /var/azureml-app/condaenv.w_a65ko5.requirements.txt (line 1))\n  Downloading PySocks-1.7.1-py3-none-any.whl.metadata (13 kB)\nRequirement already satisfied: threadpoolctl>=3.1.0 in /opt/miniconda/envs/inf-conda-env/lib/python3.9/site-packages (from scikit-learn~=1.5.1->azureml-train-automl-runtime==1.60.0->-r /var/azureml-app/condaenv.w_a65ko5.requirements.txt (line 1)) (3.5.0)\nCollecting jeepney>=0.6 (from SecretStorage<4.0.0->azureml-core~=1.60.0->azureml-train-automl-runtime==1.60.0->-r /var/azureml-app/condaenv.w_a65ko5.requirements.txt (line 1))\n  Downloading jeepney-0.9.0-py3-none-any.whl.metadata (1.2 kB)\nCollecting slicer==0.0.7 (from shap<=0.44.0,>=0.20.0->interpret-community==0.31.*->azureml-interpret==1.60.0->-r /var/azureml-app/condaenv.w_a65ko5.requirements.txt (line 5))\n  Downloading slicer-0.0.7-py3-none-any.whl.metadata (3.7 kB)\nCollecting anyio<5,>=3.6.2 (from starlette<0.47.0,>=0.40.0->fastapi<1->mlflow-skinny<3.0.0->azureml-mlflow~=1.60.0->azureml-train-automl-runtime==1.60.0->-r /var/azureml-app/condaenv.w_a65ko5.requirements.txt (line 1))\n  Downloading anyio-4.9.0-py3-none-any.whl.metadata (4.7 kB)\nCollecting exceptiongroup>=1.0.2 (from anyio<5,>=3.6.2->starlette<0.47.0,>=0.40.0->fastapi<1->mlflow-skinny<3.0.0->azureml-mlflow~=1.60.0->azureml-train-automl-runtime==1.60.0->-r /var/azureml-app/condaenv.w_a65ko5.requirements.txt (line 1))\n  Downloading exceptiongroup-1.3.0-py3-none-any.whl.metadata (6.7 kB)\nCollecting sniffio>=1.1 (from anyio<5,>=3.6.2->starlette<0.47.0,>=0.40.0->fastapi<1->mlflow-skinny<3.0.0->azureml-mlflow~=1.60.0->azureml-train-automl-runtime==1.60.0->-r /var/azureml-app/condaenv.w_a65ko5.requirements.txt (line 1))\n  Downloading sniffio-1.3.1-py3-none-any.whl.metadata (3.9 kB)\nCollecting patsy>=0.5.2 (from statsmodels<0.14,>=0.13.0->azureml-train-automl-runtime==1.60.0->-r /var/azureml-app/condaenv.w_a65ko5.requirements.txt (line 1))\n  Downloading patsy-1.0.1-py2.py3-none-any.whl.metadata (3.3 kB)\nCollecting h11>=0.8 (from uvicorn<1->mlflow-skinny<3.0.0->azureml-mlflow~=1.60.0->azureml-train-automl-runtime==1.60.0->-r /var/azureml-app/condaenv.w_a65ko5.requirements.txt (line 1))\n  Downloading h11-0.16.0-py3-none-any.whl.metadata (8.3 kB)\nCollecting pycparser (from cffi>=1.14->cryptography>=2.1.4->azure-storage-queue~=12.1->azureml-train-automl-runtime==1.60.0->-r /var/azureml-app/condaenv.w_a65ko5.requirements.txt (line 1))\n  Downloading pycparser-2.22-py3-none-any.whl.metadata (943 bytes)\nCollecting stanio<2.0.0,>=0.4.0 (from cmdstanpy>=1.0.4->prophet==1.1.4->-r /var/azureml-app/condaenv.w_a65ko5.requirements.txt (line 4))\n  Downloading stanio-0.5.1-py3-none-any.whl.metadata (1.6 kB)\nCollecting pymeeus<=1,>=0.3.13 (from convertdate>=2.1.2->prophet==1.1.4->-r /var/azureml-app/condaenv.w_a65ko5.requirements.txt (line 4))\n  Downloading PyMeeus-0.5.12.tar.gz (5.8 MB)\n     ━━━━━━━━━━━━━━━━━━━━━━━━━━━━━━━━━━━━━━━━ 5.8/5.8 MB 73.9 MB/s eta 0:00:00\n  Preparing metadata (setup.py): started\n  Preparing metadata (setup.py): finished with status 'done'\nCollecting ephem>=3.7.5.3 (from LunarCalendar>=0.0.9->prophet==1.1.4->-r /var/azureml-app/condaenv.w_a65ko5.requirements.txt (line 4))\n  Downloading ephem-4.2-cp39-cp39-manylinux_2_17_x86_64.manylinux2014_x86_64.whl.metadata (6.1 kB)\nCollecting contourpy>=1.0.1 (from matplotlib>=2.0.0->prophet==1.1.4->-r /var/azureml-app/condaenv.w_a65ko5.requirements.txt (line 4))\n  Downloading contourpy-1.3.0-cp39-cp39-manylinux_2_17_x86_64.manylinux2014_x86_64.whl.metadata (5.4 kB)\nCollecting cycler>=0.10 (from matplotlib>=2.0.0->prophet==1.1.4->-r /var/azureml-app/condaenv.w_a65ko5.requirements.txt (line 4))\n  Downloading cycler-0.12.1-py3-none-any.whl.metadata (3.8 kB)\nCollecting fonttools>=4.22.0 (from matplotlib>=2.0.0->prophet==1.1.4->-r /var/azureml-app/condaenv.w_a65ko5.requirements.txt (line 4))\n  Downloading fonttools-4.58.1-cp39-cp39-manylinux_2_17_x86_64.manylinux2014_x86_64.whl.metadata (106 kB)\nCollecting kiwisolver>=1.3.1 (from matplotlib>=2.0.0->prophet==1.1.4->-r /var/azureml-app/condaenv.w_a65ko5.requirements.txt (line 4))\n  Downloading kiwisolver-1.4.7-cp39-cp39-manylinux_2_12_x86_64.manylinux2010_x86_64.whl.metadata (6.3 kB)\nCollecting pyparsing>=2.3.1 (from matplotlib>=2.0.0->prophet==1.1.4->-r /var/azureml-app/condaenv.w_a65ko5.requirements.txt (line 4))\n  Downloading pyparsing-3.2.3-py3-none-any.whl.metadata (5.0 kB)\nCollecting oauthlib>=3.0.0 (from requests-oauthlib>=0.5.0->msrest<=0.7.1,>=0.5.1->azureml-core~=1.60.0->azureml-train-automl-runtime==1.60.0->-r /var/azureml-app/condaenv.w_a65ko5.requirements.txt (line 1))\n  Downloading oauthlib-3.2.2-py3-none-any.whl.metadata (7.5 kB)\nCollecting backports.weakref (from backports.tempfile->azureml-core~=1.60.0->azureml-train-automl-runtime==1.60.0->-r /var/azureml-app/condaenv.w_a65ko5.requirements.txt (line 1))\n  Downloading backports.weakref-1.0.post1-py2.py3-none-any.whl.metadata (2.3 kB)\nCollecting termcolor (from fire->keras2onnx<=1.6.0,>=1.4.0->azureml-train-automl-runtime==1.60.0->-r /var/azureml-app/condaenv.w_a65ko5.requirements.txt (line 1))\n  Downloading termcolor-3.1.0-py3-none-any.whl.metadata (6.4 kB)\nCollecting attrs>=22.2.0 (from jsonschema->azureml-dataprep<5.2.0a,>=5.1.0a->azureml-dataset-runtime~=1.60.0->azureml-dataset-runtime[fuse,pandas]~=1.60.0->azureml-train-automl-runtime==1.60.0->-r /var/azureml-app/condaenv.w_a65ko5.requirements.txt (line 1))\n  Downloading attrs-25.3.0-py3-none-any.whl.metadata (10 kB)\nCollecting jsonschema-specifications>=2023.03.6 (from jsonschema->azureml-dataprep<5.2.0a,>=5.1.0a->azureml-dataset-runtime~=1.60.0->azureml-dataset-runtime[fuse,pandas]~=1.60.0->azureml-train-automl-runtime==1.60.0->-r /var/azureml-app/condaenv.w_a65ko5.requirements.txt (line 1))\n  Downloading jsonschema_specifications-2025.4.1-py3-none-any.whl.metadata (2.9 kB)\nCollecting referencing>=0.28.4 (from jsonschema->azureml-dataprep<5.2.0a,>=5.1.0a->azureml-dataset-runtime~=1.60.0->azureml-dataset-runtime[fuse,pandas]~=1.60.0->azureml-train-automl-runtime==1.60.0->-r /var/azureml-app/condaenv.w_a65ko5.requirements.txt (line 1))\n  Downloading referencing-0.36.2-py3-none-any.whl.metadata (2.8 kB)\nCollecting rpds-py>=0.7.1 (from jsonschema->azureml-dataprep<5.2.0a,>=5.1.0a->azureml-dataset-runtime~=1.60.0->azureml-dataset-runtime[fuse,pandas]~=1.60.0->azureml-train-automl-runtime==1.60.0->-r /var/azureml-app/condaenv.w_a65ko5.requirements.txt (line 1))\n  Downloading rpds_py-0.25.1-cp39-cp39-manylinux_2_17_x86_64.manylinux2014_x86_64.whl.metadata (4.1 kB)\nCollecting python-dotenv>=0.21.0 (from pydantic-settings->azureml-inference-server-http~=1.3->azureml-defaults==1.60.0->-r /var/azureml-app/condaenv.w_a65ko5.requirements.txt (line 6))\n  Downloading python_dotenv-1.1.0-py3-none-any.whl.metadata (24 kB)\nCollecting typing-inspection>=0.4.0 (from pydantic-settings->azureml-inference-server-http~=1.3->azureml-defaults==1.60.0->-r /var/azureml-app/condaenv.w_a65ko5.requirements.txt (line 6))\n  Downloading typing_inspection-0.4.1-py3-none-any.whl.metadata (2.6 kB)\nCollecting mpmath<1.4,>=1.1.0 (from sympy->onnxruntime~=1.17.3->azureml-train-automl-runtime==1.60.0->-r /var/azureml-app/condaenv.w_a65ko5.requirements.txt (line 1))\n  Downloading mpmath-1.3.0-py3-none-any.whl.metadata (8.6 kB)\nDownloading azureml_train_automl_runtime-1.60.0-py3-none-any.whl (420 kB)\nDownloading azureml_interpret-1.60.0-py3-none-any.whl (52 kB)\nDownloading prophet-1.1.4-py3-none-manylinux_2_17_x86_64.manylinux2014_x86_64.whl (13.0 MB)\n   ━━━━━━━━━━━━━━━━━━━━━━━━━━━━━━━━━━━━━━━━ 13.0/13.0 MB 100.6 MB/s eta 0:00:00\nDownloading azureml_defaults-1.60.0-py3-none-any.whl (2.1 kB)\nDownloading gensim-4.3.2-cp39-cp39-manylinux_2_17_x86_64.manylinux2014_x86_64.whl (26.6 MB)\n   ━━━━━━━━━━━━━━━━━━━━━━━━━━━━━━━━━━━━━━━━ 26.6/26.6 MB 110.5 MB/s eta 0:00:00\nDownloading onnxconverter_common-1.13.0-py2.py3-none-any.whl (83 kB)\nDownloading onnxmltools-1.12.0-py2.py3-none-any.whl (329 kB)\nDownloading pyarrow-14.0.2-cp39-cp39-manylinux_2_28_x86_64.whl (38.0 MB)\n   ━━━━━━━━━━━━━━━━━━━━━━━━━━━━━━━━━━━━━━━━ 38.0/38.0 MB 94.9 MB/s eta 0:00:00\nDownloading skl2onnx-1.15.0-py2.py3-none-any.whl (294 kB)\nDownloading smart_open-6.4.0-py3-none-any.whl (57 kB)\nDownloading xgboost-1.5.2-py3-none-manylinux2014_x86_64.whl (173.6 MB)\n   ━━━━━━━━━━━━━━━━━━━━━━━━━━━━━━━━━━━━━━━━ 173.6/173.6 MB 91.0 MB/s eta 0:00:00\nDownloading azure_storage_queue-12.12.0-py3-none-any.whl (182 kB)\nDownloading azureml_automl_core-1.60.0-py3-none-any.whl (245 kB)\nDownloading azureml_automl_runtime-1.60.0-py3-none-any.whl (1.8 MB)\n   ━━━━━━━━━━━━━━━━━━━━━━━━━━━━━━━━━━━━━━━━ 1.8/1.8 MB 41.5 MB/s eta 0:00:00\nDownloading joblib-1.2.0-py3-none-any.whl (297 kB)\nDownloading pmdarima-1.8.5-cp39-cp39-manylinux_2_17_x86_64.manylinux2014_x86_64.manylinux_2_24_x86_64.whl (1.4 MB)\n   ━━━━━━━━━━━━━━━━━━━━━━━━━━━━━━━━━━━━━━━━ 1.4/1.4 MB 40.7 MB/s eta 0:00:00\nDownloading arch-5.6.0-cp39-cp39-manylinux_2_17_x86_64.manylinux2014_x86_64.whl (920 kB)\n   ━━━━━━━━━━━━━━━━━━━━━━━━━━━━━━━━━━━━━━━━ 920.8/920.8 kB 27.8 MB/s eta 0:00:00\nDownloading azureml_core-1.60.0.post1-py3-none-any.whl (3.3 MB)\n   ━━━━━━━━━━━━━━━━━━━━━━━━━━━━━━━━━━━━━━━━ 3.3/3.3 MB 57.5 MB/s eta 0:00:00\nDownloading adal-1.2.7-py2.py3-none-any.whl (55 kB)\nDownloading argcomplete-3.6.2-py3-none-any.whl (43 kB)\nDownloading azure_common-1.1.28-py2.py3-none-any.whl (14 kB)\nDownloading azure_core-1.34.0-py3-none-any.whl (207 kB)\nDownloading azure_graphrbac-0.61.2-py2.py3-none-any.whl (142 kB)\nDownloading azure_mgmt_authorization-4.0.0-py3-none-any.whl (1.1 MB)\n   ━━━━━━━━━━━━━━━━━━━━━━━━━━━━━━━━━━━━━━━━ 1.1/1.1 MB 26.8 MB/s eta 0:00:00\nDownloading azure_mgmt_containerregistry-13.0.0-py3-none-any.whl (1.4 MB)\n   ━━━━━━━━━━━━━━━━━━━━━━━━━━━━━━━━━━━━━━━━ 1.4/1.4 MB 37.8 MB/s eta 0:00:00\nDownloading azure_mgmt_core-1.5.0-py3-none-any.whl (30 kB)\nDownloading azure_mgmt_keyvault-11.0.0-py3-none-any.whl (308 kB)\nDownloading azure_mgmt_network-29.0.0-py3-none-any.whl (608 kB)\n   ━━━━━━━━━━━━━━━━━━━━━━━━━━━━━━━━━━━━━━━━ 608.0/608.0 kB 18.2 MB/s eta 0:00:00\nDownloading azure_mgmt_resource-23.4.0-py3-none-any.whl (4.0 MB)\n   ━━━━━━━━━━━━━━━━━━━━━━━━━━━━━━━━━━━━━━━━ 4.0/4.0 MB 74.1 MB/s eta 0:00:00\nDownloading azure_mgmt_storage-23.0.0-py3-none-any.whl (286 kB)\nDownloading azureml_dataset_runtime-1.60.0-py3-none-any.whl (2.3 kB)\nDownloading azureml_dataprep-5.1.6-py3-none-any.whl (252 kB)\nDownloading azureml_dataprep_native-41.0.0-cp39-cp39-manylinux1_x86_64.whl (187 kB)\nDownloading azureml_dataprep_rslex-2.22.5-cp39-cp39-manylinux1_x86_64.whl (24.8 MB)\n   ━━━━━━━━━━━━━━━━━━━━━━━━━━━━━━━━━━━━━━━━ 24.8/24.8 MB 108.7 MB/s eta 0:00:00\nDownloading azureml_inference_server_http-1.4.0-py3-none-any.whl (42 kB)\nDownloading inference_schema-1.8-py3-none-any.whl (21 kB)\nDownloading azureml_mlflow-1.60.0.post1-py3-none-any.whl (1.0 MB)\n   ━━━━━━━━━━━━━━━━━━━━━━━━━━━━━━━━━━━━━━━━ 1.0/1.0 MB 26.9 MB/s eta 0:00:00\nDownloading azure_storage_blob-12.19.0-py3-none-any.whl (394 kB)\nDownloading azureml_telemetry-1.60.0-py3-none-any.whl (30 kB)\nDownloading azureml_train_automl_client-1.60.0-py3-none-any.whl (137 kB)\nDownloading azureml_train_core-1.60.0-py3-none-any.whl (8.6 MB)\n   ━━━━━━━━━━━━━━━━━━━━━━━━━━━━━━━━━━━━━━━━ 8.6/8.6 MB 90.4 MB/s eta 0:00:00\nDownloading azureml_train_restclients_hyperdrive-1.60.0-py3-none-any.whl (18 kB)\nDownloading azureml_training_tabular-1.60.0-py3-none-any.whl (1.7 MB)\n   ━━━━━━━━━━━━━━━━━━━━━━━━━━━━━━━━━━━━━━━━ 1.7/1.7 MB 34.2 MB/s eta 0:00:00\nDownloading bokeh-2.4.3-py3-none-any.whl (18.5 MB)\n   ━━━━━━━━━━━━━━━━━━━━━━━━━━━━━━━━━━━━━━━━ 18.5/18.5 MB 114.7 MB/s eta 0:00:00\nDownloading boto3-1.20.19-py3-none-any.whl (131 kB)\nDownloading botocore-1.23.19-py3-none-any.whl (8.4 MB)\n   ━━━━━━━━━━━━━━━━━━━━━━━━━━━━━━━━━━━━━━━━ 8.4/8.4 MB 43.7 MB/s eta 0:00:00\nDownloading cloudpickle-2.2.1-py3-none-any.whl (25 kB)\nDownloading contextlib2-21.6.0-py2.py3-none-any.whl (13 kB)\nDownloading dask-2023.2.0-py3-none-any.whl (1.2 MB)\n   ━━━━━━━━━━━━━━━━━━━━━━━━━━━━━━━━━━━━━━━━ 1.2/1.2 MB 31.2 MB/s eta 0:00:00\nDownloading distributed-2023.2.0-py3-none-any.whl (934 kB)\n   ━━━━━━━━━━━━━━━━━━━━━━━━━━━━━━━━━━━━━━━━ 934.8/934.8 kB 12.1 MB/s eta 0:00:00\nDownloading dataclasses-0.6-py3-none-any.whl (14 kB)\nDownloading dill-0.3.9-py3-none-any.whl (119 kB)\nDownloading docker-7.1.0-py3-none-any.whl (147 kB)\nDownloading dotnetcore2-3.1.23-py3-none-manylinux1_x86_64.whl (31.1 MB)\n   ━━━━━━━━━━━━━━━━━━━━━━━━━━━━━━━━━━━━━━━━ 31.1/31.1 MB 111.9 MB/s eta 0:00:00\nDownloading flask-3.0.3-py3-none-any.whl (101 kB)\nDownloading flask_cors-5.0.1-py3-none-any.whl (11 kB)\nDownloading humanfriendly-10.0-py2.py3-none-any.whl (86 kB)\nDownloading importlib_metadata-8.2.0-py3-none-any.whl (25 kB)\nDownloading importlib_resources-6.4.0-py3-none-any.whl (38 kB)\nDownloading interpret_community-0.31.0-py3-none-any.whl (130 kB)\nDownloading interpret_core-0.5.0-py3-none-any.whl (15.8 MB)\n   ━━━━━━━━━━━━━━━━━━━━━━━━━━━━━━━━━━━━━━━━ 15.8/15.8 MB 83.8 MB/s eta 0:00:00\nDownloading isodate-0.7.2-py3-none-any.whl (22 kB)\nDownloading jinja2-3.1.6-py3-none-any.whl (134 kB)\nDownloading jmespath-0.10.0-py2.py3-none-any.whl (24 kB)\nDownloading jsonpickle-4.1.0-py3-none-any.whl (46 kB)\nDownloading keras2onnx-1.6.0-py3-none-any.whl (219 kB)\nDownloading knack-0.12.0-py3-none-any.whl (60 kB)\nDownloading lightgbm-4.6.0-py3-none-manylinux_2_28_x86_64.whl (3.6 MB)\n   ━━━━━━━━━━━━━━━━━━━━━━━━━━━━━━━━━━━━━━━━ 3.6/3.6 MB 73.6 MB/s eta 0:00:00\nDownloading ml_wrappers-0.5.6-py3-none-any.whl (52 kB)\nDownloading mlflow_skinny-2.22.0-py3-none-any.whl (6.3 MB)\n   ━━━━━━━━━━━━━━━━━━━━━━━━━━━━━━━━━━━━━━━━ 6.3/6.3 MB 70.0 MB/s eta 0:00:00\nDownloading cachetools-5.5.2-py3-none-any.whl (10 kB)\nDownloading click-8.1.8-py3-none-any.whl (98 kB)\nDownloading databricks_sdk-0.55.0-py3-none-any.whl (722 kB)\n   ━━━━━━━━━━━━━━━━━━━━━━━━━━━━━━━━━━━━━━━━ 722.9/722.9 kB 22.7 MB/s eta 0:00:00\nDownloading fastapi-0.115.12-py3-none-any.whl (95 kB)\nDownloading GitPython-3.1.44-py3-none-any.whl (207 kB)\nDownloading gitdb-4.0.12-py3-none-any.whl (62 kB)\nDownloading google_auth-2.40.2-py2.py3-none-any.whl (216 kB)\nDownloading msal-1.32.3-py3-none-any.whl (115 kB)\nDownloading cryptography-45.0.3-cp37-abi3-manylinux_2_34_x86_64.whl (4.5 MB)\n   ━━━━━━━━━━━━━━━━━━━━━━━━━━━━━━━━━━━━━━━━ 4.5/4.5 MB 84.1 MB/s eta 0:00:00\nDownloading msal_extensions-1.3.1-py3-none-any.whl (20 kB)\nDownloading msrest-0.7.1-py3-none-any.whl (85 kB)\nDownloading msrestazure-0.6.4.post1-py2.py3-none-any.whl (40 kB)\nDownloading ndg_httpsclient-0.5.1-py3-none-any.whl (34 kB)\nDownloading numba-0.56.4-cp39-cp39-manylinux2014_x86_64.manylinux_2_17_x86_64.whl (3.5 MB)\n   ━━━━━━━━━━━━━━━━━━━━━━━━━━━━━━━━━━━━━━━━ 3.5/3.5 MB 48.4 MB/s eta 0:00:00\nDownloading llvmlite-0.39.1-cp39-cp39-manylinux_2_17_x86_64.manylinux2014_x86_64.whl (34.6 MB)\n   ━━━━━━━━━━━━━━━━━━━━━━━━━━━━━━━━━━━━━━━━ 34.6/34.6 MB 101.5 MB/s eta 0:00:00\nDownloading onnx-1.17.0-cp39-cp39-manylinux_2_17_x86_64.manylinux2014_x86_64.whl (16.0 MB)\n   ━━━━━━━━━━━━━━━━━━━━━━━━━━━━━━━━━━━━━━━━ 16.0/16.0 MB 119.4 MB/s eta 0:00:00\nDownloading onnxruntime-1.17.3-cp39-cp39-manylinux_2_27_x86_64.manylinux_2_28_x86_64.whl (6.8 MB)\n   ━━━━━━━━━━━━━━━━━━━━━━━━━━━━━━━━━━━━━━━━ 6.8/6.8 MB 82.4 MB/s eta 0:00:00\nDownloading opencensus_ext_azure-1.1.14-py2.py3-none-any.whl (43 kB)\nDownloading azure_identity-1.23.0-py3-none-any.whl (186 kB)\nDownloading opencensus-0.11.4-py2.py3-none-any.whl (128 kB)\nDownloading google_api_core-2.24.2-py3-none-any.whl (160 kB)\nDownloading googleapis_common_protos-1.70.0-py3-none-any.whl (294 kB)\nDownloading opentelemetry_api-1.33.1-py3-none-any.whl (65 kB)\nDownloading opentelemetry_sdk-1.33.1-py3-none-any.whl (118 kB)\nDownloading opentelemetry_semantic_conventions-0.54b1-py3-none-any.whl (194 kB)\nDownloading packaging-24.2-py3-none-any.whl (65 kB)\nDownloading paramiko-3.5.1-py3-none-any.whl (227 kB)\nDownloading pathspec-0.12.1-py3-none-any.whl (31 kB)\nDownloading proto_plus-1.26.1-py3-none-any.whl (50 kB)\nDownloading protobuf-6.31.1-cp39-abi3-manylinux2014_x86_64.whl (321 kB)\nDownloading pydantic-2.9.2-py3-none-any.whl (434 kB)\nDownloading pydantic_core-2.23.4-cp39-cp39-manylinux_2_17_x86_64.manylinux2014_x86_64.whl (2.1 MB)\n   ━━━━━━━━━━━━━━━━━━━━━━━━━━━━━━━━━━━━━━━━ 2.1/2.1 MB 54.7 MB/s eta 0:00:00\nDownloading PyJWT-2.10.1-py3-none-any.whl (22 kB)\nDownloading pyopenssl-25.1.0-py3-none-any.whl (56 kB)\nDownloading PyYAML-6.0.2-cp39-cp39-manylinux_2_17_x86_64.manylinux2014_x86_64.whl (737 kB)\n   ━━━━━━━━━━━━━━━━━━━━━━━━━━━━━━━━━━━━━━━━ 737.4/737.4 kB 24.0 MB/s eta 0:00:00\nDownloading raiutils-0.4.2-py3-none-any.whl (17 kB)\nDownloading requests-2.32.3-py3-none-any.whl (64 kB)\nDownloading charset_normalizer-3.4.2-cp39-cp39-manylinux_2_17_x86_64.manylinux2014_x86_64.whl (149 kB)\nDownloading idna-3.10-py3-none-any.whl (70 kB)\nDownloading rsa-4.9.1-py3-none-any.whl (34 kB)\nDownloading s3transfer-0.5.2-py3-none-any.whl (79 kB)\nDownloading scipy-1.10.1-cp39-cp39-manylinux_2_17_x86_64.manylinux2014_x86_64.whl (34.5 MB)\n   ━━━━━━━━━━━━━━━━━━━━━━━━━━━━━━━━━━━━━━━━ 34.5/34.5 MB 121.1 MB/s eta 0:00:00\nDownloading SecretStorage-3.3.3-py3-none-any.whl (15 kB)\nDownloading shap-0.44.0-cp39-cp39-manylinux_2_12_x86_64.manylinux2010_x86_64.manylinux_2_17_x86_64.manylinux2014_x86_64.whl (533 kB)\n   ━━━━━━━━━━━━━━━━━━━━━━━━━━━━━━━━━━━━━━━━ 533.4/533.4 kB 10.8 MB/s eta 0:00:00\nDownloading slicer-0.0.7-py3-none-any.whl (14 kB)\nDownloading sklearn_pandas-1.7.0-py2.py3-none-any.whl (10 kB)\nDownloading smmap-5.0.2-py3-none-any.whl (24 kB)\nDownloading sqlparse-0.5.3-py3-none-any.whl (44 kB)\nDownloading starlette-0.46.2-py3-none-any.whl (72 kB)\nDownloading anyio-4.9.0-py3-none-any.whl (100 kB)\nDownloading statsmodels-0.13.5-cp39-cp39-manylinux_2_17_x86_64.manylinux2014_x86_64.whl (9.9 MB)\n   ━━━━━━━━━━━━━━━━━━━━━━━━━━━━━━━━━━━━━━━━ 9.9/9.9 MB 88.5 MB/s eta 0:00:00\nDownloading typing_extensions-4.13.2-py3-none-any.whl (45 kB)\nDownloading urllib3-1.26.20-py2.py3-none-any.whl (144 kB)\nDownloading uvicorn-0.34.2-py3-none-any.whl (62 kB)\nDownloading wrapt-1.16.0-cp39-cp39-manylinux_2_5_x86_64.manylinux1_x86_64.manylinux_2_17_x86_64.manylinux2014_x86_64.whl (80 kB)\nDownloading annotated_types-0.7.0-py3-none-any.whl (13 kB)\nDownloading bcrypt-4.3.0-cp39-abi3-manylinux_2_34_x86_64.whl (284 kB)\nDownloading blinker-1.9.0-py3-none-any.whl (8.5 kB)\nDownloading certifi-2025.4.26-py3-none-any.whl (159 kB)\nDownloading cffi-1.17.1-cp39-cp39-manylinux_2_17_x86_64.manylinux2014_x86_64.whl (445 kB)\nDownloading cmdstanpy-1.2.5-py3-none-any.whl (94 kB)\nDownloading stanio-0.5.1-py3-none-any.whl (8.1 kB)\nDownloading convertdate-2.4.0-py3-none-any.whl (47 kB)\nDownloading cython-3.1.1-cp39-cp39-manylinux_2_17_x86_64.manylinux2014_x86_64.whl (3.3 MB)\n   ━━━━━━━━━━━━━━━━━━━━━━━━━━━━━━━━━━━━━━━━ 3.3/3.3 MB 61.9 MB/s eta 0:00:00\nDownloading Deprecated-1.2.18-py2.py3-none-any.whl (10.0 kB)\nDownloading distro-1.9.0-py3-none-any.whl (20 kB)\nDownloading exceptiongroup-1.3.0-py3-none-any.whl (16 kB)\nDownloading fsspec-2025.5.1-py3-none-any.whl (199 kB)\nDownloading gunicorn-23.0.0-py3-none-any.whl (85 kB)\nDownloading h11-0.16.0-py3-none-any.whl (37 kB)\nDownloading itsdangerous-2.2.0-py3-none-any.whl (16 kB)\nDownloading jeepney-0.9.0-py3-none-any.whl (49 kB)\nDownloading locket-1.0.0-py2.py3-none-any.whl (4.4 kB)\nDownloading LunarCalendar-0.0.9-py2.py3-none-any.whl (18 kB)\nDownloading ephem-4.2-cp39-cp39-manylinux_2_17_x86_64.manylinux2014_x86_64.whl (1.8 MB)\n   ━━━━━━━━━━━━━━━━━━━━━━━━━━━━━━━━━━━━━━━━ 1.8/1.8 MB 49.0 MB/s eta 0:00:00\nDownloading MarkupSafe-3.0.2-cp39-cp39-manylinux_2_17_x86_64.manylinux2014_x86_64.whl (20 kB)\nDownloading matplotlib-3.9.4-cp39-cp39-manylinux_2_17_x86_64.manylinux2014_x86_64.whl (8.3 MB)\n   ━━━━━━━━━━━━━━━━━━━━━━━━━━━━━━━━━━━━━━━━ 8.3/8.3 MB 91.6 MB/s eta 0:00:00\nDownloading contourpy-1.3.0-cp39-cp39-manylinux_2_17_x86_64.manylinux2014_x86_64.whl (321 kB)\nDownloading cycler-0.12.1-py3-none-any.whl (8.3 kB)\nDownloading fonttools-4.58.1-cp39-cp39-manylinux_2_17_x86_64.manylinux2014_x86_64.whl (4.7 MB)\n   ━━━━━━━━━━━━━━━━━━━━━━━━━━━━━━━━━━━━━━━━ 4.7/4.7 MB 78.4 MB/s eta 0:00:00\nDownloading kiwisolver-1.4.7-cp39-cp39-manylinux_2_12_x86_64.manylinux2010_x86_64.whl (1.6 MB)\n   ━━━━━━━━━━━━━━━━━━━━━━━━━━━━━━━━━━━━━━━━ 1.6/1.6 MB 45.9 MB/s eta 0:00:00\nDownloading msgpack-1.1.0-cp39-cp39-manylinux_2_17_x86_64.manylinux2014_x86_64.whl (377 kB)\nDownloading opencensus_context-0.1.3-py2.py3-none-any.whl (5.1 kB)\nDownloading partd-1.4.2-py3-none-any.whl (18 kB)\nDownloading patsy-1.0.1-py2.py3-none-any.whl (232 kB)\nDownloading pillow-11.2.1-cp39-cp39-manylinux_2_28_x86_64.whl (4.6 MB)\n   ━━━━━━━━━━━━━━━━━━━━━━━━━━━━━━━━━━━━━━━━ 4.6/4.6 MB 81.7 MB/s eta 0:00:00\nDownloading property_cached-1.6.4-py2.py3-none-any.whl (7.8 kB)\nDownloading pyasn1-0.6.1-py3-none-any.whl (83 kB)\nDownloading pyasn1_modules-0.4.2-py3-none-any.whl (181 kB)\nDownloading PyNaCl-1.5.0-cp36-abi3-manylinux_2_17_x86_64.manylinux2014_x86_64.manylinux_2_24_x86_64.whl (856 kB)\n   ━━━━━━━━━━━━━━━━━━━━━━━━━━━━━━━━━━━━━━━━ 856.7/856.7 kB 30.0 MB/s eta 0:00:00\nDownloading pyparsing-3.2.3-py3-none-any.whl (111 kB)\nDownloading PySocks-1.7.1-py3-none-any.whl (16 kB)\nDownloading requests_oauthlib-2.0.0-py2.py3-none-any.whl (24 kB)\nDownloading oauthlib-3.2.2-py3-none-any.whl (151 kB)\nDownloading sniffio-1.3.1-py3-none-any.whl (10 kB)\nDownloading sortedcontainers-2.4.0-py2.py3-none-any.whl (29 kB)\nDownloading tblib-3.1.0-py3-none-any.whl (12 kB)\nDownloading toolz-1.0.0-py3-none-any.whl (56 kB)\nDownloading tornado-6.5.1-cp39-abi3-manylinux_2_5_x86_64.manylinux1_x86_64.manylinux_2_17_x86_64.manylinux2014_x86_64.whl (443 kB)\nDownloading tqdm-4.67.1-py3-none-any.whl (78 kB)\nDownloading werkzeug-3.1.3-py3-none-any.whl (224 kB)\nDownloading zict-3.0.0-py2.py3-none-any.whl (43 kB)\nDownloading zipp-3.22.0-py3-none-any.whl (9.8 kB)\nDownloading applicationinsights-0.11.10-py2.py3-none-any.whl (55 kB)\nDownloading backports.tempfile-1.0-py2.py3-none-any.whl (4.4 kB)\nDownloading backports.weakref-1.0.post1-py2.py3-none-any.whl (5.2 kB)\nDownloading coloredlogs-15.0.1-py2.py3-none-any.whl (46 kB)\nDownloading flatbuffers-25.2.10-py2.py3-none-any.whl (30 kB)\nDownloading jsonschema-4.24.0-py3-none-any.whl (88 kB)\nDownloading attrs-25.3.0-py3-none-any.whl (63 kB)\nDownloading jsonschema_specifications-2025.4.1-py3-none-any.whl (18 kB)\nDownloading referencing-0.36.2-py3-none-any.whl (26 kB)\nDownloading rpds_py-0.25.1-cp39-cp39-manylinux_2_17_x86_64.manylinux2014_x86_64.whl (386 kB)\nDownloading pkginfo-1.12.1.2-py3-none-any.whl (32 kB)\nDownloading pycparser-2.22-py3-none-any.whl (117 kB)\nDownloading pydantic_settings-2.9.1-py3-none-any.whl (44 kB)\nDownloading python_dotenv-1.1.0-py3-none-any.whl (20 kB)\nDownloading typing_inspection-0.4.1-py3-none-any.whl (14 kB)\nDownloading pygments-2.19.1-py3-none-any.whl (1.2 MB)\n   ━━━━━━━━━━━━━━━━━━━━━━━━━━━━━━━━━━━━━━━━ 1.2/1.2 MB 33.3 MB/s eta 0:00:00\nDownloading sympy-1.14.0-py3-none-any.whl (6.3 MB)\n   ━━━━━━━━━━━━━━━━━━━━━━━━━━━━━━━━━━━━━━━━ 6.3/6.3 MB 98.2 MB/s eta 0:00:00\nDownloading mpmath-1.3.0-py3-none-any.whl (536 kB)\n   ━━━━━━━━━━━━━━━━━━━━━━━━━━━━━━━━━━━━━━━━ 536.2/536.2 kB 13.6 MB/s eta 0:00:00\nDownloading tabulate-0.9.0-py3-none-any.whl (35 kB)\nDownloading termcolor-3.1.0-py3-none-any.whl (7.7 kB)\nBuilding wheels for collected packages: fusepy, pymeeus, fire\n  Building wheel for fusepy (setup.py): started\n  Building wheel for fusepy (setup.py): finished with status 'done'\n  Created wheel for fusepy: filename=fusepy-3.0.1-py3-none-any.whl size=10539 sha256=189cb7381f58f47789dd79746df534b986f4407ef147a7b92b0bfe27b9ded930\n  Stored in directory: /root/.cache/pip/wheels/d5/60/5d/807081f971b004ab5c86eba746c6b5e72d0258215bf2425d68\n  Building wheel for pymeeus (setup.py): started\n  Building wheel for pymeeus (setup.py): finished with status 'done'\n  Created wheel for pymeeus: filename=pymeeus-0.5.12-py3-none-any.whl size=732094 sha256=13658423dca36b10085c4464f58a7e98b1ac146cebf2071d2fc4e2ff82bf9ee5\n  Stored in directory: /root/.cache/pip/wheels/04/1f/e5/8dd0c661cd8d252817655dc14a84f7ae045d6616594145aa81\n  Building wheel for fire (setup.py): started\n  Building wheel for fire (setup.py): finished with status 'done'\n  Created wheel for fire: filename=fire-0.7.0-py3-none-any.whl size=114330 sha256=1a70f319613a36bd4ce0a92e9fbdd241c4811f2c3f4bc83ef1d8ade51939032a\n  Stored in directory: /root/.cache/pip/wheels/3b/ee/ac/319a7b7f331f61050d0d54425079b2a883b445be3c7284a4eb\nSuccessfully built fusepy pymeeus fire\nInstalling collected packages: sortedcontainers, pymeeus, opencensus-context, mpmath, fusepy, flatbuffers, ephem, dataclasses, backports.weakref, azureml-dataprep-rslex, azureml-dataprep-native, azure-common, applicationinsights, zipp, zict, wrapt, urllib3, typing-extensions, tqdm, tornado, toolz, termcolor, tblib, tabulate, sympy, stanio, sqlparse, sniffio, smmap, smart-open, slicer, scipy, rpds-py, pyyaml, python-dotenv, PySocks, pyparsing, PyJWT, pygments, pycparser, pyasn1, pyarrow, protobuf, property-cached, pkginfo, pillow, patsy, pathspec, packaging, oauthlib, msgpack, MarkupSafe, locket, llvmlite, kiwisolver, jsonpickle, joblib, jmespath, jeepney, itsdangerous, isodate, idna, humanfriendly, h11, fsspec, fonttools, distro, dill, Cython, cycler, convertdate, contourpy, contextlib2, cloudpickle, click, charset-normalizer, certifi, cachetools, blinker, bcrypt, backports.tempfile, attrs, argcomplete, annotated-types, xgboost, werkzeug, uvicorn, typing-inspection, rsa, requests, referencing, pydantic-core, pyasn1-modules, proto-plus, partd, onnx, numba, LunarCalendar, lightgbm, knack, jinja2, inference-schema, importlib-resources, importlib-metadata, gunicorn, googleapis-common-protos, gitdb, gensim, fire, exceptiongroup, dotnetcore2, deprecated, coloredlogs, cffi, botocore, statsmodels, sklearn_pandas, shap, s3transfer, requests-oauthlib, raiutils, pynacl, pydantic, opentelemetry-api, onnxruntime, onnxmltools, onnxconverter-common, ml-wrappers, matplotlib, jsonschema-specifications, interpret-core, google-auth, gitpython, flask, docker, dask, cryptography, cmdstanpy, bokeh, azure-core, anyio, starlette, skl2onnx, SecretStorage, pyopenssl, pydantic-settings, prophet, pmdarima, paramiko, opentelemetry-semantic-conventions, msrest, keras2onnx, jsonschema, interpret-community, google-api-core, flask-cors, distributed, databricks-sdk, boto3, azure-storage-queue, azure-storage-blob, azure-mgmt-core, arch, adal, opentelemetry-sdk, opencensus, ndg-httpsclient, msrestazure, msal, fastapi, azure-mgmt-storage, azure-mgmt-resource, azure-mgmt-network, azure-mgmt-keyvault, azure-mgmt-containerregistry, azure-mgmt-authorization, msal-extensions, mlflow-skinny, azureml-train-restclients-hyperdrive, azure-graphrbac, azureml-core, azure-identity, opencensus-ext-azure, azureml-telemetry, azureml-mlflow, azureml-interpret, azureml-dataprep, azureml-train-core, azureml-inference-server-http, azureml-dataset-runtime, azureml-automl-core, azureml-training-tabular, azureml-train-automl-client, azureml-defaults, azureml-automl-runtime, azureml-train-automl-runtime\n  Attempting uninstall: scipy\n    Found existing installation: scipy 1.13.1\n    Uninstalling scipy-1.13.1:\n      Successfully uninstalled scipy-1.13.1\n  Attempting uninstall: joblib\n    Found existing installation: joblib 1.4.2\n    Uninstalling joblib-1.4.2:\n      Successfully uninstalled joblib-1.4.2\n\nSuccessfully installed Cython-3.1.1 LunarCalendar-0.0.9 MarkupSafe-3.0.2 PyJWT-2.10.1 PySocks-1.7.1 SecretStorage-3.3.3 adal-1.2.7 annotated-types-0.7.0 anyio-4.9.0 applicationinsights-0.11.10 arch-5.6.0 argcomplete-3.6.2 attrs-25.3.0 azure-common-1.1.28 azure-core-1.34.0 azure-graphrbac-0.61.2 azure-identity-1.23.0 azure-mgmt-authorization-4.0.0 azure-mgmt-containerregistry-13.0.0 azure-mgmt-core-1.5.0 azure-mgmt-keyvault-11.0.0 azure-mgmt-network-29.0.0 azure-mgmt-resource-23.4.0 azure-mgmt-storage-23.0.0 azure-storage-blob-12.19.0 azure-storage-queue-12.12.0 azureml-automl-core-1.60.0 azureml-automl-runtime-1.60.0 azureml-core-1.60.0.post1 azureml-dataprep-5.1.6 azureml-dataprep-native-41.0.0 azureml-dataprep-rslex-2.22.5 azureml-dataset-runtime-1.60.0 azureml-defaults-1.60.0 azureml-inference-server-http-1.4.0 azureml-interpret-1.60.0 azureml-mlflow-1.60.0.post1 azureml-telemetry-1.60.0 azureml-train-automl-client-1.60.0 azureml-train-automl-runtime-1.60.0 azureml-train-core-1.60.0 azureml-train-restclients-hyperdrive-1.60.0 azureml-training-tabular-1.60.0 backports.tempfile-1.0 backports.weakref-1.0.post1 bcrypt-4.3.0 blinker-1.9.0 bokeh-2.4.3 boto3-1.20.19 botocore-1.23.19 cachetools-5.5.2 certifi-2025.4.26 cffi-1.17.1 charset-normalizer-3.4.2 click-8.1.8 cloudpickle-2.2.1 cmdstanpy-1.2.5 coloredlogs-15.0.1 contextlib2-21.6.0 contourpy-1.3.0 convertdate-2.4.0 cryptography-45.0.3 cycler-0.12.1 dask-2023.2.0 databricks-sdk-0.55.0 dataclasses-0.6 deprecated-1.2.18 dill-0.3.9 distributed-2023.2.0 distro-1.9.0 docker-7.1.0 dotnetcore2-3.1.23 ephem-4.2 exceptiongroup-1.3.0 fastapi-0.115.12 fire-0.7.0 flask-3.0.3 flask-cors-5.0.1 flatbuffers-25.2.10 fonttools-4.58.1 fsspec-2025.5.1 fusepy-3.0.1 gensim-4.3.2 gitdb-4.0.12 gitpython-3.1.44 google-api-core-2.24.2 google-auth-2.40.2 googleapis-common-protos-1.70.0 gunicorn-23.0.0 h11-0.16.0 humanfriendly-10.0 idna-3.10 importlib-metadata-8.2.0 importlib-resources-6.4.0 inference-schema-1.8 interpret-community-0.31.0 interpret-core-0.5.0 isodate-0.7.2 itsdangerous-2.2.0 jeepney-0.9.0 jinja2-3.1.6 jmespath-0.10.0 joblib-1.2.0 jsonpickle-4.1.0 jsonschema-4.24.0 jsonschema-specifications-2025.4.1 keras2onnx-1.6.0 kiwisolver-1.4.7 knack-0.12.0 lightgbm-4.6.0 llvmlite-0.39.1 locket-1.0.0 matplotlib-3.9.4 ml-wrappers-0.5.6 mlflow-skinny-2.22.0 mpmath-1.3.0 msal-1.32.3 msal-extensions-1.3.1 msgpack-1.1.0 msrest-0.7.1 msrestazure-0.6.4.post1 ndg-httpsclient-0.5.1 numba-0.56.4 oauthlib-3.2.2 onnx-1.17.0 onnxconverter-common-1.13.0 onnxmltools-1.12.0 onnxruntime-1.17.3 opencensus-0.11.4 opencensus-context-0.1.3 opencensus-ext-azure-1.1.14 opentelemetry-api-1.33.1 opentelemetry-sdk-1.33.1 opentelemetry-semantic-conventions-0.54b1 packaging-24.2 paramiko-3.5.1 partd-1.4.2 pathspec-0.12.1 patsy-1.0.1 pillow-11.2.1 pkginfo-1.12.1.2 pmdarima-1.8.5 property-cached-1.6.4 prophet-1.1.4 proto-plus-1.26.1 protobuf-6.31.1 pyarrow-14.0.2 pyasn1-0.6.1 pyasn1-modules-0.4.2 pycparser-2.22 pydantic-2.9.2 pydantic-core-2.23.4 pydantic-settings-2.9.1 pygments-2.19.1 pymeeus-0.5.12 pynacl-1.5.0 pyopenssl-25.1.0 pyparsing-3.2.3 python-dotenv-1.1.0 pyyaml-6.0.2 raiutils-0.4.2 referencing-0.36.2 requests-2.32.3 requests-oauthlib-2.0.0 rpds-py-0.25.1 rsa-4.9.1 s3transfer-0.5.2 scipy-1.10.1 shap-0.44.0 skl2onnx-1.15.0 sklearn_pandas-1.7.0 slicer-0.0.7 smart-open-6.4.0 smmap-5.0.2 sniffio-1.3.1 sortedcontainers-2.4.0 sqlparse-0.5.3 stanio-0.5.1 starlette-0.46.2 statsmodels-0.13.5 sympy-1.14.0 tabulate-0.9.0 tblib-3.1.0 termcolor-3.1.0 toolz-1.0.0 tornado-6.5.1 tqdm-4.67.1 typing-extensions-4.13.2 typing-inspection-0.4.1 urllib3-1.26.20 uvicorn-0.34.2 werkzeug-3.1.3 wrapt-1.16.0 xgboost-1.5.2 zict-3.0.0 zipp-3.22.0\n\n\b\bdone\n#\n# To activate this environment, use\n#\n#     $ conda activate inf-conda-env\n#\n# To deactivate an active environment, use\n#\n#     $ conda deactivate\n\n................. ---> 38fd48304c3e\nStep 6/6 : CMD [\"conda\", \"run\", \"--no-capture-output\", \"-n\", \"inf-conda-env\", \"runsvdir\", \"/var/runit\"]\n ---> Running in e1879a236334\n.. ---> 5f15769ab98e\nSuccessfully built 5f15769ab98e\nSuccessfully tagged claims-3y-classification-endpoint:local-model-testing\n\nStarting up endpoint..."
        },
        {
          "output_type": "stream",
          "name": "stdout",
          "text": "http://localhost:32770/score\n"
        }
      ],
      "execution_count": 18,
      "metadata": {
        "gather": {
          "logged": 1748635010905
        }
      }
    },
    {
      "cell_type": "markdown",
      "source": [
        "### Submit a request to local endpoint"
      ],
      "metadata": {
        "nteract": {
          "transient": {
            "deleting": false
          }
        }
      }
    },
    {
      "cell_type": "code",
      "source": [
        "import requests  # Import requests library to make HTTP requests  \n",
        "import json  # Import json library for parsing JSON  \n",
        "\n",
        "validation_df = pd.read_csv(f\"{validate_dir}/validate.csv\")\n",
        "  \n",
        "# Prepare the data frame for sending to the scoring endpoint  \n",
        "hold_df = validation_df  # Assign the validation dataframe to hold_df  \n",
        "hold_df = hold_df.reset_index()  # Reset index to ensure proper JSON formatting  \n",
        "hold_df = hold_df.drop(columns=['long_term_3y', 'index'])  # Drop 'index' columns as they are not needed for prediction  \n",
        "\n",
        "payload = {\n",
        "    \"data\": hold_df.to_dict(orient=\"records\"),\n",
        "    \"method\": \"predict_proba\"\n",
        "}\n",
        "\n",
        "# Send a POST request to the scoring URI with the data to get predictions  \n",
        "# Convert the dataframe to JSON format and specify the correct content type  \n",
        "resp = requests.post(  \n",
        "    scoring_uri,  \n",
        "    json=payload,  # Convert dataframe to dictionary and then to JSON string  \n",
        "    headers={'Content-Type': 'application/json'}  # Set the header to indicate JSON content  \n",
        ")  \n",
        "  \n",
        "# Parse the JSON response to extract the predictions  \n",
        "result = json.loads(resp.json())['result']  # Load JSON response and extract the 'result' field which contains predictions  \n",
        "  \n",
        "# Create a new dataframe and predict \n",
        "result_df = validation_df  # Use the original validation dataframe  \n",
        "proba_arr = np.array(result)                   # shape (n_samples, 2)\n",
        "result_df['predicted_long_term_3y_proba'] = proba_arr[:, 1]\n",
        "result_df['predicted_long_term_3y'] = (\n",
        "    result_df['predicted_long_term_3y_proba'] > 0.5\n",
        ").astype(int)\n",
        "\n",
        "# Display the dataframe with predictions  \n",
        "result_df.head(5)"
      ],
      "outputs": [
        {
          "output_type": "execute_result",
          "execution_count": 24,
          "data": {
            "text/plain": "      ClaimNumber  long_term_3y SOJ         DOI RxDateOrDispenseDate  \\\n0    196854318051             0  CA  2022-02-06           2023-07-12   \n1    WC197-A55957             1  UT  2020-06-10           2024-05-25   \n2    WC197-C51207             1  TX  2020-09-08           2025-04-11   \n3    WC197-C51207             1  TX  2020-09-08           2024-03-09   \n4  047096020-0001             0  NJ  2021-09-29           2021-11-15   \n\n   active_1m  active_2m  active_3m  active_4m  TransactionTypeInd  ...  \\\n0          0          0          0          0                   1  ...   \n1          0          0          0          0                   1  ...   \n2          0          0          0          0                   1  ...   \n3          0          0          0          0                   1  ...   \n4          0          1          0          0                   1  ...   \n\n   DaysSupply  PrescriberNPI  NABPNumber             GPI  gpi_2  \\\n0          30     1487702353     5621013  75100010000305     75   \n1          30     1851679351     4613584  66100007200620     66   \n2         180     1710369129     5912488  58160070100310     58   \n3          90     1710369129     5912488  41550020100320     41   \n4          14     1740703206     3155719  72600030000140     72   \n\n  cl_injury_type_code  cl_body_part                   provider_specialty  \\\n0                  28            25                 Orthopaedic Surgery    \n1                  52            55                       Pain Medicine    \n2                  90            90  Physical Medicine & Rehabilitation    \n3                  90            90  Physical Medicine & Rehabilitation    \n4                  00            00                 Physician Assistant    \n\n  predicted_long_term_3y_proba predicted_long_term_3y  \n0                     0.008040                      0  \n1                     0.998660                      1  \n2                     0.998771                      1  \n3                     0.998834                      1  \n4                     0.003739                      0  \n\n[5 rows x 22 columns]",
            "text/html": "<div>\n<style scoped>\n    .dataframe tbody tr th:only-of-type {\n        vertical-align: middle;\n    }\n\n    .dataframe tbody tr th {\n        vertical-align: top;\n    }\n\n    .dataframe thead th {\n        text-align: right;\n    }\n</style>\n<table border=\"1\" class=\"dataframe\">\n  <thead>\n    <tr style=\"text-align: right;\">\n      <th></th>\n      <th>ClaimNumber</th>\n      <th>long_term_3y</th>\n      <th>SOJ</th>\n      <th>DOI</th>\n      <th>RxDateOrDispenseDate</th>\n      <th>active_1m</th>\n      <th>active_2m</th>\n      <th>active_3m</th>\n      <th>active_4m</th>\n      <th>TransactionTypeInd</th>\n      <th>...</th>\n      <th>DaysSupply</th>\n      <th>PrescriberNPI</th>\n      <th>NABPNumber</th>\n      <th>GPI</th>\n      <th>gpi_2</th>\n      <th>cl_injury_type_code</th>\n      <th>cl_body_part</th>\n      <th>provider_specialty</th>\n      <th>predicted_long_term_3y_proba</th>\n      <th>predicted_long_term_3y</th>\n    </tr>\n  </thead>\n  <tbody>\n    <tr>\n      <th>0</th>\n      <td>196854318051</td>\n      <td>0</td>\n      <td>CA</td>\n      <td>2022-02-06</td>\n      <td>2023-07-12</td>\n      <td>0</td>\n      <td>0</td>\n      <td>0</td>\n      <td>0</td>\n      <td>1</td>\n      <td>...</td>\n      <td>30</td>\n      <td>1487702353</td>\n      <td>5621013</td>\n      <td>75100010000305</td>\n      <td>75</td>\n      <td>28</td>\n      <td>25</td>\n      <td>Orthopaedic Surgery</td>\n      <td>0.008040</td>\n      <td>0</td>\n    </tr>\n    <tr>\n      <th>1</th>\n      <td>WC197-A55957</td>\n      <td>1</td>\n      <td>UT</td>\n      <td>2020-06-10</td>\n      <td>2024-05-25</td>\n      <td>0</td>\n      <td>0</td>\n      <td>0</td>\n      <td>0</td>\n      <td>1</td>\n      <td>...</td>\n      <td>30</td>\n      <td>1851679351</td>\n      <td>4613584</td>\n      <td>66100007200620</td>\n      <td>66</td>\n      <td>52</td>\n      <td>55</td>\n      <td>Pain Medicine</td>\n      <td>0.998660</td>\n      <td>1</td>\n    </tr>\n    <tr>\n      <th>2</th>\n      <td>WC197-C51207</td>\n      <td>1</td>\n      <td>TX</td>\n      <td>2020-09-08</td>\n      <td>2025-04-11</td>\n      <td>0</td>\n      <td>0</td>\n      <td>0</td>\n      <td>0</td>\n      <td>1</td>\n      <td>...</td>\n      <td>180</td>\n      <td>1710369129</td>\n      <td>5912488</td>\n      <td>58160070100310</td>\n      <td>58</td>\n      <td>90</td>\n      <td>90</td>\n      <td>Physical Medicine &amp; Rehabilitation</td>\n      <td>0.998771</td>\n      <td>1</td>\n    </tr>\n    <tr>\n      <th>3</th>\n      <td>WC197-C51207</td>\n      <td>1</td>\n      <td>TX</td>\n      <td>2020-09-08</td>\n      <td>2024-03-09</td>\n      <td>0</td>\n      <td>0</td>\n      <td>0</td>\n      <td>0</td>\n      <td>1</td>\n      <td>...</td>\n      <td>90</td>\n      <td>1710369129</td>\n      <td>5912488</td>\n      <td>41550020100320</td>\n      <td>41</td>\n      <td>90</td>\n      <td>90</td>\n      <td>Physical Medicine &amp; Rehabilitation</td>\n      <td>0.998834</td>\n      <td>1</td>\n    </tr>\n    <tr>\n      <th>4</th>\n      <td>047096020-0001</td>\n      <td>0</td>\n      <td>NJ</td>\n      <td>2021-09-29</td>\n      <td>2021-11-15</td>\n      <td>0</td>\n      <td>1</td>\n      <td>0</td>\n      <td>0</td>\n      <td>1</td>\n      <td>...</td>\n      <td>14</td>\n      <td>1740703206</td>\n      <td>3155719</td>\n      <td>72600030000140</td>\n      <td>72</td>\n      <td>00</td>\n      <td>00</td>\n      <td>Physician Assistant</td>\n      <td>0.003739</td>\n      <td>0</td>\n    </tr>\n  </tbody>\n</table>\n<p>5 rows × 22 columns</p>\n</div>"
          },
          "metadata": {}
        }
      ],
      "execution_count": 24,
      "metadata": {
        "gather": {
          "logged": 1748636607148
        }
      }
    },
    {
      "cell_type": "markdown",
      "source": [
        "### Calculate the metrics against validate test set"
      ],
      "metadata": {
        "nteract": {
          "transient": {
            "deleting": false
          }
        }
      }
    },
    {
      "cell_type": "code",
      "source": [
        "import numpy as np\n",
        "\n",
        "# assume `df` has:\n",
        "#   – actual column:   'long_term_3y'\n",
        "#   – predicted column: 'predicted_long_term_3y'\n",
        "# (Rename yours as needed; e.g. if you used 'Predicted RUL', do df.rename(...).)\n",
        "\n",
        "# 1) delta between predicted and actual\n",
        "result_df['delta'] = result_df['predicted_long_term_3y'] - result_df['long_term_3y']\n",
        "\n",
        "# 2) regression‐style metrics\n",
        "mae  = result_df['delta'].abs().mean()\n",
        "rmse = np.sqrt((result_df['delta']**2).mean())\n",
        "print(f\"MAE: {mae:.4f}\")\n",
        "print(f\"RMSE: {rmse:.4f}\")\n",
        "\n",
        "# 3) if this is a binary (or multiclass) classification target,\n",
        "#    overall accuracy is simply fraction where delta == 0:\n",
        "accuracy = (result_df['delta'] == 0).mean()\n",
        "print(f\"Accuracy: {accuracy:.2%}\")"
      ],
      "outputs": [
        {
          "output_type": "stream",
          "name": "stdout",
          "text": "MAE: 0.0000\nRMSE: 0.0000\nAccuracy: 100.00%\n"
        }
      ],
      "execution_count": 25,
      "metadata": {
        "gather": {
          "logged": 1748636609352
        }
      }
    },
    {
      "cell_type": "code",
      "source": [
        "from sklearn.metrics import confusion_matrix\n",
        "import pandas as pd\n",
        "import numpy as np\n",
        "import matplotlib.pyplot as plt\n",
        "import itertools\n",
        "\n",
        "# 1) pull out true & predicted\n",
        "y_true = validation_df['long_term_3y']\n",
        "y_pred = result_df['predicted_long_term_3y']\n",
        "\n",
        "# 2) compute raw counts\n",
        "cm = confusion_matrix(y_true, y_pred, labels=[0,1])\n",
        "cm_df = pd.DataFrame(\n",
        "    cm,\n",
        "    index=['Actual 0','Actual 1'],\n",
        "    columns=['Predicted 0','Predicted 1']\n",
        ")\n",
        "\n",
        "# 3) compute percentages\n",
        "total = cm.sum()\n",
        "cm_perc = cm / total * 100\n",
        "cm_perc_df = pd.DataFrame(\n",
        "    cm_perc,\n",
        "    index=cm_df.index,\n",
        "    columns=cm_df.columns\n",
        ")\n",
        "\n",
        "# 4) combine into one display\n",
        "cm_display = cm_df.astype(str) + \" (\" + cm_perc_df.round(2).astype(str) + \"%)\"\n",
        "print(\"Confusion matrix (count %):\")\n",
        "print(cm_display)\n",
        "\n",
        "# — optional: matplotlib heatmap —\n",
        "fig, ax = plt.subplots()\n",
        "im = ax.imshow(cm, interpolation='nearest', cmap=plt.cm.Blues)\n",
        "for i, j in itertools.product(range(cm.shape[0]), range(cm.shape[1])):\n",
        "    count = cm[i, j]\n",
        "    pct = cm_perc[i, j]\n",
        "    ax.text(j, i, f\"{count}\\n{pct:.1f}%\", ha=\"center\", va=\"center\")\n",
        "ax.set_xticks([0,1]); ax.set_xticklabels(['Pred 0','Pred 1'])\n",
        "ax.set_yticks([0,1]); ax.set_yticklabels(['Act 0','Act 1'])\n",
        "ax.set_xlabel('Predicted label')\n",
        "ax.set_ylabel('True label')\n",
        "ax.set_title('Confusion Matrix')\n",
        "plt.tight_layout()\n",
        "plt.show()"
      ],
      "outputs": [
        {
          "output_type": "stream",
          "name": "stdout",
          "text": "Confusion matrix (count %):\n          Predicted 0  Predicted 1\nActual 0  49 (46.23%)     0 (0.0%)\nActual 1     0 (0.0%)  57 (53.77%)\n"
        },
        {
          "output_type": "display_data",
          "data": {
            "text/plain": "<Figure size 640x480 with 1 Axes>",
            "image/png": "[encoded data removed]"
          },
          "metadata": {}
        }
      ],
      "execution_count": 27,
      "metadata": {
        "gather": {
          "logged": 1748636768539
        }
      }
    }
  ],
  "metadata": {
    "kernelspec": {
      "name": "python310-sdkv2",
      "language": "python",
      "display_name": "Python 3.10 - SDK v2"
    },
    "language_info": {
      "name": "python",
      "version": "3.10.16",
      "mimetype": "text/x-python",
      "codemirror_mode": {
        "name": "ipython",
        "version": 3
      },
      "pygments_lexer": "ipython3",
      "nbconvert_exporter": "python",
      "file_extension": ".py"
    },
    "microsoft": {
      "ms_spell_check": {
        "ms_spell_check_language": "en"
      },
      "host": {
        "AzureML": {
          "notebookHasBeenCompleted": true
        }
      }
    },
    "kernel_info": {
      "name": "python310-sdkv2"
    },
    "nteract": {
      "version": "nteract-front-end@1.0.0"
    }
  },
  "nbformat": 4,
  "nbformat_minor": 2
}